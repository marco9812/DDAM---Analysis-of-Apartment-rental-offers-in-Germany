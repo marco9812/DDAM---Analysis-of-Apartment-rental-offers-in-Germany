{
 "cells": [
  {
   "cell_type": "markdown",
   "id": "cccff465-080f-4188-99b2-cea20f6be78f",
   "metadata": {
    "tags": []
   },
   "source": [
    "### Importing libs and instanciating SC and SQLSC"
   ]
  },
  {
   "cell_type": "code",
   "execution_count": 1,
   "id": "bd11c8de-3321-4398-a241-0533711c5030",
   "metadata": {
    "tags": []
   },
   "outputs": [],
   "source": [
    "# useful libraries\n",
    "import pandas as pd\n",
    "import matplotlib.pyplot as plt\n",
    "import seaborn as sns\n",
    "\n",
    "# pyspark libs\n",
    "from pyspark import SparkContext\n",
    "from pyspark.sql import SQLContext, SparkSession, Row, Window\n",
    "from pyspark.sql.types import *\n",
    "import pyspark.sql.functions as F\n",
    "\n",
    "from pyspark.mllib.feature import StandardScaler, Normalizer, HashingTF, IDF\n",
    "from pyspark.mllib.linalg import Vectors, SparseVector\n",
    "from pyspark.mllib.stat import Statistics\n",
    "\n",
    "from pyspark.ml.feature import StringIndexer, VectorIndexer, Imputer"
   ]
  },
  {
   "cell_type": "markdown",
   "id": "8244a5f9-5087-40e8-98b9-b668478db127",
   "metadata": {},
   "source": [
    "### Data in DataFrame and RDD formats"
   ]
  },
  {
   "cell_type": "code",
   "execution_count": 2,
   "id": "27f5aa04-13e0-41b4-ad4a-8c18365c5576",
   "metadata": {},
   "outputs": [
    {
     "name": "stderr",
     "output_type": "stream",
     "text": [
      "Setting default log level to \"WARN\".\n",
      "To adjust logging level use sc.setLogLevel(newLevel). For SparkR, use setLogLevel(newLevel).\n",
      "23/12/14 22:11:03 WARN NativeCodeLoader: Unable to load native-hadoop library for your platform... using builtin-java classes where applicable\n",
      "23/12/14 22:11:04 WARN Utils: Service 'SparkUI' could not bind on port 4040. Attempting port 4041.\n"
     ]
    }
   ],
   "source": [
    "# Create a Spark session\n",
    "ss = SparkSession.builder.appName(\"data_preparation\").getOrCreate()"
   ]
  },
  {
   "cell_type": "code",
   "execution_count": 3,
   "id": "fba6a8d0-3bba-475a-89d9-fa5bfd6f9b6c",
   "metadata": {
    "tags": []
   },
   "outputs": [],
   "source": [
    "# forcing the schema of the dataframe\n",
    "schema = \"regio1 STRING, serviceCharge DOUBLE, heatingType STRING, telekomTvOffer STRING, telekomHybridUploadSpeed STRING, newlyConst BOOLEAN, balcony BOOLEAN, picturecount INT, pricetrend DOUBLE, telekomUploadSpeed DOUBLE, totalRent DOUBLE, yearConstructed INT, scoutId INT, noParkSpaces INT, firingTypes STRING, hasKitchen BOOLEAN, geo_bln STRING, cellar BOOLEAN, yearConstructedRange INT, baseRent DOUBLE, houseNumber STRING, livingSpace DOUBLE, geo_krs STRING, condition STRING, interiorQual STRING, petsAllowed STRING, street STRING, streetPlain STRING, lift BOOLEAN, baseRentRange INT, typeOfFlat STRING, geo_plz STRING, noRooms INT, thermalChar DOUBLE, floor INT, numberOfFloors INT, noRoomsRange INT, garden BOOLEAN, livingSpaceRange INT, regio2 STRING, regio3 STRING, description STRING, facilities STRING, heatingCosts DOUBLE, energyEfficiencyClass STRING, lastRefurbish INT, electricityBasePrice DOUBLE, electricityKwhPrice DOUBLE, date STRING\"\n",
    "\n",
    "fields = [StructField(field_name.split()[0], \n",
    "                      StringType() if field_name.split()[1] == \"STRING\" else \n",
    "                      IntegerType() if field_name.split()[1] == \"INT\" else \n",
    "                      DoubleType() if field_name.split()[1] == \"DOUBLE\" else\n",
    "                      BooleanType() if field_name.split()[1] == \"BOOLEAN\" else\n",
    "                      StringType(), \n",
    "                      True) \n",
    "          for field_name in schema.split(\", \")]\n",
    "\n",
    "custom_schema = StructType(fields)"
   ]
  },
  {
   "cell_type": "code",
   "execution_count": 4,
   "id": "0c837a63-f768-4c6a-9104-686e7963d922",
   "metadata": {
    "tags": []
   },
   "outputs": [
    {
     "name": "stderr",
     "output_type": "stream",
     "text": [
      "                                                                                \r"
     ]
    },
    {
     "name": "stdout",
     "output_type": "stream",
     "text": [
      "+--------------------+--------------------+\n",
      "|         description|          facilities|\n",
      "+--------------------+--------------------+\n",
      "|Die ebenerdig zu ...|Die Wohnung ist m...|\n",
      "|Alles neu macht d...|                  NA|\n",
      "|Der Neubau entste...|* 9 m² Balkon\\n* ...|\n",
      "+--------------------+--------------------+\n",
      "only showing top 3 rows\n",
      "\n"
     ]
    }
   ],
   "source": [
    "# Read the CSV file with multiline values (description and facilities)\n",
    "data = ss.read.schema(custom_schema).options(header = True, inferSchema = True, multiline = True, escape = \"\\\"\").csv(\"immo_data.csv\")\n",
    "\n",
    "# Show the corrected description and facilities fields\n",
    "data.select(\"description\", \"facilities\").show(3)"
   ]
  },
  {
   "cell_type": "code",
   "execution_count": 5,
   "id": "58fb465c-db90-4ad3-8d54-f829572f9b0c",
   "metadata": {
    "tags": []
   },
   "outputs": [
    {
     "name": "stdout",
     "output_type": "stream",
     "text": [
      "['regio1', 'serviceCharge', 'heatingType', 'telekomTvOffer', 'telekomHybridUploadSpeed', 'newlyConst', 'balcony', 'picturecount', 'pricetrend', 'telekomUploadSpeed', 'totalRent', 'yearConstructed', 'scoutId', 'noParkSpaces', 'firingTypes', 'hasKitchen', 'geo_bln', 'cellar', 'yearConstructedRange', 'baseRent', 'houseNumber', 'livingSpace', 'geo_krs', 'condition', 'interiorQual', 'petsAllowed', 'street', 'streetPlain', 'lift', 'baseRentRange', 'typeOfFlat', 'geo_plz', 'noRooms', 'thermalChar', 'floor', 'numberOfFloors', 'noRoomsRange', 'garden', 'livingSpaceRange', 'regio2', 'regio3', 'description', 'facilities', 'heatingCosts', 'energyEfficiencyClass', 'lastRefurbish', 'electricityBasePrice', 'electricityKwhPrice', 'date']\n"
     ]
    }
   ],
   "source": [
    "# attribute names\n",
    "attNames = data.columns\n",
    "print(attNames)"
   ]
  },
  {
   "cell_type": "code",
   "execution_count": 6,
   "id": "3b5cd1de-23c6-4646-be7c-168946ee4323",
   "metadata": {
    "tags": []
   },
   "outputs": [],
   "source": [
    "# rdd of the data without the header\n",
    "datardd = data.rdd"
   ]
  },
  {
   "cell_type": "code",
   "execution_count": 7,
   "id": "3a754069-1cce-4f18-918c-8b10edd235b0",
   "metadata": {
    "tags": []
   },
   "outputs": [
    {
     "name": "stderr",
     "output_type": "stream",
     "text": [
      "[Stage 1:>                                                          (0 + 1) / 1]\r"
     ]
    },
    {
     "name": "stdout",
     "output_type": "stream",
     "text": [
      "shape of the dataframe: (268850, 49)\n"
     ]
    },
    {
     "name": "stderr",
     "output_type": "stream",
     "text": [
      "                                                                                \r"
     ]
    }
   ],
   "source": [
    "# shape of the dataframe\n",
    "print(f\"shape of the dataframe: {data.count(), len(attNames)}\")"
   ]
  },
  {
   "cell_type": "code",
   "execution_count": 8,
   "id": "386874cf-3b41-4fdc-aa8a-cdab16615add",
   "metadata": {
    "tags": []
   },
   "outputs": [
    {
     "name": "stdout",
     "output_type": "stream",
     "text": [
      "[('regio1', 'string'), ('serviceCharge', 'double'), ('heatingType', 'string'), ('telekomTvOffer', 'string'), ('telekomHybridUploadSpeed', 'string'), ('newlyConst', 'boolean'), ('balcony', 'boolean'), ('picturecount', 'int'), ('pricetrend', 'double'), ('telekomUploadSpeed', 'double'), ('totalRent', 'double'), ('yearConstructed', 'int'), ('scoutId', 'int'), ('noParkSpaces', 'int'), ('firingTypes', 'string'), ('hasKitchen', 'boolean'), ('geo_bln', 'string'), ('cellar', 'boolean'), ('yearConstructedRange', 'int'), ('baseRent', 'double'), ('houseNumber', 'string'), ('livingSpace', 'double'), ('geo_krs', 'string'), ('condition', 'string'), ('interiorQual', 'string'), ('petsAllowed', 'string'), ('street', 'string'), ('streetPlain', 'string'), ('lift', 'boolean'), ('baseRentRange', 'int'), ('typeOfFlat', 'string'), ('geo_plz', 'string'), ('noRooms', 'int'), ('thermalChar', 'double'), ('floor', 'int'), ('numberOfFloors', 'int'), ('noRoomsRange', 'int'), ('garden', 'boolean'), ('livingSpaceRange', 'int'), ('regio2', 'string'), ('regio3', 'string'), ('description', 'string'), ('facilities', 'string'), ('heatingCosts', 'double'), ('energyEfficiencyClass', 'string'), ('lastRefurbish', 'int'), ('electricityBasePrice', 'double'), ('electricityKwhPrice', 'double'), ('date', 'string')]\n"
     ]
    }
   ],
   "source": [
    "# checking atts data types\n",
    "print(data.dtypes)"
   ]
  },
  {
   "cell_type": "markdown",
   "id": "36d98117-73d5-4a62-8680-91234bb932be",
   "metadata": {},
   "source": [
    "## Data pre-processing and exploration"
   ]
  },
  {
   "cell_type": "code",
   "execution_count": 9,
   "id": "da2b2af1-6c75-4624-8f20-38f418aeb92b",
   "metadata": {
    "tags": []
   },
   "outputs": [],
   "source": [
    "# checking for missing values\n",
    "missing = data.select([F.count(F.when(F.col(c).contains('None')| \\\n",
    "                            F.col(c).contains('NULL') | \\\n",
    "                            F.col(c).contains('NA') | \\\n",
    "                            F.col(c).contains('no_information')| \\\n",
    "                            F.col(c).contains('NO_INFORMATION')| \\\n",
    "                            (F.col(c) == '') | \\\n",
    "                            F.col(c).isNull(), c)).alias(c) for c in attNames])"
   ]
  },
  {
   "cell_type": "code",
   "execution_count": 10,
   "id": "45bf4009-6b04-4f7d-8c8c-f319c2cd1070",
   "metadata": {
    "tags": []
   },
   "outputs": [
    {
     "name": "stdout",
     "output_type": "stream",
     "text": [
      "Columns with more than 120 000 missing values:\n",
      "['telekomHybridUploadSpeed', 'noParkSpaces', 'heatingCosts', 'energyEfficiencyClass', 'lastRefurbish', 'electricityBasePrice', 'electricityKwhPrice']\n"
     ]
    }
   ],
   "source": [
    "# Filter columns based on the condition count > 120000\n",
    "#columns_above_threshold = [c for c in missing.columns if missing.select(c).first()[c] > 120000]\n",
    "\n",
    "# takes quite some time to run the statement above\n",
    "columns_above_threshold = ['telekomHybridUploadSpeed', 'noParkSpaces', 'heatingCosts', 'energyEfficiencyClass', 'lastRefurbish', 'electricityBasePrice', 'electricityKwhPrice']\n",
    "print(\"Columns with more than 120 000 missing values:\")\n",
    "print(columns_above_threshold)"
   ]
  },
  {
   "cell_type": "code",
   "execution_count": 11,
   "id": "c4cf3dfe-5344-42a1-903f-09ca2386eb42",
   "metadata": {
    "tags": []
   },
   "outputs": [
    {
     "name": "stderr",
     "output_type": "stream",
     "text": [
      "[Stage 4:>                                                          (0 + 1) / 1]\r"
     ]
    },
    {
     "name": "stdout",
     "output_type": "stream",
     "text": [
      "Size after dropping the attributes: (268850, 42)\n"
     ]
    },
    {
     "name": "stderr",
     "output_type": "stream",
     "text": [
      "                                                                                \r"
     ]
    }
   ],
   "source": [
    "# dropping attributes with at least {threshold} missing values\n",
    "data = data.drop(*columns_above_threshold)\n",
    "print(f\"Size after dropping the attributes: {data.count(), len(data.columns)}\")"
   ]
  },
  {
   "cell_type": "code",
   "execution_count": 12,
   "id": "e5873b07-7314-400e-bc4a-eb27563d82be",
   "metadata": {
    "tags": []
   },
   "outputs": [],
   "source": [
    "def get_top_distinct_values_with_percentage(column_name):\n",
    "    sql_query = f\"\"\"\n",
    "        SELECT {column_name}, COUNT(*) AS count, \n",
    "        (COUNT(*) * 100.0 / (SELECT COUNT(*) FROM data)) AS percentage\n",
    "        FROM data\n",
    "        GROUP BY {column_name}\n",
    "        ORDER BY count DESC\n",
    "        LIMIT 10\n",
    "    \"\"\"\n",
    "    return ss.sql(sql_query)\n"
   ]
  },
  {
   "cell_type": "code",
   "execution_count": 13,
   "id": "1addb542-f876-4e94-9838-f6e0302e0d30",
   "metadata": {
    "tags": []
   },
   "outputs": [
    {
     "name": "stderr",
     "output_type": "stream",
     "text": [
      "23/12/14 22:11:36 WARN SparkStringUtils: Truncated the string representation of a plan since it was too large. This behavior can be adjusted by setting 'spark.sql.debug.maxToStringFields'.\n"
     ]
    }
   ],
   "source": [
    "# checking the distinct values of the remaining columns\n",
    "data.createOrReplaceTempView(\"data\")"
   ]
  },
  {
   "cell_type": "code",
   "execution_count": 14,
   "id": "ee65149a-a779-4335-b9a9-c4558eb1eee0",
   "metadata": {
    "tags": []
   },
   "outputs": [],
   "source": [
    "# show top 10 distinct values, counts, and percentages for each column\n",
    "#for col_name in data.columns:\n",
    "#    top_distinct_values = get_top_distinct_values_with_percentage(col_name)\n",
    "#    print(f\"Top 10 distinct values, count, and percentage in column '{col_name}':\")\n",
    "#    top_distinct_values.show()"
   ]
  },
  {
   "cell_type": "code",
   "execution_count": 15,
   "id": "e03707a4-67f6-46a8-8c22-ffb5b9463418",
   "metadata": {
    "tags": []
   },
   "outputs": [],
   "source": [
    "#missing.toPandas().loc[0,:] != 0"
   ]
  },
  {
   "cell_type": "markdown",
   "id": "dbc3d8e2-98de-4dfb-b3cd-458051ce4487",
   "metadata": {},
   "source": [
    "Analysing both the distinct and missing values information, we have to decide which attributes to keep. We also have to choose wisely the ones in which to impute the missing values and the strategy to follow to do so, depending on the dtype and semantic of the variable in this context."
   ]
  },
  {
   "cell_type": "markdown",
   "id": "1edc51c1-1213-4b44-b97a-9946e5fbe441",
   "metadata": {},
   "source": [
    "### Dropping non-informative attributes"
   ]
  },
  {
   "cell_type": "code",
   "execution_count": 16,
   "id": "d4fb0f14-ffb6-48b8-95ce-e64c4d2dad39",
   "metadata": {
    "tags": []
   },
   "outputs": [],
   "source": [
    "# exactly duplicate variables (geobln == regio1, geokrs == regio2)\n",
    "# and street == streetPlain (street is without german characters)\n",
    "data_clean = data.drop(\"geo_bln\",\"geo_krs\",\"street\")\n",
    "\n",
    "# many same values (variance threshold feature selection)\n",
    "data_clean = data_clean.drop(\"telekomTvOffer\",\"newlyConst\")\n",
    "\n",
    "# binned features (we prefer to do it on our own) and non-informative features\n",
    "# we only keep baseRentRange to impute the missing values,\n",
    "# since it seems relevant and doesn't have any missing values\n",
    "data_clean = data_clean.drop(\"pricetrend\",\"telekomUploadSpeed\",\\\n",
    "                            \"scoutId\",\"yearConstructedRange\",\"noRoomsRange\",\\\n",
    "                             \"date\", \"houseNumber\", \"livingSpaceRange\")"
   ]
  },
  {
   "cell_type": "code",
   "execution_count": 17,
   "id": "f93a581b-61b7-4721-bb26-b2f8011d936b",
   "metadata": {
    "tags": []
   },
   "outputs": [
    {
     "name": "stderr",
     "output_type": "stream",
     "text": [
      "[Stage 7:>                                                          (0 + 1) / 1]\r"
     ]
    },
    {
     "name": "stdout",
     "output_type": "stream",
     "text": [
      "Size after dropping the attributes: (268850, 29)\n",
      "\n",
      "Columns:\n",
      "regio1, serviceCharge, heatingType, balcony, picturecount, totalRent, yearConstructed, firingTypes, hasKitchen, cellar, baseRent, livingSpace, condition, interiorQual, petsAllowed, streetPlain, lift, baseRentRange, typeOfFlat, geo_plz, noRooms, thermalChar, floor, numberOfFloors, garden, regio2, regio3, description, facilities, "
     ]
    },
    {
     "name": "stderr",
     "output_type": "stream",
     "text": [
      "                                                                                \r"
     ]
    }
   ],
   "source": [
    "print(f\"Size after dropping the attributes: {data_clean.count(), len(data_clean.columns)}\", end = \"\\n\\n\")\n",
    "print(\"Columns:\")\n",
    "for att in data_clean.columns:\n",
    "    print(f\"{att}\", end = \", \")"
   ]
  },
  {
   "cell_type": "markdown",
   "id": "aeddada1-04d4-4ab3-8df2-48b4d3490a02",
   "metadata": {},
   "source": [
    "### \"NA\" to NULL for missing values"
   ]
  },
  {
   "cell_type": "code",
   "execution_count": 18,
   "id": "4d6a6539-8b99-4850-abe3-fa55fc151a11",
   "metadata": {
    "tags": []
   },
   "outputs": [],
   "source": [
    "# substitute NA with the NULL in each column to have the same representation\n",
    "data_clean = data_clean.select(*[F.when((F.col(att) == \"NA\")|\\\n",
    "                                      (F.col(att) == \"NaN\"), None)\\\n",
    "                        .otherwise(F.col(att)).alias(att) for att in data_clean.columns])"
   ]
  },
  {
   "cell_type": "code",
   "execution_count": 19,
   "id": "a50d6ec6-cbf1-450d-9556-73181efa9340",
   "metadata": {
    "tags": []
   },
   "outputs": [],
   "source": [
    "# creating new View for the cleaned data\n",
    "data_clean.createOrReplaceTempView(\"data\")"
   ]
  },
  {
   "cell_type": "code",
   "execution_count": 20,
   "id": "2aba1df1-5279-481b-9a8b-8a24b50233ab",
   "metadata": {
    "tags": []
   },
   "outputs": [
    {
     "name": "stderr",
     "output_type": "stream",
     "text": [
      "                                                                                \r"
     ]
    },
    {
     "name": "stdout",
     "output_type": "stream",
     "text": [
      "+-------------+------+-----------------+\n",
      "| interiorQual| count|       percentage|\n",
      "+-------------+------+-----------------+\n",
      "|         NULL|112665|41.90626743537288|\n",
      "|       normal| 81826|30.43555886181886|\n",
      "|sophisticated| 64762|24.08852519992561|\n",
      "|       luxury|  7648| 2.84470894550865|\n",
      "|       simple|  1949| 0.72493955737400|\n",
      "+-------------+------+-----------------+\n",
      "\n"
     ]
    }
   ],
   "source": [
    "# showing change from \"NA\" to NULL\n",
    "dist = get_top_distinct_values_with_percentage(\"interiorQual\")\n",
    "dist.show()"
   ]
  },
  {
   "cell_type": "markdown",
   "id": "98aabb58-ebc5-4afd-8169-ac595a962776",
   "metadata": {},
   "source": [
    "#### Cheking if there are records with many NULL values\n",
    "In order to remove the least amount of remaining attributes, since the information could be important in the following task, we filter out records that have more missing values than a certain threshold."
   ]
  },
  {
   "cell_type": "code",
   "execution_count": 21,
   "id": "367a1d68-a884-429d-a953-35ee59280d07",
   "metadata": {
    "tags": []
   },
   "outputs": [],
   "source": [
    "# new column with the number of NULLs for each row\n",
    "sumNulls = \"+\".join(f\"CASE WHEN {col} IS NULL THEN 1 ELSE 0 END\" for col in data_clean.columns)\n",
    "\n",
    "# new df with numOfNulls column\n",
    "data_sumNulls = data_clean.withColumn(\"numOfNulls\", F.expr(sumNulls))"
   ]
  },
  {
   "cell_type": "code",
   "execution_count": 22,
   "id": "5786489a-008c-4f2a-95bb-f1c80b7c286d",
   "metadata": {
    "tags": []
   },
   "outputs": [
    {
     "name": "stderr",
     "output_type": "stream",
     "text": [
      "[Stage 16:>                                                         (0 + 1) / 1]\r"
     ]
    },
    {
     "name": "stdout",
     "output_type": "stream",
     "text": [
      "Size of the dataframe after filtering: (234465, 29)\n"
     ]
    },
    {
     "name": "stderr",
     "output_type": "stream",
     "text": [
      "                                                                                \r"
     ]
    }
   ],
   "source": [
    "# filter the records that have at least 7 missing values (not knowing which of them though)\n",
    "data_thresh = data_sumNulls.filter(data_sumNulls[\"numOfNulls\"] <= 6)\n",
    "\n",
    "# assigning the filtered dataframe (without the numOfNulls attribute) to a clean variable\n",
    "df = data_thresh.select([c for c in data_thresh.columns if c != \"numOfNulls\"])\n",
    "print(f\"Size of the dataframe after filtering: {df.count(), len(df.columns)}\")"
   ]
  },
  {
   "cell_type": "markdown",
   "id": "4f701e44-c5ae-473e-b940-498853e219a3",
   "metadata": {},
   "source": [
    "##### To do:\n",
    "\n",
    "    yearConstructed -> 21% missing -> remove records\n",
    "    interiorQual -> 41% missing -> drop attribute or all \"normal\"\n",
    "    petsAllowed -> 42% missing -> drop attribute or all \"negotiable\"\n",
    "\n",
    "    description -> keep as is 7% NULL\n",
    "    facilities -> keep as is 20% NULL"
   ]
  },
  {
   "cell_type": "code",
   "execution_count": 23,
   "id": "24070f0f-451a-4537-82b1-e4259f988467",
   "metadata": {
    "tags": []
   },
   "outputs": [
    {
     "name": "stderr",
     "output_type": "stream",
     "text": [
      "[Stage 19:>                                                         (0 + 1) / 1]\r"
     ]
    },
    {
     "name": "stdout",
     "output_type": "stream",
     "text": [
      "size of the resulting df: (196624, 29)\n"
     ]
    },
    {
     "name": "stderr",
     "output_type": "stream",
     "text": [
      "                                                                                \r"
     ]
    }
   ],
   "source": [
    "# removing records without yearConstructed info\n",
    "df_filt = df.filter(F.col(\"yearConstructed\").isNotNull())\n",
    "print(f\"size of the resulting df: {df_filt.count(), len(df_filt.columns)}\")"
   ]
  },
  {
   "cell_type": "code",
   "execution_count": 24,
   "id": "93c55852-6606-4792-bd78-b4bfa523b62d",
   "metadata": {
    "tags": []
   },
   "outputs": [],
   "source": [
    "# replace missing values in string columns with the most frequent value\n",
    "df_imp = df_filt.withColumn(\"interiorQual\", F.when(F.col(\"interiorQual\").isNull(), \"normal\").otherwise(F.col(\"interiorQual\")))\n",
    "df_imp = df_imp.withColumn(\"petsAllowed\", F.when(F.col(\"petsAllowed\").isNull(), \"negotiable\").otherwise(F.col(\"petsAllowed\")))"
   ]
  },
  {
   "cell_type": "code",
   "execution_count": 25,
   "id": "e6565ec3-67bd-4e93-a6fc-553096ecb724",
   "metadata": {
    "tags": []
   },
   "outputs": [
    {
     "name": "stderr",
     "output_type": "stream",
     "text": [
      "                                                                                \r"
     ]
    },
    {
     "name": "stdout",
     "output_type": "stream",
     "text": [
      "+-----------+\n",
      "|petsAllowed|\n",
      "+-----------+\n",
      "| negotiable|\n",
      "|         no|\n",
      "|        yes|\n",
      "+-----------+\n",
      "\n"
     ]
    },
    {
     "name": "stderr",
     "output_type": "stream",
     "text": [
      "[Stage 25:>                                                         (0 + 1) / 1]\r"
     ]
    },
    {
     "name": "stdout",
     "output_type": "stream",
     "text": [
      "+-------------+\n",
      "| interiorQual|\n",
      "+-------------+\n",
      "|       luxury|\n",
      "|       normal|\n",
      "|sophisticated|\n",
      "|       simple|\n",
      "+-------------+\n",
      "\n"
     ]
    },
    {
     "name": "stderr",
     "output_type": "stream",
     "text": [
      "                                                                                \r"
     ]
    }
   ],
   "source": [
    "df_imp.select(\"petsAllowed\").distinct().show()\n",
    "df_imp.select(\"interiorQual\").distinct().show()"
   ]
  },
  {
   "cell_type": "markdown",
   "id": "fbb8bb7c-abc0-4c0a-81ec-9f1b1f57e528",
   "metadata": {},
   "source": [
    "### Brief Outlier Detection\n",
    "Before the imputation of missing values"
   ]
  },
  {
   "cell_type": "code",
   "execution_count": 26,
   "id": "b1d79eec-2374-4d9f-98ec-ed9dfa0e61da",
   "metadata": {
    "tags": []
   },
   "outputs": [
    {
     "name": "stderr",
     "output_type": "stream",
     "text": [
      "                                                                                \r"
     ]
    },
    {
     "name": "stdout",
     "output_type": "stream",
     "text": [
      "+-------+------------------+\n",
      "|summary|     serviceCharge|\n",
      "+-------+------------------+\n",
      "|  count|            194352|\n",
      "|   mean|153.24412020457711|\n",
      "| stddev| 353.9170256422129|\n",
      "|    min|               0.0|\n",
      "|    max|          146118.0|\n",
      "+-------+------------------+\n",
      "\n"
     ]
    },
    {
     "name": "stderr",
     "output_type": "stream",
     "text": [
      "                                                                                \r"
     ]
    },
    {
     "name": "stdout",
     "output_type": "stream",
     "text": [
      "+-------+-----------------+\n",
      "|summary|     picturecount|\n",
      "+-------+-----------------+\n",
      "|  count|           196624|\n",
      "|   mean|9.989858816828058|\n",
      "| stddev|6.371257360408224|\n",
      "|    min|                0|\n",
      "|    max|              112|\n",
      "+-------+-----------------+\n",
      "\n"
     ]
    },
    {
     "name": "stderr",
     "output_type": "stream",
     "text": [
      "                                                                                \r"
     ]
    },
    {
     "name": "stdout",
     "output_type": "stream",
     "text": [
      "+-------+-----------------+\n",
      "|summary|        totalRent|\n",
      "+-------+-----------------+\n",
      "|  count|           169462|\n",
      "|   mean|924.5552048246827|\n",
      "| stddev|38285.70338031341|\n",
      "|    min|              0.0|\n",
      "|    max|      1.5751535E7|\n",
      "+-------+-----------------+\n",
      "\n"
     ]
    },
    {
     "name": "stderr",
     "output_type": "stream",
     "text": [
      "                                                                                \r"
     ]
    },
    {
     "name": "stdout",
     "output_type": "stream",
     "text": [
      "+-------+------------------+\n",
      "|summary|   yearConstructed|\n",
      "+-------+------------------+\n",
      "|  count|            196624|\n",
      "|   mean|1966.4265450809667|\n",
      "| stddev|45.507746935593644|\n",
      "|    min|              1000|\n",
      "|    max|              2090|\n",
      "+-------+------------------+\n",
      "\n"
     ]
    },
    {
     "name": "stderr",
     "output_type": "stream",
     "text": [
      "                                                                                \r"
     ]
    },
    {
     "name": "stdout",
     "output_type": "stream",
     "text": [
      "+-------+-----------------+\n",
      "|summary|         baseRent|\n",
      "+-------+-----------------+\n",
      "|  count|           196624|\n",
      "|   mean|655.1151909736303|\n",
      "| stddev|581.8008028829324|\n",
      "|    min|              0.0|\n",
      "|    max|         120000.0|\n",
      "+-------+-----------------+\n",
      "\n"
     ]
    },
    {
     "name": "stderr",
     "output_type": "stream",
     "text": [
      "                                                                                \r"
     ]
    },
    {
     "name": "stdout",
     "output_type": "stream",
     "text": [
      "+-------+------------------+\n",
      "|summary|       livingSpace|\n",
      "+-------+------------------+\n",
      "|  count|            196624|\n",
      "|   mean| 74.28130482545369|\n",
      "| stddev|159.64683444827784|\n",
      "|    min|               0.0|\n",
      "|    max|           66100.0|\n",
      "+-------+------------------+\n",
      "\n"
     ]
    },
    {
     "name": "stderr",
     "output_type": "stream",
     "text": [
      "                                                                                \r"
     ]
    },
    {
     "name": "stdout",
     "output_type": "stream",
     "text": [
      "+-------+------------------+\n",
      "|summary|     baseRentRange|\n",
      "+-------+------------------+\n",
      "|  count|            196624|\n",
      "|   mean|3.7983613394092277|\n",
      "| stddev|2.2326464091453824|\n",
      "|    min|                 1|\n",
      "|    max|                 9|\n",
      "+-------+------------------+\n",
      "\n"
     ]
    },
    {
     "name": "stderr",
     "output_type": "stream",
     "text": [
      "                                                                                \r"
     ]
    },
    {
     "name": "stdout",
     "output_type": "stream",
     "text": [
      "+-------+------------------+\n",
      "|summary|           noRooms|\n",
      "+-------+------------------+\n",
      "|  count|            179339|\n",
      "|   mean| 2.615147848488059|\n",
      "| stddev|1.2559439233246728|\n",
      "|    min|                 1|\n",
      "|    max|               230|\n",
      "+-------+------------------+\n",
      "\n"
     ]
    },
    {
     "name": "stderr",
     "output_type": "stream",
     "text": [
      "                                                                                \r"
     ]
    },
    {
     "name": "stdout",
     "output_type": "stream",
     "text": [
      "+-------+------------------+\n",
      "|summary|       thermalChar|\n",
      "+-------+------------------+\n",
      "|  count|            142643|\n",
      "|   mean|114.19493939415106|\n",
      "| stddev| 60.80072910101507|\n",
      "|    min|               0.1|\n",
      "|    max|            1983.0|\n",
      "+-------+------------------+\n",
      "\n"
     ]
    },
    {
     "name": "stderr",
     "output_type": "stream",
     "text": [
      "                                                                                \r"
     ]
    },
    {
     "name": "stdout",
     "output_type": "stream",
     "text": [
      "+-------+------------------+\n",
      "|summary|             floor|\n",
      "+-------+------------------+\n",
      "|  count|            168214|\n",
      "|   mean|2.1422949338342825|\n",
      "| stddev|3.0363632250797212|\n",
      "|    min|                -1|\n",
      "|    max|               650|\n",
      "+-------+------------------+\n",
      "\n"
     ]
    },
    {
     "name": "stderr",
     "output_type": "stream",
     "text": [
      "[Stage 58:>                                                         (0 + 1) / 1]\r"
     ]
    },
    {
     "name": "stdout",
     "output_type": "stream",
     "text": [
      "+-------+------------------+\n",
      "|summary|    numberOfFloors|\n",
      "+-------+------------------+\n",
      "|  count|            135689|\n",
      "|   mean|3.6374798251884823|\n",
      "| stddev| 6.591104601747938|\n",
      "|    min|                 0|\n",
      "|    max|               999|\n",
      "+-------+------------------+\n",
      "\n"
     ]
    },
    {
     "name": "stderr",
     "output_type": "stream",
     "text": [
      "                                                                                \r"
     ]
    }
   ],
   "source": [
    "# numerical columns to check\n",
    "num_cols = [c[0] for c in df_imp.dtypes if c[1] in ('int','double')] \n",
    "\n",
    "# stats for numerical columns, in order to check for anomalous values\n",
    "for att in num_cols:\n",
    "    df_imp.describe(f\"{att}\").show()"
   ]
  },
  {
   "cell_type": "code",
   "execution_count": 27,
   "id": "fdd7d8ca-2d37-4440-b46e-ce05c8528abc",
   "metadata": {
    "tags": []
   },
   "outputs": [],
   "source": [
    "# yearConstructed -> drop when after 2023 or before ...\n",
    "df_out = df_imp.filter((F.col(\"yearConstructed\") >= 1700) | (F.col(\"yearConstructed\") <= 2023))\n",
    "#print(f\"Size of the df without abnormal values: {df_out.count(), len(df_out.columns)}\")"
   ]
  },
  {
   "cell_type": "code",
   "execution_count": 28,
   "id": "f052a8a2-e646-491f-8f55-d7486886b1f7",
   "metadata": {
    "tags": []
   },
   "outputs": [],
   "source": [
    "# noRooms -> drop when over 20\n",
    "df_out = df_out.filter((F.col(\"noRooms\") <= 20) | (F.col(\"noRooms\").isNull()))\n",
    "#print(f\"Size of the df without abnormal values: {df_out.count(), len(df_out.columns)}\")"
   ]
  },
  {
   "cell_type": "code",
   "execution_count": 29,
   "id": "267f6c8a-487f-44ea-a46d-835a9c214612",
   "metadata": {
    "tags": []
   },
   "outputs": [],
   "source": [
    "# floor -> drop when over 30\n",
    "df_out = df_out.filter((F.col(\"floor\") <= 30) | (F.col(\"floor\").isNull()))\n",
    "#print(f\"Size of the df without abnormal values: {df_out.count(), len(df_out.columns)}\")"
   ]
  },
  {
   "cell_type": "code",
   "execution_count": 30,
   "id": "5cb6a273-41ba-4a94-b9e7-5a232b6a3d40",
   "metadata": {
    "tags": []
   },
   "outputs": [],
   "source": [
    "# numberOfFloors -> drop when over 30\n",
    "df_out = df_out.filter((F.col(\"numberOfFloors\") <= 30) | (F.col(\"numberOfFloors\").isNull()))\n",
    "#print(f\"Size of the df without abnormal values: {df_out.count(), len(df_out.columns)}\")"
   ]
  },
  {
   "cell_type": "code",
   "execution_count": 31,
   "id": "33fd9bc7-eff1-4231-a89c-dad3fb9b5bc2",
   "metadata": {
    "tags": []
   },
   "outputs": [],
   "source": [
    "# serviceCharge, totalRent, baseRent, livingSpace, thermalChar -> look something for each\n",
    "df_out = df_out.filter((F.col(\"serviceCharge\") <= 1000) | (F.col(\"serviceCharge\").isNull()))\n",
    "#print(f\"Size of the df without abnormal values: {df_out.count(), len(df_out.columns)}\")"
   ]
  },
  {
   "cell_type": "code",
   "execution_count": 32,
   "id": "d31935eb-a5f9-426a-9962-8c931c2f3497",
   "metadata": {
    "tags": []
   },
   "outputs": [
    {
     "name": "stderr",
     "output_type": "stream",
     "text": [
      "[Stage 61:>                                                         (0 + 1) / 1]\r"
     ]
    },
    {
     "name": "stdout",
     "output_type": "stream",
     "text": [
      "Size of the df without abnormal values: (196449, 29)\n"
     ]
    },
    {
     "name": "stderr",
     "output_type": "stream",
     "text": [
      "                                                                                \r"
     ]
    }
   ],
   "source": [
    "# serviceCharge, totalRent, baseRent, livingSpace, thermalChar -> look something for each\n",
    "#df_imp.select(\"totalRent\",\"livingSpace\").filter(F.col(\"totalRent\")>15000).orderBy(\"totalRent\", ascending = False).show()\n",
    "df_out = df_out.filter((F.col(\"totalRent\") <= 15000) | (F.col(\"totalRent\").isNull()))\n",
    "print(f\"Size of the df without abnormal values: {df_out.count(), len(df_out.columns)}\")"
   ]
  },
  {
   "cell_type": "code",
   "execution_count": 33,
   "id": "6dcbabb1-0529-427b-b5b2-6919502a68f3",
   "metadata": {
    "tags": []
   },
   "outputs": [
    {
     "name": "stderr",
     "output_type": "stream",
     "text": [
      "[Stage 64:>                                                         (0 + 1) / 1]\r"
     ]
    },
    {
     "name": "stdout",
     "output_type": "stream",
     "text": [
      "Size of the df without abnormal values: (196447, 29)\n"
     ]
    },
    {
     "name": "stderr",
     "output_type": "stream",
     "text": [
      "                                                                                \r"
     ]
    }
   ],
   "source": [
    "# serviceCharge, totalRent, baseRent, livingSpace, thermalChar -> look something for each\n",
    "#df_imp.select(\"baseRent\",\"livingSpace\").filter(F.col(\"baseRent\")>20000).orderBy(\"baseRent\", ascending = False).show()\n",
    "df_out = df_out.filter((F.col(\"baseRent\") <= 20000) | (F.col(\"baseRent\").isNull()))\n",
    "print(f\"Size of the df without abnormal values: {df_out.count(), len(df_out.columns)}\")"
   ]
  },
  {
   "cell_type": "code",
   "execution_count": 34,
   "id": "4e40b3bf-4da7-4f98-87ac-8d03d221dde8",
   "metadata": {
    "tags": []
   },
   "outputs": [
    {
     "name": "stderr",
     "output_type": "stream",
     "text": [
      "[Stage 67:>                                                         (0 + 1) / 1]\r"
     ]
    },
    {
     "name": "stdout",
     "output_type": "stream",
     "text": [
      "Size of the df without abnormal values: (196440, 29)\n"
     ]
    },
    {
     "name": "stderr",
     "output_type": "stream",
     "text": [
      "                                                                                \r"
     ]
    }
   ],
   "source": [
    "# serviceCharge, totalRent, baseRent, livingSpace, thermalChar -> look something for each\n",
    "#df_imp.select(\"livingSpace\").filter(F.col(\"livingSpace\") > 1000).orderBy(\"livingSpace\", ascending = False).show()\n",
    "df_out = df_out.filter((F.col(\"livingSpace\") <= 1000) | (F.col(\"livingSpace\").isNull()))\n",
    "print(f\"Size of the df without abnormal values: {df_out.count(), len(df_out.columns)}\")"
   ]
  },
  {
   "cell_type": "code",
   "execution_count": 35,
   "id": "0a72fe0d-0571-4f09-b3c3-d81ac83712aa",
   "metadata": {
    "tags": []
   },
   "outputs": [],
   "source": [
    "df_imp = df_out.select(\"*\")"
   ]
  },
  {
   "cell_type": "markdown",
   "id": "eb7da63b-81f7-421d-9eaf-5a71b4eddaf1",
   "metadata": {},
   "source": [
    "### Missing values"
   ]
  },
  {
   "cell_type": "code",
   "execution_count": 36,
   "id": "faeec47a-e712-40f1-82af-1f00ccbcb6ce",
   "metadata": {
    "tags": []
   },
   "outputs": [
    {
     "name": "stdout",
     "output_type": "stream",
     "text": [
      "['serviceCharge', 'totalRent', 'baseRent', 'livingSpace', 'thermalChar']\n",
      "['regio1', 'heatingType', 'balcony', 'picturecount', 'yearConstructed', 'firingTypes', 'hasKitchen', 'cellar', 'condition', 'interiorQual', 'petsAllowed', 'streetPlain', 'lift', 'baseRentRange', 'typeOfFlat', 'geo_plz', 'noRooms', 'floor', 'numberOfFloors', 'garden', 'regio2', 'regio3', 'description', 'facilities']\n"
     ]
    }
   ],
   "source": [
    "contAtt = [c[0] for c in df_imp.dtypes if c[1] == 'double']\n",
    "catAtt = [c for c in df_imp.columns if c not in contAtt]\n",
    "print(contAtt)\n",
    "print(catAtt)"
   ]
  },
  {
   "cell_type": "markdown",
   "id": "5729c4c2-6e22-4e3d-8881-0a531efd180e",
   "metadata": {},
   "source": [
    "#### Imputing discrete and categorical attributes (mode, median)"
   ]
  },
  {
   "cell_type": "markdown",
   "id": "d69a82a2-c09d-490b-89cd-f7e31cbe064d",
   "metadata": {},
   "source": [
    "##### To impute:\n",
    "\n",
    "    heatingType -> general mode\n",
    "    firingTypes -> general mode\n",
    "    condition -> general mode\n",
    "    typeOfFlat -> 13% missing -> general mode (\"apartment\")\n",
    "    noRooms -> 9% missing -> general median or grouped by livingSpaceRange\n",
    "    floor -> 19% missing -> median\n",
    "    numberOfFloors -> 36% missing -> median\n"
   ]
  },
  {
   "cell_type": "code",
   "execution_count": 37,
   "id": "31bfed78-d879-498f-94ff-58832b2e8232",
   "metadata": {
    "tags": []
   },
   "outputs": [
    {
     "name": "stderr",
     "output_type": "stream",
     "text": [
      "                                                                                \r"
     ]
    }
   ],
   "source": [
    "# list of columns to impute\n",
    "cols_mode = [\"heatingType\",\"firingTypes\",\"condition\", \"typeOfFlat\"]\n",
    "\n",
    "# impute most frequent value\n",
    "for att in cols_mode:\n",
    "    mfv = df_imp.groupBy(att).count().orderBy(F.col(\"count\").desc()).first()[att]\n",
    "    df_imp = df_imp.withColumn(att, F.when(F.col(att).isNull(), mfv).otherwise(F.col(att)))"
   ]
  },
  {
   "cell_type": "code",
   "execution_count": 38,
   "id": "fd77a21b-6aaa-48d4-8dd4-cbdc7b7b825d",
   "metadata": {
    "tags": []
   },
   "outputs": [],
   "source": [
    "# creating new View for the imputed data\n",
    "df_imp.createOrReplaceTempView(\"data\")"
   ]
  },
  {
   "cell_type": "code",
   "execution_count": 39,
   "id": "d6880abf-8a7a-4b94-9e0c-494d53235e89",
   "metadata": {
    "tags": []
   },
   "outputs": [
    {
     "name": "stdout",
     "output_type": "stream",
     "text": [
      "Top 10 distinct values, count, and percentage in column 'heatingType':\n"
     ]
    },
    {
     "name": "stderr",
     "output_type": "stream",
     "text": [
      "                                                                                \r"
     ]
    },
    {
     "name": "stdout",
     "output_type": "stream",
     "text": [
      "+--------------------+------+-----------------+\n",
      "|         heatingType| count|       percentage|\n",
      "+--------------------+------+-----------------+\n",
      "|     central_heating|120754|61.47118713093056|\n",
      "|    district_heating| 21306|10.84605986560782|\n",
      "|       floor_heating| 15122| 7.69802484219100|\n",
      "|         gas_heating| 14368| 7.31419262879251|\n",
      "|self_contained_ce...| 14238| 7.24801466096518|\n",
      "|         oil_heating|  3635| 1.85043779271024|\n",
      "|           heat_pump|  2395| 1.21920179189574|\n",
      "|combined_heat_and...|  1811| 0.92190999796375|\n",
      "|night_storage_heater|  1005| 0.51160659743433|\n",
      "| wood_pellet_heating|   814| 0.41437589085726|\n",
      "+--------------------+------+-----------------+\n",
      "\n",
      "Top 10 distinct values, count, and percentage in column 'firingTypes':\n"
     ]
    },
    {
     "name": "stderr",
     "output_type": "stream",
     "text": [
      "                                                                                \r"
     ]
    },
    {
     "name": "stdout",
     "output_type": "stream",
     "text": [
      "+-----------------+------+-----------------+\n",
      "|      firingTypes| count|       percentage|\n",
      "+-----------------+------+-----------------+\n",
      "|              gas|108625|55.29678273264101|\n",
      "| district_heating| 44297|22.54988800651598|\n",
      "|              oil| 14273| 7.26583180614946|\n",
      "|natural_gas_light|  8670| 4.41356139279169|\n",
      "|natural_gas_heavy|  4062| 2.06780696395846|\n",
      "|      electricity|  3942| 2.00671960904093|\n",
      "|       geothermal|  2186| 1.11280798208104|\n",
      "|   pellet_heating|  2166| 1.10262675626145|\n",
      "|  gas:electricity|  1291| 0.65719812665445|\n",
      "|    local_heating|   852| 0.43372021991448|\n",
      "+-----------------+------+-----------------+\n",
      "\n",
      "Top 10 distinct values, count, and percentage in column 'condition':\n"
     ]
    },
    {
     "name": "stderr",
     "output_type": "stream",
     "text": [
      "                                                                                \r"
     ]
    },
    {
     "name": "stdout",
     "output_type": "stream",
     "text": [
      "+--------------------+-----+-----------------+\n",
      "|           condition|count|       percentage|\n",
      "+--------------------+-----+-----------------+\n",
      "|           well_kept|90920|46.28385257585013|\n",
      "|     fully_renovated|19933|10.14711871309306|\n",
      "|         refurbished|19897|10.12879250661780|\n",
      "|      first_time_use|19204| 9.77601303196905|\n",
      "|      mint_condition|18516| 9.42577886377520|\n",
      "|          modernized|13653| 6.95021380574221|\n",
      "|first_time_use_af...|11424| 5.81551618814905|\n",
      "|          negotiable| 1852| 0.94278151089391|\n",
      "|  need_of_renovation| 1040| 0.52942374261861|\n",
      "| ripe_for_demolition|    1| 0.00050906129098|\n",
      "+--------------------+-----+-----------------+\n",
      "\n",
      "Top 10 distinct values, count, and percentage in column 'typeOfFlat':\n"
     ]
    },
    {
     "name": "stderr",
     "output_type": "stream",
     "text": [
      "[Stage 101:>                                                        (0 + 1) / 1]\r"
     ]
    },
    {
     "name": "stdout",
     "output_type": "stream",
     "text": [
      "+-------------------+------+-----------------+\n",
      "|         typeOfFlat| count|       percentage|\n",
      "+-------------------+------+-----------------+\n",
      "|          apartment|123490|62.86397882305030|\n",
      "|        roof_storey| 24978|12.71533292608430|\n",
      "|       ground_floor| 23642|12.03522704133578|\n",
      "|         maisonette|  6849| 3.48656078191814|\n",
      "|              other|  5965| 3.03655060069232|\n",
      "|raised_ground_floor|  3875| 1.97261250254531|\n",
      "|          penthouse|  2960| 1.50682142129912|\n",
      "|      terraced_flat|  2632| 1.33984931785787|\n",
      "|      half_basement|  1434| 0.72999389126451|\n",
      "|               loft|   615| 0.31307269395235|\n",
      "+-------------------+------+-----------------+\n",
      "\n"
     ]
    },
    {
     "name": "stderr",
     "output_type": "stream",
     "text": [
      "                                                                                \r"
     ]
    }
   ],
   "source": [
    "# show top 10 distinct values, counts, and percentages for each column\n",
    "for col_name in cols_mode:\n",
    "    top_distinct_values = get_top_distinct_values_with_percentage(col_name)\n",
    "    print(f\"Top 10 distinct values, count, and percentage in column '{col_name}':\")\n",
    "    top_distinct_values.show()"
   ]
  },
  {
   "cell_type": "code",
   "execution_count": 40,
   "id": "1f5328a3-8daa-47ed-b4c9-d4c53366a5e8",
   "metadata": {
    "tags": []
   },
   "outputs": [
    {
     "name": "stderr",
     "output_type": "stream",
     "text": [
      "                                                                                \r"
     ]
    }
   ],
   "source": [
    "# list of columns to impute\n",
    "cols_median = [\"noRooms\",\"floor\",\"numberOfFloors\"]\n",
    "\n",
    "# impute median\n",
    "for att in cols_median:\n",
    "    median = df_imp.approxQuantile(att, [0.5], 0.25)[0]\n",
    "    df_imp = df_imp.withColumn(att, F.when(F.col(att).isNull(), median).otherwise(F.col(att)))"
   ]
  },
  {
   "cell_type": "code",
   "execution_count": 41,
   "id": "5f26c74a-8bec-4f6e-b4e1-fed2be8d320e",
   "metadata": {
    "tags": []
   },
   "outputs": [],
   "source": [
    "# creating new View for the imputed data\n",
    "df_imp.createOrReplaceTempView(\"data\")"
   ]
  },
  {
   "cell_type": "code",
   "execution_count": 42,
   "id": "17b07df7-d227-4255-9646-943e34842d28",
   "metadata": {
    "tags": []
   },
   "outputs": [
    {
     "name": "stdout",
     "output_type": "stream",
     "text": [
      "Top 10 distinct values, count, and percentage in column 'noRooms':\n"
     ]
    },
    {
     "name": "stderr",
     "output_type": "stream",
     "text": [
      "                                                                                \r"
     ]
    },
    {
     "name": "stdout",
     "output_type": "stream",
     "text": [
      "+-------+-----+-----------------+\n",
      "|noRooms|count|       percentage|\n",
      "+-------+-----+-----------------+\n",
      "|    3.0|86688|44.12950519242517|\n",
      "|    2.0|64751|32.96222765220933|\n",
      "|    4.0|20646|10.51007941356139|\n",
      "|    1.0|19090| 9.71798004479739|\n",
      "|    5.0| 4034| 2.05355324781104|\n",
      "|    6.0|  891| 0.45357361026268|\n",
      "|    7.0|  220| 0.11199348401548|\n",
      "|    8.0|   80| 0.04072490327835|\n",
      "|    9.0|   20| 0.01018122581959|\n",
      "|   10.0|    7| 0.00356342903686|\n",
      "+-------+-----+-----------------+\n",
      "\n",
      "Top 10 distinct values, count, and percentage in column 'floor':\n"
     ]
    },
    {
     "name": "stderr",
     "output_type": "stream",
     "text": [
      "                                                                                \r"
     ]
    },
    {
     "name": "stdout",
     "output_type": "stream",
     "text": [
      "+-----+-----+-----------------+\n",
      "|floor|count|       percentage|\n",
      "+-----+-----+-----------------+\n",
      "|  2.0|71932|36.61779678273264|\n",
      "|  1.0|48695|24.78873956424353|\n",
      "|  3.0|29146|14.83710038688658|\n",
      "|  0.0|19417| 9.88444308694767|\n",
      "|  4.0|15502| 7.89146813276318|\n",
      "|  5.0| 6622| 3.37100386886581|\n",
      "|  6.0| 2127| 1.08277336591326|\n",
      "|  7.0|  875| 0.44542862960700|\n",
      "|  8.0|  496| 0.25249440032580|\n",
      "|  9.0|  366| 0.18631643249847|\n",
      "+-----+-----+-----------------+\n",
      "\n",
      "Top 10 distinct values, count, and percentage in column 'numberOfFloors':\n"
     ]
    },
    {
     "name": "stderr",
     "output_type": "stream",
     "text": [
      "[Stage 122:>                                                        (0 + 1) / 1]\r"
     ]
    },
    {
     "name": "stdout",
     "output_type": "stream",
     "text": [
      "+--------------+------+-----------------+\n",
      "|numberOfFloors| count|       percentage|\n",
      "+--------------+------+-----------------+\n",
      "|           3.0|100828|51.32763184687436|\n",
      "|           4.0| 31034|15.79820810425575|\n",
      "|           2.0| 29005|14.76532274485848|\n",
      "|           5.0| 16603| 8.45194461413154|\n",
      "|           1.0|  6241| 3.17705151700265|\n",
      "|           6.0|  5513| 2.80645489716962|\n",
      "|           7.0|  2212| 1.12604357564651|\n",
      "|           0.0|  1018| 0.51822439421706|\n",
      "|           8.0|  1012| 0.51517002647119|\n",
      "|          11.0|   887| 0.45153736509876|\n",
      "+--------------+------+-----------------+\n",
      "\n"
     ]
    },
    {
     "name": "stderr",
     "output_type": "stream",
     "text": [
      "                                                                                \r"
     ]
    }
   ],
   "source": [
    "# show top 10 distinct values, counts, and percentages for each column\n",
    "for col_name in cols_median:\n",
    "    top_distinct_values = get_top_distinct_values_with_percentage(col_name)\n",
    "    print(f\"Top 10 distinct values, count, and percentage in column '{col_name}':\")\n",
    "    top_distinct_values.show()"
   ]
  },
  {
   "cell_type": "markdown",
   "id": "d8e9ae19-ad49-4669-bf1d-d3f0bd4be6ab",
   "metadata": {},
   "source": [
    "#### Imputing continuous attributes (median)"
   ]
  },
  {
   "cell_type": "markdown",
   "id": "c4b85194-41a3-4473-af21-db80f9c70a8c",
   "metadata": {
    "tags": []
   },
   "source": [
    "##### To impute:\n",
    "\n",
    "    serviceCharge -> avg by some att\n",
    "    totalRent -> avg by..\n",
    "    streetPlain -> don't know... impute the street doesn't seem right!\n",
    "    thermalCharge -> defines energy efficiency, 39% NULL -> regression or avg by..."
   ]
  },
  {
   "cell_type": "markdown",
   "id": "fd1532da-4c72-4b01-b70a-9acf536ab74d",
   "metadata": {},
   "source": [
    "In order to impute reasonable values, we decided to first group by baseRentRange, to achieve better results"
   ]
  },
  {
   "cell_type": "code",
   "execution_count": 43,
   "id": "aab0aced-f1f3-4ea6-99a7-472c15009148",
   "metadata": {
    "tags": []
   },
   "outputs": [
    {
     "name": "stderr",
     "output_type": "stream",
     "text": [
      "                                                                                \r"
     ]
    }
   ],
   "source": [
    "# define the columns to impute and the grouping column\n",
    "cols_mean = contAtt\n",
    "grCol = \"baseRentRange\"\n",
    "\n",
    "# create an imputer instance\n",
    "imputer = Imputer(inputCols=cols_mean, outputCols=[col+\"_imputed\" for col in cols_mean]).setStrategy(\"median\")\n",
    "\n",
    "# window for grouping\n",
    "win = Window().partitionBy(grCol)\n",
    "\n",
    "# iterate over distinct values in the grouping column\n",
    "dist_groups = df_imp.select(grCol).distinct().collect()\n",
    "\n",
    "imputed_dfs = []\n",
    "\n",
    "for group_value in dist_groups:\n",
    "    group_df = df_imp.filter(F.col(grCol) == group_value[0])\n",
    "    imputer_model = imputer.fit(group_df)\n",
    "    imputed_df = imputer_model.transform(group_df)\n",
    "    imputed_dfs.append(imputed_df)\n",
    "\n",
    "# combine together\n",
    "df_imp_all = imputed_dfs[0]\n",
    "for imputed_df in imputed_dfs[1:]:\n",
    "    df_imp_all = df_imp_all.union(imputed_df)"
   ]
  },
  {
   "cell_type": "markdown",
   "id": "4e961611-b3d4-41e5-ae3e-f81aae5a58c2",
   "metadata": {},
   "source": [
    "##### Checking imputations for continuous attributes"
   ]
  },
  {
   "cell_type": "code",
   "execution_count": 44,
   "id": "8797d4c4-cf92-42f8-8d23-c31ffe547284",
   "metadata": {
    "tags": []
   },
   "outputs": [],
   "source": [
    "# continuous variables\n",
    "#for att in contAtt:\n",
    "#    print(f\"attribute \\\"{att}\\\":\")\n",
    "#    \n",
    "#    # Values before imputation\n",
    "#    before = df_imp.select(att).where(df_imp.baseRentRange == 2).take(15)\n",
    "#    \n",
    "#    # Values after imputation\n",
    "#    after = df_imp_all.select(att+\"_imputed\").where(df_imp_all.baseRentRange == 2).take(15)\n",
    "#    \n",
    "#    # Print side-by-side comparison\n",
    "#    for vb, va in zip(before, after):\n",
    "#        print(f\"before: {vb[0]}, after: {va[0]}\")\n",
    "#    print()"
   ]
  },
  {
   "cell_type": "markdown",
   "id": "03dae5c7-9660-4eaa-a3e4-a856fa8fbaf5",
   "metadata": {},
   "source": [
    "##### Keeping only the imputed attributes and renaming them"
   ]
  },
  {
   "cell_type": "code",
   "execution_count": 45,
   "id": "f7c2b032-2b53-4c49-ac38-0159e443aab5",
   "metadata": {
    "tags": []
   },
   "outputs": [
    {
     "name": "stdout",
     "output_type": "stream",
     "text": [
      "['regio1', 'serviceCharge', 'heatingType', 'balcony', 'picturecount', 'totalRent', 'yearConstructed', 'firingTypes', 'hasKitchen', 'cellar', 'baseRent', 'livingSpace', 'condition', 'interiorQual', 'petsAllowed', 'streetPlain', 'lift', 'baseRentRange', 'typeOfFlat', 'geo_plz', 'noRooms', 'thermalChar', 'floor', 'numberOfFloors', 'garden', 'regio2', 'regio3', 'description', 'facilities', 'serviceCharge_imputed', 'totalRent_imputed', 'baseRent_imputed', 'livingSpace_imputed', 'thermalChar_imputed']\n",
      "\n",
      "['serviceCharge_imputed', 'totalRent_imputed', 'baseRent_imputed', 'livingSpace_imputed', 'thermalChar_imputed']\n"
     ]
    }
   ],
   "source": [
    "print(df_imp_all.columns)\n",
    "print()\n",
    "impAtt = [col+\"_imputed\" for col in contAtt]\n",
    "print(impAtt)"
   ]
  },
  {
   "cell_type": "code",
   "execution_count": 46,
   "id": "bda0088d-38d8-4c39-92e4-41ae11baff12",
   "metadata": {
    "tags": []
   },
   "outputs": [
    {
     "name": "stderr",
     "output_type": "stream",
     "text": [
      "[Stage 175:==================================================>      (8 + 1) / 9]\r"
     ]
    },
    {
     "name": "stdout",
     "output_type": "stream",
     "text": [
      "Size of the final dataframe: (196440, 28)\n",
      "\n",
      "['regio1', 'heatingType', 'balcony', 'picturecount', 'yearConstructed', 'firingTypes', 'hasKitchen', 'cellar', 'condition', 'interiorQual', 'petsAllowed', 'streetPlain', 'lift', 'typeOfFlat', 'geo_plz', 'noRooms', 'floor', 'numberOfFloors', 'garden', 'regio2', 'regio3', 'description', 'facilities', 'serviceCharge', 'totalRent', 'baseRent', 'livingSpace', 'thermalChar']\n"
     ]
    },
    {
     "name": "stderr",
     "output_type": "stream",
     "text": [
      "                                                                                \r"
     ]
    }
   ],
   "source": [
    "# keeping only imputed variables\n",
    "dataframe = df_imp_all.drop(*contAtt, \"baseRentRange\")\n",
    "\n",
    "# renaming the imputed atts to the originals\n",
    "for i, att in enumerate(impAtt):\n",
    "    dataframe = dataframe.withColumnRenamed(att, contAtt[i])\n",
    "\n",
    "print(f\"Size of the final dataframe: {dataframe.count(), len(dataframe.columns)}\")\n",
    "print()\n",
    "print(dataframe.columns)"
   ]
  },
  {
   "cell_type": "code",
   "execution_count": 47,
   "id": "de190973-c288-4922-b1d5-f9da7aa79660",
   "metadata": {
    "tags": []
   },
   "outputs": [],
   "source": [
    "# checking for missing values\n",
    "missing_df = dataframe.select([F.count(F.when(F.col(c).contains('None')| \\\n",
    "                            F.col(c).contains('NULL') | \\\n",
    "                            F.col(c).contains('NA') | \\\n",
    "                            F.col(c).contains('no_information')| \\\n",
    "                            F.col(c).contains('NO_INFORMATION')| \\\n",
    "                            (F.col(c) == '') | \\\n",
    "                            F.col(c).isNull(), c)).alias(c) for c in dataframe.columns])"
   ]
  },
  {
   "cell_type": "code",
   "execution_count": 49,
   "id": "e30a99f7-a065-4bdd-bc00-5b1cfeb55d15",
   "metadata": {
    "tags": []
   },
   "outputs": [],
   "source": [
    "#pdf = missing_df.toPandas()\n",
    "#pdf[(pdf != 0)].sum()"
   ]
  },
  {
   "cell_type": "code",
   "execution_count": 50,
   "id": "6edfac42-946f-4f7b-9cab-568c57ce3b55",
   "metadata": {
    "tags": []
   },
   "outputs": [
    {
     "data": {
      "text/plain": [
       "pyspark.sql.dataframe.DataFrame"
      ]
     },
     "execution_count": 50,
     "metadata": {},
     "output_type": "execute_result"
    }
   ],
   "source": [
    "type(dataframe)"
   ]
  },
  {
   "cell_type": "markdown",
   "id": "da2ff573-165e-4f42-9a3f-3c7781cde77f",
   "metadata": {},
   "source": [
    "### NOTES"
   ]
  },
  {
   "cell_type": "markdown",
   "id": "0e42a4d2-3af8-4e89-9f20-f6b5ef5da44a",
   "metadata": {},
   "source": [
    "- We still have not treated the free text features, even in terms of missing values.\n",
    "    - Fare vocabolario con termini positivi e negativi, percentuale positivi/negativi, positivi/totale termini\n",
    "- streetPlain (the address with german characters) has still missing values, since we can not impute the address of an apartment!!\n",
    " Remove streetPlain and discretize zipcode (geoplz)"
   ]
  },
  {
   "cell_type": "markdown",
   "id": "f681b8b7-ce64-496e-b7a7-c3be49014ebe",
   "metadata": {
    "tags": []
   },
   "source": [
    "### Saving the dataframe for future analyses"
   ]
  },
  {
   "cell_type": "code",
   "execution_count": 51,
   "id": "32e3f4a7-0edf-4ce7-95f1-dfbbc56dd337",
   "metadata": {},
   "outputs": [],
   "source": [
    "# saving in csv format in MY jupyter data folder\n",
    "#dataframe.write.csv(\"dataframe_eda.csv\", header=True, mode=\"overwrite\")"
   ]
  },
  {
   "cell_type": "code",
   "execution_count": 52,
   "id": "19c9fcc4-b4bc-45d4-8445-ba2572ea5bdd",
   "metadata": {},
   "outputs": [],
   "source": [
    "#pandas_df = dataframe.toPandas()"
   ]
  },
  {
   "cell_type": "code",
   "execution_count": 53,
   "id": "55c9dabd-aac0-4aea-aa4e-29251e97f2d5",
   "metadata": {
    "tags": []
   },
   "outputs": [],
   "source": [
    "#pandas_df.to_csv(\"dataframe_eda.csv\", index = False)"
   ]
  },
  {
   "cell_type": "code",
   "execution_count": null,
   "id": "d1bb3fc6-4c18-4819-be06-48762d9281dd",
   "metadata": {},
   "outputs": [],
   "source": []
  }
 ],
 "metadata": {
  "kernelspec": {
   "display_name": "Python 3 (ipykernel)",
   "language": "python",
   "name": "python3"
  },
  "language_info": {
   "codemirror_mode": {
    "name": "ipython",
    "version": 3
   },
   "file_extension": ".py",
   "mimetype": "text/x-python",
   "name": "python",
   "nbconvert_exporter": "python",
   "pygments_lexer": "ipython3",
   "version": "3.10.11"
  }
 },
 "nbformat": 4,
 "nbformat_minor": 5
}
