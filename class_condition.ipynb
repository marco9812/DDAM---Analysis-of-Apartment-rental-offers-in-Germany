{
 "cells": [
  {
   "cell_type": "markdown",
   "id": "4a89ccdc-47c0-403a-9b9a-bd725d1515dc",
   "metadata": {
    "tags": []
   },
   "source": [
    "#### Importing libs and instanciating SC and SQLSC"
   ]
  },
  {
   "cell_type": "code",
   "execution_count": 1,
   "id": "31ab9d70-062e-436a-bd32-a988e7736a97",
   "metadata": {
    "tags": []
   },
   "outputs": [],
   "source": [
    "# useful libraries\n",
    "import pandas as pd\n",
    "import matplotlib.pyplot as plt\n",
    "%matplotlib inline\n",
    "import seaborn as sns\n",
    "\n",
    "# pyspark libs\n",
    "from pyspark import SparkContext\n",
    "from pyspark.sql import SQLContext, SparkSession, Row, Window\n",
    "from pyspark.sql.types import *\n",
    "import pyspark.sql.functions as F\n",
    "\n",
    "from pyspark.mllib.feature import StandardScaler, Normalizer, HashingTF, IDF\n",
    "from pyspark.mllib.linalg import Vectors, SparseVector, DenseMatrix\n",
    "from pyspark.mllib.stat import Statistics\n",
    "\n",
    "# classification libs\n",
    "from pyspark.ml.classification import RandomForestClassifier, DecisionTreeClassifier, GBTClassifier, MultilayerPerceptronClassifier, DecisionTreeClassificationModel, RandomForestClassificationModel\n",
    "from pyspark.ml import Pipeline\n",
    "from pyspark.ml.evaluation import MulticlassClassificationEvaluator\n",
    "from pyspark.ml.tuning import ParamGridBuilder, CrossValidator\n",
    "\n",
    "from pyspark.ml.feature import StringIndexer, VectorIndexer, Imputer, MinMaxScaler, VectorAssembler, OneHotEncoder, QuantileDiscretizer, Bucketizer\n",
    "from pyspark.ml.stat import Correlation"
   ]
  },
  {
   "cell_type": "markdown",
   "id": "562a1c21-e361-4b0d-92fb-2844d575a862",
   "metadata": {
    "tags": []
   },
   "source": [
    "#### Loading the dataframe"
   ]
  },
  {
   "cell_type": "code",
   "execution_count": 2,
   "id": "42920d1d-3b35-41e4-9155-df8b875e18cf",
   "metadata": {
    "tags": []
   },
   "outputs": [
    {
     "name": "stderr",
     "output_type": "stream",
     "text": [
      "Setting default log level to \"WARN\".\n",
      "To adjust logging level use sc.setLogLevel(newLevel). For SparkR, use setLogLevel(newLevel).\n",
      "23/12/15 16:53:24 WARN NativeCodeLoader: Unable to load native-hadoop library for your platform... using builtin-java classes where applicable\n",
      "23/12/15 16:53:26 WARN Utils: Service 'SparkUI' could not bind on port 4040. Attempting port 4041.\n"
     ]
    }
   ],
   "source": [
    "ss = SparkSession.builder.appName(\"classification_final2\").getOrCreate()"
   ]
  },
  {
   "cell_type": "code",
   "execution_count": 3,
   "id": "e21bbc51-73e7-4f22-97bd-2c584c2aceae",
   "metadata": {
    "tags": []
   },
   "outputs": [
    {
     "name": "stderr",
     "output_type": "stream",
     "text": [
      "[Stage 2:>                                                          (0 + 1) / 1]\r"
     ]
    },
    {
     "name": "stdout",
     "output_type": "stream",
     "text": [
      "Size of the dataframe:\n",
      "(188417, 27)\n",
      "\n",
      "Columns names:\n",
      "['regio1', 'heatingType', 'balcony', 'firingTypes', 'hasKitchen', 'cellar', 'condition', 'interiorQual', 'petsAllowed', 'streetPlain', 'lift', 'typeOfFlat', 'geo_plz', 'garden', 'regio2', 'regio3', 'description', 'facilities', 'log_pictureCount', 'log_yearConstructed', 'log_noRooms', 'log_floor', 'log_numberOfFloors', 'log_serviceCharge', 'log_baseRent', 'log_livingSpace', 'log_thermalChar']\n",
      "\n",
      "Columns and types:\n",
      "[('regio1', 'string'), ('heatingType', 'string'), ('balcony', 'boolean'), ('firingTypes', 'string'), ('hasKitchen', 'boolean'), ('cellar', 'boolean'), ('condition', 'string'), ('interiorQual', 'string'), ('petsAllowed', 'string'), ('streetPlain', 'string'), ('lift', 'boolean'), ('typeOfFlat', 'string'), ('geo_plz', 'int'), ('garden', 'boolean'), ('regio2', 'string'), ('regio3', 'string'), ('description', 'string'), ('facilities', 'string'), ('log_pictureCount', 'double'), ('log_yearConstructed', 'double'), ('log_noRooms', 'double'), ('log_floor', 'double'), ('log_numberOfFloors', 'double'), ('log_serviceCharge', 'double'), ('log_baseRent', 'double'), ('log_livingSpace', 'double'), ('log_thermalChar', 'double')]\n"
     ]
    },
    {
     "name": "stderr",
     "output_type": "stream",
     "text": [
      "                                                                                \r"
     ]
    }
   ],
   "source": [
    "# Read the CSV file with multiline values (description and facilities)\n",
    "data = ss.read.options(header = True, inferSchema = True, multiline = True, escape = \"\\\"\").csv(\"dataframe_totalCleaned.csv\")\n",
    "\n",
    "# dataframe's dimension and attributes\n",
    "print(f\"Size of the dataframe:\\n{data.count(), len(data.columns)}\")\n",
    "print()\n",
    "print(f\"Columns names:\\n{data.columns}\")\n",
    "print()\n",
    "print(f\"Columns and types:\\n{data.dtypes}\")"
   ]
  },
  {
   "cell_type": "code",
   "execution_count": 4,
   "id": "b8bcdf77-ad1d-4665-87a9-74e8c0cee3d4",
   "metadata": {
    "tags": []
   },
   "outputs": [],
   "source": [
    "# dropping geo_plz (found high correlation with regio1) and streetPlain (the info about the address of the apartment is too specific)\n",
    "data = data.drop(\"geo_plz\", \"streetPlain\")"
   ]
  },
  {
   "cell_type": "code",
   "execution_count": 5,
   "id": "cc4d51aa-a980-4f98-8ff7-938bfac8e75a",
   "metadata": {
    "tags": []
   },
   "outputs": [
    {
     "name": "stderr",
     "output_type": "stream",
     "text": [
      "[Stage 5:>                                                          (0 + 1) / 1]\r"
     ]
    },
    {
     "name": "stdout",
     "output_type": "stream",
     "text": [
      "Size of the dataframe: (188417, 25)\n"
     ]
    },
    {
     "name": "stderr",
     "output_type": "stream",
     "text": [
      "                                                                                \r"
     ]
    }
   ],
   "source": [
    "print(f\"Size of the dataframe: {data.count(), len(data.columns)}\")"
   ]
  },
  {
   "cell_type": "code",
   "execution_count": 6,
   "id": "6b0701c2-3137-4913-b1be-a5da0503b203",
   "metadata": {
    "tags": []
   },
   "outputs": [
    {
     "name": "stderr",
     "output_type": "stream",
     "text": [
      "                                                                                \r"
     ]
    },
    {
     "name": "stdout",
     "output_type": "stream",
     "text": [
      "+--------------------+-----+\n",
      "|           condition|count|\n",
      "+--------------------+-----+\n",
      "|      first_time_use|17223|\n",
      "|first_time_use_af...|10729|\n",
      "|     fully_renovated|19268|\n",
      "|          negotiable| 1818|\n",
      "|           well_kept|88986|\n",
      "|  need_of_renovation| 1030|\n",
      "| ripe_for_demolition|    1|\n",
      "|         refurbished|19468|\n",
      "|      mint_condition|16538|\n",
      "|          modernized|13356|\n",
      "+--------------------+-----+\n",
      "\n"
     ]
    }
   ],
   "source": [
    "data.groupBy(\"condition\").count().show()"
   ]
  },
  {
   "cell_type": "code",
   "execution_count": 7,
   "id": "22d7aa06-5d8d-4a53-b754-bfd9e55ba234",
   "metadata": {
    "tags": []
   },
   "outputs": [],
   "source": [
    "data = data.filter((F.col(\"condition\") != \"negotiable\") &\\\n",
    "                   (F.col(\"condition\") != \"need_of_renovation\") &\\\n",
    "                   (F.col(\"condition\") != \"ripe_for_demolition\"))"
   ]
  },
  {
   "cell_type": "code",
   "execution_count": 8,
   "id": "cd6ed82a-303c-4333-bd79-d4533f77dfe3",
   "metadata": {
    "tags": []
   },
   "outputs": [
    {
     "name": "stderr",
     "output_type": "stream",
     "text": [
      "[Stage 11:>                                                         (0 + 1) / 1]\r"
     ]
    },
    {
     "name": "stdout",
     "output_type": "stream",
     "text": [
      "Size of the dataframe: (185568, 25)\n"
     ]
    },
    {
     "name": "stderr",
     "output_type": "stream",
     "text": [
      "                                                                                \r"
     ]
    }
   ],
   "source": [
    "print(f\"Size of the dataframe: {data.count(), len(data.columns)}\")"
   ]
  },
  {
   "cell_type": "markdown",
   "id": "136546d1-4d5d-4c5f-8ab8-ab5a4ff33a16",
   "metadata": {},
   "source": [
    "### Defining classification's target variable and number of classes"
   ]
  },
  {
   "cell_type": "code",
   "execution_count": 9,
   "id": "a4869ec1-7c05-46fb-8560-ae6be108109b",
   "metadata": {
    "tags": []
   },
   "outputs": [
    {
     "name": "stderr",
     "output_type": "stream",
     "text": [
      "[Stage 14:>                                                         (0 + 1) / 1]\r"
     ]
    },
    {
     "name": "stdout",
     "output_type": "stream",
     "text": [
      "Number of classes: 7\n"
     ]
    },
    {
     "name": "stderr",
     "output_type": "stream",
     "text": [
      "                                                                                \r"
     ]
    }
   ],
   "source": [
    "target = \"condition\"\n",
    "\n",
    "if data.select(target).dtypes[0][1] == \"double\":\n",
    "    # how many classes if we have to discretize the target\n",
    "    n_classes = 3\n",
    "else:\n",
    "    n_classes = data.select(target).distinct().count()\n",
    "\n",
    "print(f\"Number of classes: {n_classes}\")"
   ]
  },
  {
   "cell_type": "markdown",
   "id": "459fe7c8-8749-41be-8c27-8387558b23ff",
   "metadata": {},
   "source": [
    "### Classification pre-processing"
   ]
  },
  {
   "cell_type": "code",
   "execution_count": 10,
   "id": "ab8032c1-0759-4b2b-818d-11a10e6cc157",
   "metadata": {
    "tags": []
   },
   "outputs": [],
   "source": [
    "def atts_by_type(dataframe, target):\n",
    "    textAtts = [\"description\", \"facilities\"]\n",
    "    contAtts = [c[0] for c in dataframe.dtypes if (c[1] == \"double\") and (c[0] != target)]\n",
    "    catAtts = [c[0] for c in dataframe.dtypes if ((c[1] == \"string\") and (c[0] not in textAtts)) and (c[0] != target)]\n",
    "    boolAtts = [c for c in dataframe.columns if c not in (contAtts + catAtts + textAtts) and (c != target)]\n",
    "    \n",
    "    # show the attributes of different types\n",
    "    print(f\"Free text attributes:\\n{textAtts}\", end = \"\\n\\n\")\n",
    "    print(f\"Numerical attributes:\\n{contAtts}\", end = \"\\n\\n\")\n",
    "    print(f\"Categorical attributes:\\n{catAtts}\", end = \"\\n\\n\")\n",
    "    print(f\"Boolean attributes:\\n{boolAtts}\", end = \"\\n\\n\")\n",
    "    \n",
    "    # return double, string and boolean attributes as lists in this order\n",
    "    return textAtts, contAtts, catAtts, boolAtts"
   ]
  },
  {
   "cell_type": "code",
   "execution_count": 11,
   "id": "04fdd18b-7ec1-46b3-959b-4e2dd581a3e3",
   "metadata": {
    "tags": []
   },
   "outputs": [
    {
     "name": "stdout",
     "output_type": "stream",
     "text": [
      "Free text attributes:\n",
      "['description', 'facilities']\n",
      "\n",
      "Numerical attributes:\n",
      "['log_pictureCount', 'log_yearConstructed', 'log_noRooms', 'log_floor', 'log_numberOfFloors', 'log_serviceCharge', 'log_baseRent', 'log_livingSpace', 'log_thermalChar']\n",
      "\n",
      "Categorical attributes:\n",
      "['regio1', 'heatingType', 'firingTypes', 'interiorQual', 'petsAllowed', 'typeOfFlat', 'regio2', 'regio3']\n",
      "\n",
      "Boolean attributes:\n",
      "['balcony', 'hasKitchen', 'cellar', 'lift', 'garden']\n",
      "\n"
     ]
    }
   ],
   "source": [
    "textAtts, contAtts, catAtts, boolAtts = atts_by_type(data, target)"
   ]
  },
  {
   "cell_type": "markdown",
   "id": "b51f5635-c738-4b68-bc6b-ce19269ff4e1",
   "metadata": {},
   "source": [
    "### Shuffling and global transformations"
   ]
  },
  {
   "cell_type": "code",
   "execution_count": 12,
   "id": "82d1d461-f8a8-41f6-a834-0540018b83df",
   "metadata": {
    "tags": []
   },
   "outputs": [],
   "source": [
    "# shuffling the rows to remove any ordering bias\n",
    "shuff_data = data.orderBy(F.rand(seed = 42))"
   ]
  },
  {
   "cell_type": "markdown",
   "id": "49e0d2af-4f01-4018-aad9-1cf3ea211938",
   "metadata": {},
   "source": [
    "#### One-Hot-Encoding and StringIndexing independent features"
   ]
  },
  {
   "cell_type": "code",
   "execution_count": 13,
   "id": "3baf7495-90bd-4f7a-8569-1abe61091bc4",
   "metadata": {
    "tags": []
   },
   "outputs": [],
   "source": [
    "data_encoded = shuff_data.select(\"*\")"
   ]
  },
  {
   "cell_type": "markdown",
   "id": "d4835519-5200-4a47-844e-0cf89e432340",
   "metadata": {
    "tags": []
   },
   "source": [
    "##### Decided to dummify with OneHotEncoder only categoricals with less than 10 distinct values and keep the others only indexed through StringIndexer and then scaling these last to make them aligned with the 0-1 range of the other numerical features\n",
    "This was done to ensure we didn't create thousands of columns (since dummifying means adding a binary column for each distinct value of each attribute)"
   ]
  },
  {
   "cell_type": "code",
   "execution_count": 14,
   "id": "d386ebca-4d54-4a43-b330-e1008cd51bfa",
   "metadata": {
    "tags": []
   },
   "outputs": [
    {
     "name": "stderr",
     "output_type": "stream",
     "text": [
      "                                                                                \r"
     ]
    }
   ],
   "source": [
    "oneHotAtts = []\n",
    "strIdxAtts = []\n",
    "\n",
    "for att in catAtts:\n",
    "    dist = data_encoded.select(att).distinct().count()\n",
    "    if dist > 10:\n",
    "        strIdxAtts.append(att)\n",
    "    else:\n",
    "        oneHotAtts.append(att)"
   ]
  },
  {
   "cell_type": "code",
   "execution_count": 15,
   "id": "3257a4dd-4518-4fa5-9a1a-055b7256fb61",
   "metadata": {
    "tags": []
   },
   "outputs": [
    {
     "name": "stdout",
     "output_type": "stream",
     "text": [
      "Attributes for OneHotEncoder:\n",
      "['interiorQual', 'petsAllowed', 'typeOfFlat']\n",
      "\n",
      "Attributes for only StringIndexer:\n",
      "['regio1', 'heatingType', 'firingTypes', 'regio2', 'regio3']\n"
     ]
    }
   ],
   "source": [
    "# printing both lists\n",
    "print(f\"Attributes for OneHotEncoder:\\n{oneHotAtts}\\n\")\n",
    "print(f\"Attributes for only StringIndexer:\\n{strIdxAtts}\")"
   ]
  },
  {
   "cell_type": "code",
   "execution_count": 16,
   "id": "7cadd5a7-9464-4e8e-ad43-d0ee8c79ac0d",
   "metadata": {
    "tags": []
   },
   "outputs": [
    {
     "name": "stderr",
     "output_type": "stream",
     "text": [
      "                                                                                \r"
     ]
    }
   ],
   "source": [
    "for att in catAtts:\n",
    "    # index categorical column using StringIndexer\n",
    "    indexer = StringIndexer(inputCol = att, outputCol = f\"{att}_index\")\n",
    "    data_encoded = indexer.fit(data_encoded).transform(data_encoded)\n",
    "    \n",
    "    # drop non indexed attribute\n",
    "    data_encoded = data_encoded.drop(att)\n",
    "    \n",
    "    if att in oneHotAtts:\n",
    "        encoder = OneHotEncoder(inputCol = f\"{att}_index\", outputCol = f\"{att}_encoded\")\n",
    "        data_encoded = encoder.fit(data_encoded).transform(data_encoded)\n",
    "    \n",
    "        # dropping the indexed and original attributes, since we have the encoded version\n",
    "        data_encoded = data_encoded.drop(f\"{att}_index\")\n",
    "        data_encoded = data_encoded.drop(att)\n",
    "        \n",
    "        # renaming the encoded columns as originals\n",
    "        data_encoded = data_encoded.withColumnRenamed(f\"{att}_encoded\", att)"
   ]
  },
  {
   "cell_type": "code",
   "execution_count": 17,
   "id": "dc84b390-5e30-4a19-9d9b-456e424c8836",
   "metadata": {
    "tags": []
   },
   "outputs": [
    {
     "name": "stdout",
     "output_type": "stream",
     "text": [
      "Attributes:\n",
      "['balcony', 'hasKitchen', 'cellar', 'condition', 'lift', 'garden', 'description', 'facilities', 'log_pictureCount', 'log_yearConstructed', 'log_noRooms', 'log_floor', 'log_numberOfFloors', 'log_serviceCharge', 'log_baseRent', 'log_livingSpace', 'log_thermalChar', 'regio1_index', 'heatingType_index', 'firingTypes_index', 'interiorQual', 'petsAllowed', 'typeOfFlat', 'regio2_index', 'regio3_index']\n"
     ]
    }
   ],
   "source": [
    "print(f\"Attributes:\\n{data_encoded.columns}\")"
   ]
  },
  {
   "cell_type": "code",
   "execution_count": 18,
   "id": "c85c65dc-bfdb-47b4-a86b-9dfad3f1b31f",
   "metadata": {
    "tags": []
   },
   "outputs": [
    {
     "name": "stderr",
     "output_type": "stream",
     "text": [
      "                                                                                \r"
     ]
    },
    {
     "name": "stdout",
     "output_type": "stream",
     "text": [
      "+------------+\n",
      "|regio1_index|\n",
      "+------------+\n",
      "|        13.0|\n",
      "|         5.0|\n",
      "|         4.0|\n",
      "|         1.0|\n",
      "|         6.0|\n",
      "+------------+\n",
      "\n"
     ]
    },
    {
     "name": "stderr",
     "output_type": "stream",
     "text": [
      "[Stage 129:>                                                        (0 + 1) / 1]\r"
     ]
    },
    {
     "name": "stdout",
     "output_type": "stream",
     "text": [
      "+-------------+\n",
      "|  petsAllowed|\n",
      "+-------------+\n",
      "|(2,[0],[1.0])|\n",
      "|(2,[0],[1.0])|\n",
      "|(2,[0],[1.0])|\n",
      "|(2,[0],[1.0])|\n",
      "|(2,[0],[1.0])|\n",
      "+-------------+\n",
      "\n"
     ]
    },
    {
     "name": "stderr",
     "output_type": "stream",
     "text": [
      "                                                                                \r"
     ]
    }
   ],
   "source": [
    "# show encoded attributes\n",
    "data_encoded.select(\"regio1_index\").limit(5).show()\n",
    "data_encoded.select(\"petsAllowed\").limit(5).show()"
   ]
  },
  {
   "cell_type": "markdown",
   "id": "c8caf50d-9e85-407c-a271-11d0752541f5",
   "metadata": {
    "tags": []
   },
   "source": [
    "### Train-Test split and scaling"
   ]
  },
  {
   "cell_type": "code",
   "execution_count": 19,
   "id": "a30eb36a-f50a-4734-8444-e18744e94356",
   "metadata": {
    "tags": []
   },
   "outputs": [],
   "source": [
    "# split into training and testing sets before scaling\n",
    "df_train_bs, df_test_bs = data_encoded.randomSplit([0.7, 0.3], seed = 42)\n",
    "#print(f\"Size of df_train_bs (not assembled): {df_train_bs.count(), len(df_train_bs.columns)}\")\n",
    "#print(f\"Size of df_test_bs (not assembled): {df_test_bs.count(), len(df_test_bs.columns)}\")"
   ]
  },
  {
   "cell_type": "markdown",
   "id": "0a8ae37a-1ce0-4a91-af97-72b95f0f7aab",
   "metadata": {},
   "source": [
    "#### MinMax Scaler\n",
    "Fit on df_train, apply to df_test -> avoid Data Leakage"
   ]
  },
  {
   "cell_type": "code",
   "execution_count": 20,
   "id": "c25571e1-75df-4e01-bda0-e10a69109df4",
   "metadata": {
    "tags": []
   },
   "outputs": [],
   "source": [
    "df_train_scaled = df_train_bs.select(\"*\")\n",
    "df_test_scaled = df_test_bs.select(\"*\")"
   ]
  },
  {
   "cell_type": "code",
   "execution_count": 21,
   "id": "7a0d0d09-5033-422f-b365-2d78ea0f35ee",
   "metadata": {
    "tags": []
   },
   "outputs": [
    {
     "name": "stderr",
     "output_type": "stream",
     "text": [
      "23/12/15 16:58:07 WARN SparkStringUtils: Truncated the string representation of a plan since it was too large. This behavior can be adjusted by setting 'spark.sql.debug.maxToStringFields'.\n",
      "                                                                                \r"
     ]
    }
   ],
   "source": [
    "for att in strIdxAtts:\n",
    "    assembler_temp = VectorAssembler(inputCols=[f\"{att}_index\"], outputCol=f\"{att}_temp\")\n",
    "\n",
    "    # assemble the feature for scaling in the training set\n",
    "    df_train_scaled = assembler_temp.transform(df_train_scaled)\n",
    "\n",
    "    # drop indexed since using assembled feature\n",
    "    df_train_scaled = df_train_scaled.drop(f\"{att}_index\")\n",
    "\n",
    "    # scaler\n",
    "    scaler = MinMaxScaler(inputCol=f\"{att}_temp\", outputCol=f\"{att}_scaled\")\n",
    "    scaler_model = scaler.fit(df_train_scaled)\n",
    "    df_train_scaled = scaler_model.transform(df_train_scaled)\n",
    "\n",
    "    # drop temp feature\n",
    "    df_train_scaled = df_train_scaled.drop(f\"{att}_temp\")\n",
    "\n",
    "    # apply the same scaler to the test set\n",
    "    df_test_scaled = assembler_temp.transform(df_test_scaled)\n",
    "    df_test_scaled = df_test_scaled.drop(f\"{att}_index\")\n",
    "    df_test_scaled = scaler_model.transform(df_test_scaled)\n",
    "    df_test_scaled = df_test_scaled.drop(f\"{att}_temp\")"
   ]
  },
  {
   "cell_type": "code",
   "execution_count": 22,
   "id": "8881babb-8921-467f-9f58-45bff11bd9e9",
   "metadata": {
    "tags": []
   },
   "outputs": [
    {
     "name": "stderr",
     "output_type": "stream",
     "text": [
      "                                                                                \r"
     ]
    },
    {
     "name": "stdout",
     "output_type": "stream",
     "text": [
      "Size of the scaled df_train: (129973, 25)\n",
      "\n"
     ]
    },
    {
     "name": "stderr",
     "output_type": "stream",
     "text": [
      "[Stage 177:============================>                         (18 + 16) / 34]\r"
     ]
    },
    {
     "name": "stdout",
     "output_type": "stream",
     "text": [
      "Size of the scaled df_test: (55610, 25)\n"
     ]
    },
    {
     "name": "stderr",
     "output_type": "stream",
     "text": [
      "                                                                                \r"
     ]
    }
   ],
   "source": [
    "print(f\"Size of the scaled df_train: {df_train_scaled.count(), len(df_train_scaled.columns)}\\n\")\n",
    "print(f\"Size of the scaled df_test: {df_test_scaled.count(), len(df_test_scaled.columns)}\")"
   ]
  },
  {
   "cell_type": "markdown",
   "id": "1343c23d-ed22-4afd-a64b-c8832b10a920",
   "metadata": {},
   "source": [
    "##### Renaming attributes"
   ]
  },
  {
   "cell_type": "code",
   "execution_count": 23,
   "id": "d32c74ea-2e0a-4207-88c8-f88d4aa5b1eb",
   "metadata": {
    "tags": []
   },
   "outputs": [],
   "source": [
    "for att in strIdxAtts:\n",
    "    df_train_scaled = df_train_scaled.withColumnRenamed(f\"{att}_scaled\", att)\n",
    "    df_test_scaled = df_test_scaled.withColumnRenamed(f\"{att}_scaled\", att)"
   ]
  },
  {
   "cell_type": "code",
   "execution_count": 24,
   "id": "49718438-0fe3-4085-a6ef-c6b2471a5352",
   "metadata": {
    "tags": []
   },
   "outputs": [
    {
     "name": "stdout",
     "output_type": "stream",
     "text": [
      "Attributes in the scaled df_train:\n",
      "['balcony', 'hasKitchen', 'cellar', 'condition', 'lift', 'garden', 'description', 'facilities', 'log_pictureCount', 'log_yearConstructed', 'log_noRooms', 'log_floor', 'log_numberOfFloors', 'log_serviceCharge', 'log_baseRent', 'log_livingSpace', 'log_thermalChar', 'interiorQual', 'petsAllowed', 'typeOfFlat', 'regio1', 'heatingType', 'firingTypes', 'regio2', 'regio3']\n",
      "\n",
      "Attributes in the scaled df_test:\n",
      "['balcony', 'hasKitchen', 'cellar', 'condition', 'lift', 'garden', 'description', 'facilities', 'log_pictureCount', 'log_yearConstructed', 'log_noRooms', 'log_floor', 'log_numberOfFloors', 'log_serviceCharge', 'log_baseRent', 'log_livingSpace', 'log_thermalChar', 'interiorQual', 'petsAllowed', 'typeOfFlat', 'regio1', 'heatingType', 'firingTypes', 'regio2', 'regio3']\n"
     ]
    }
   ],
   "source": [
    "print(f\"Attributes in the scaled df_train:\\n{df_train_scaled.columns}\\n\")\n",
    "print(f\"Attributes in the scaled df_test:\\n{df_test_scaled.columns}\")"
   ]
  },
  {
   "cell_type": "code",
   "execution_count": 25,
   "id": "6cdcb63b-0dd9-481f-9e83-028f0be1d62d",
   "metadata": {
    "tags": []
   },
   "outputs": [
    {
     "name": "stdout",
     "output_type": "stream",
     "text": [
      "Attribute in df_train_scaled\n"
     ]
    },
    {
     "name": "stderr",
     "output_type": "stream",
     "text": [
      "                                                                                \r"
     ]
    },
    {
     "name": "stdout",
     "output_type": "stream",
     "text": [
      "+--------------------+\n",
      "|              regio1|\n",
      "+--------------------+\n",
      "|[0.26666666666666...|\n",
      "|[0.3333333333333333]|\n",
      "|               [0.6]|\n",
      "|               [0.2]|\n",
      "|[0.13333333333333...|\n",
      "+--------------------+\n",
      "\n",
      "Attribute in df_test_scaled\n"
     ]
    },
    {
     "name": "stderr",
     "output_type": "stream",
     "text": [
      "[Stage 186:>                                                        (0 + 1) / 1]\r"
     ]
    },
    {
     "name": "stdout",
     "output_type": "stream",
     "text": [
      "+--------------------+\n",
      "|              regio1|\n",
      "+--------------------+\n",
      "|               [0.0]|\n",
      "|[0.06666666666666...|\n",
      "|               [0.6]|\n",
      "|[0.3333333333333333]|\n",
      "|[0.26666666666666...|\n",
      "+--------------------+\n",
      "\n"
     ]
    },
    {
     "name": "stderr",
     "output_type": "stream",
     "text": [
      "                                                                                \r"
     ]
    }
   ],
   "source": [
    "# checking scaled in train and test\n",
    "print(\"Attribute in df_train_scaled\")\n",
    "df_train_scaled.select(\"regio1\").limit(5).show()\n",
    "print(\"Attribute in df_test_scaled\")\n",
    "df_test_scaled.select(\"regio1\").limit(5).show()"
   ]
  },
  {
   "cell_type": "markdown",
   "id": "23edad9b-b7d5-42a9-920e-14a04bca9cbb",
   "metadata": {},
   "source": [
    "##### Dummifying booleans"
   ]
  },
  {
   "cell_type": "code",
   "execution_count": 26,
   "id": "06a2ca7c-2e9c-4afb-9f8a-96a22710aaed",
   "metadata": {
    "tags": []
   },
   "outputs": [],
   "source": [
    "# dummifying booleans\n",
    "for att in boolAtts:\n",
    "    df_train_scaled = df_train_scaled.withColumn(att, F.col(att).cast(IntegerType()))\n",
    "    df_test_scaled = df_test_scaled.withColumn(att, F.col(att).cast(IntegerType()))"
   ]
  },
  {
   "cell_type": "code",
   "execution_count": 27,
   "id": "083743aa-a71b-404e-8ebf-37aa2bbe6f78",
   "metadata": {
    "tags": []
   },
   "outputs": [
    {
     "name": "stderr",
     "output_type": "stream",
     "text": [
      "                                                                                \r"
     ]
    },
    {
     "name": "stdout",
     "output_type": "stream",
     "text": [
      "+--------------------+\n",
      "|         firingTypes|\n",
      "+--------------------+\n",
      "|               [0.0]|\n",
      "|[0.08403361344537...|\n",
      "|               [0.0]|\n",
      "|[0.00840336134453...|\n",
      "|               [0.0]|\n",
      "+--------------------+\n",
      "\n"
     ]
    },
    {
     "name": "stderr",
     "output_type": "stream",
     "text": [
      "                                                                                \r"
     ]
    },
    {
     "name": "stdout",
     "output_type": "stream",
     "text": [
      "+----------+\n",
      "|hasKitchen|\n",
      "+----------+\n",
      "|         0|\n",
      "|         0|\n",
      "|         0|\n",
      "|         0|\n",
      "|         0|\n",
      "+----------+\n",
      "\n"
     ]
    },
    {
     "name": "stderr",
     "output_type": "stream",
     "text": [
      "[Stage 198:>                                                        (0 + 1) / 1]\r"
     ]
    },
    {
     "name": "stdout",
     "output_type": "stream",
     "text": [
      "+--------------------+\n",
      "|              regio1|\n",
      "+--------------------+\n",
      "|[0.26666666666666...|\n",
      "|[0.3333333333333333]|\n",
      "|               [0.6]|\n",
      "|               [0.2]|\n",
      "|[0.13333333333333...|\n",
      "+--------------------+\n",
      "\n"
     ]
    },
    {
     "name": "stderr",
     "output_type": "stream",
     "text": [
      "                                                                                \r"
     ]
    }
   ],
   "source": [
    "# checking encoded, scaled and bools attributes after the transformations\n",
    "df_train_scaled.select(\"firingTypes\").limit(5).show()\n",
    "df_train_scaled.select(\"hasKitchen\").limit(5).show()\n",
    "df_train_scaled.select(\"regio1\").limit(5).show()"
   ]
  },
  {
   "cell_type": "markdown",
   "id": "aacda0ac-ae92-41f9-a65d-6fcf423519dd",
   "metadata": {},
   "source": [
    "##### Not keeping free text attributes"
   ]
  },
  {
   "cell_type": "code",
   "execution_count": 28,
   "id": "8255aac3-7c85-4063-9573-174650702dfa",
   "metadata": {
    "tags": []
   },
   "outputs": [],
   "source": [
    "# copying the encoded df_train and df_test without the free text variables (we may treat them separately)\n",
    "df_train_original = df_train_scaled.select(*[F.col(c) for c in df_train_scaled.columns if c not in textAtts])\n",
    "df_test_original = df_test_scaled.select(*[F.col(c) for c in df_test_scaled.columns if c not in textAtts])"
   ]
  },
  {
   "cell_type": "code",
   "execution_count": 29,
   "id": "d69c29ef-fbb4-4b97-91d4-a5dea4a4db98",
   "metadata": {
    "tags": []
   },
   "outputs": [],
   "source": [
    "# combining all features into a single vector column\n",
    "features = [c for c in df_train_original.columns if c != target]\n",
    "\n",
    "assembler = VectorAssembler(inputCols = features, outputCol=\"features\")\n",
    "df_train, df_test = assembler.transform(df_train_original), assembler.transform(df_test_original)"
   ]
  },
  {
   "cell_type": "code",
   "execution_count": 30,
   "id": "5af2ddb3-d0e3-45e3-8795-e29ba0743676",
   "metadata": {
    "tags": []
   },
   "outputs": [
    {
     "name": "stderr",
     "output_type": "stream",
     "text": [
      "                                                                                \r"
     ]
    },
    {
     "name": "stdout",
     "output_type": "stream",
     "text": [
      "Size of df_train: (129938, 2)\n"
     ]
    },
    {
     "name": "stderr",
     "output_type": "stream",
     "text": [
      "[Stage 211:==============================>                       (19 + 15) / 34]\r"
     ]
    },
    {
     "name": "stdout",
     "output_type": "stream",
     "text": [
      "Size of df_test: (55630, 2)\n"
     ]
    },
    {
     "name": "stderr",
     "output_type": "stream",
     "text": [
      "                                                                                \r"
     ]
    }
   ],
   "source": [
    "# only target and assembled features\n",
    "df_train, df_test = df_train.select(target, \"features\"), df_test.select(target, \"features\")\n",
    "\n",
    "print(f\"Size of df_train: {df_train.count(), len(df_train.columns)}\")\n",
    "print(f\"Size of df_test: {df_test.count(), len(df_test.columns)}\")"
   ]
  },
  {
   "cell_type": "markdown",
   "id": "24b08350-6a0c-450a-98ed-147751157967",
   "metadata": {},
   "source": [
    "### Discretization of the target variable (if needed)"
   ]
  },
  {
   "cell_type": "code",
   "execution_count": 31,
   "id": "015fe782-fb82-4e80-8079-aef5cd440308",
   "metadata": {
    "tags": []
   },
   "outputs": [
    {
     "data": {
      "text/plain": [
       "[('condition', 'string')]"
      ]
     },
     "execution_count": 31,
     "metadata": {},
     "output_type": "execute_result"
    }
   ],
   "source": [
    "df_train.select(target).dtypes"
   ]
  },
  {
   "cell_type": "markdown",
   "id": "59d413c9-5913-4f55-a329-55a72e31fd56",
   "metadata": {},
   "source": [
    "##### Natural binning"
   ]
  },
  {
   "cell_type": "code",
   "execution_count": 32,
   "id": "b756cd8e-e120-43b3-9267-44306f36734b",
   "metadata": {
    "tags": []
   },
   "outputs": [],
   "source": [
    "def target_for_class(df_train, df_test, target, nBins):\n",
    "    target_label = target + \"_label\"\n",
    "    \n",
    "    if df_train.select(target).dtypes[0][1] == \"double\":\n",
    "        nBins = nBins\n",
    "        \n",
    "        # instanciating QuantileDiscretizer\n",
    "        discretizer = QuantileDiscretizer(numBuckets = nBins, inputCol = target, outputCol = target_label)\n",
    "        \n",
    "        # fit on the training set\n",
    "        discretizer_model = discretizer.fit(df_train)\n",
    "        df_train_discr = discretizer_model.transform(df_train)\n",
    "\n",
    "        # transform the test set using the same discretizer\n",
    "        df_test_discr = discretizer_model.transform(df_test)\n",
    "        \n",
    "    elif df_train.select(target).dtypes[0][1] == \"string\":\n",
    "        # stringIndexing the label if string\n",
    "        label_indexer = StringIndexer(inputCol = target, outputCol = target_label)\n",
    "        \n",
    "        label_indexer_model = label_indexer.fit(df_train)\n",
    "        df_train_discr = label_indexer_model.transform(df_train)\n",
    "        \n",
    "        df_test_discr = label_indexer_model.transform(df_test)\n",
    "        \n",
    "    else:\n",
    "        df_train_discr = df_train.select(\"*\")\n",
    "        df_test_discr = df_test.select(\"*\")\n",
    "    \n",
    "    # select only label and features\n",
    "    df_train_discr = df_train_discr.select(target_label, \"features\")\n",
    "    df_test_discr = df_test_discr.select(target_label, \"features\")\n",
    "    \n",
    "    # return the df and the target_label\n",
    "    return df_train_discr, df_test_discr, target_label"
   ]
  },
  {
   "cell_type": "code",
   "execution_count": 33,
   "id": "02237906-9671-489f-93d8-78c1aa1d6831",
   "metadata": {
    "tags": []
   },
   "outputs": [
    {
     "name": "stderr",
     "output_type": "stream",
     "text": [
      "                                                                                \r"
     ]
    }
   ],
   "source": [
    "df_train, df_test, target_label = target_for_class(df_train, df_test, target, n_classes)"
   ]
  },
  {
   "cell_type": "code",
   "execution_count": 34,
   "id": "1b038c21-8bbf-4169-b642-5435155051e3",
   "metadata": {
    "tags": []
   },
   "outputs": [
    {
     "name": "stdout",
     "output_type": "stream",
     "text": [
      "['condition_label', 'features']\n",
      "['condition_label', 'features']\n"
     ]
    },
    {
     "name": "stderr",
     "output_type": "stream",
     "text": [
      "                                                                                \r"
     ]
    },
    {
     "name": "stdout",
     "output_type": "stream",
     "text": [
      "+---------------+--------------------+\n",
      "|condition_label|            features|\n",
      "+---------------+--------------------+\n",
      "|            3.0|(33,[5,6,7,8,9,10...|\n",
      "|            3.0|(33,[5,6,8,9,10,1...|\n",
      "+---------------+--------------------+\n",
      "\n"
     ]
    },
    {
     "name": "stderr",
     "output_type": "stream",
     "text": [
      "[Stage 227:>                                                        (0 + 1) / 1]\r"
     ]
    },
    {
     "name": "stdout",
     "output_type": "stream",
     "text": [
      "+---------------+--------------------+\n",
      "|condition_label|            features|\n",
      "+---------------+--------------------+\n",
      "|            3.0|(33,[5,6,7,8,9,10...|\n",
      "|            3.0|(33,[5,6,8,9,10,1...|\n",
      "+---------------+--------------------+\n",
      "\n"
     ]
    },
    {
     "name": "stderr",
     "output_type": "stream",
     "text": [
      "                                                                                \r"
     ]
    }
   ],
   "source": [
    "# checking the resulting discretized data\n",
    "print(df_train.columns)\n",
    "print(df_test.columns)\n",
    "df_train.select(target_label, \"features\").limit(2).show()\n",
    "df_test.select(target_label, \"features\").limit(2).show()"
   ]
  },
  {
   "cell_type": "markdown",
   "id": "ac90b641-23be-4bd1-adec-285f86b0f6ea",
   "metadata": {
    "tags": []
   },
   "source": [
    "##### Equal width binning (2 bins with only 2 values... not good)"
   ]
  },
  {
   "cell_type": "markdown",
   "id": "51e0f886-e2aa-4130-a1b2-2ed13344bd51",
   "metadata": {
    "tags": []
   },
   "source": [
    "## Classification"
   ]
  },
  {
   "cell_type": "markdown",
   "id": "de189b59-392d-4031-acb0-0e5d7b27cb45",
   "metadata": {},
   "source": [
    "#### Rebalancing the classes for FS (only using training set)"
   ]
  },
  {
   "cell_type": "code",
   "execution_count": 35,
   "id": "bc31b65e-464c-45c6-af9d-7c50c7473845",
   "metadata": {
    "tags": []
   },
   "outputs": [],
   "source": [
    "# percentage of rows for each class for evaluating the model (not on df_test), minority and majority classes\n",
    "maj_fract = 0.2\n",
    "min_fract = 1"
   ]
  },
  {
   "cell_type": "code",
   "execution_count": 36,
   "id": "7d4d9bae-fcf5-416a-965b-a44f90a8176e",
   "metadata": {
    "tags": []
   },
   "outputs": [
    {
     "name": "stdout",
     "output_type": "stream",
     "text": [
      "Fractions for each class: {1: 1, 2: 1, 3: 1, 4: 1, 5: 1, 6: 1, 0: 0.2}\n"
     ]
    },
    {
     "name": "stderr",
     "output_type": "stream",
     "text": [
      "[Stage 233:===================================================>   (32 + 2) / 34]\r"
     ]
    },
    {
     "name": "stdout",
     "output_type": "stream",
     "text": [
      "Size of the sampled df: (79983, 2)\n"
     ]
    },
    {
     "name": "stderr",
     "output_type": "stream",
     "text": [
      "                                                                                \r"
     ]
    }
   ],
   "source": [
    "# stratified sampling the df based on the classes\n",
    "fractions = {i:min_fract for i in range(1, n_classes)}\n",
    "fractions[0] = maj_fract\n",
    "print(f\"Fractions for each class: {fractions}\")\n",
    "\n",
    "sampled_dataframe = df_train.sampleBy(target_label, fractions = fractions, seed = 42)\n",
    "print(f\"Size of the sampled df: {sampled_dataframe.count(), len(sampled_dataframe.columns)}\")"
   ]
  },
  {
   "cell_type": "markdown",
   "id": "84f1f1b5-a733-4787-9f73-479d1b5bde7a",
   "metadata": {
    "tags": []
   },
   "source": [
    "##### Tr-Val split (FS purposes)"
   ]
  },
  {
   "cell_type": "code",
   "execution_count": 37,
   "id": "8cf051d9-41e4-4e6a-80d5-b04dde053e87",
   "metadata": {
    "tags": []
   },
   "outputs": [
    {
     "name": "stderr",
     "output_type": "stream",
     "text": [
      "[Stage 240:===================================================>   (32 + 2) / 34]\r"
     ]
    },
    {
     "name": "stdout",
     "output_type": "stream",
     "text": [
      "Size of df_tr for feature selection: (56064, 2)\n"
     ]
    },
    {
     "name": "stderr",
     "output_type": "stream",
     "text": [
      "                                                                                \r"
     ]
    }
   ],
   "source": [
    "# split the training into tr and validation sets\n",
    "df_tr, df_val = sampled_dataframe.randomSplit([0.7, 0.3], seed = 42)\n",
    "print(f\"Size of df_tr for feature selection: {df_tr.count(), len(df_tr.columns)}\")\n",
    "#print(f\"Size of df_val for feature selection: {df_val.count(), len(df_val.columns)}\")"
   ]
  },
  {
   "cell_type": "code",
   "execution_count": 41,
   "id": "a3720382-d349-4434-ac32-0166b5279fb1",
   "metadata": {
    "tags": []
   },
   "outputs": [
    {
     "name": "stderr",
     "output_type": "stream",
     "text": [
      "23/12/15 17:06:40 WARN RowBasedKeyValueBatch: Calling spill() on RowBasedKeyValueBatch. Will not spill but return 0.\n",
      "23/12/15 17:06:40 WARN RowBasedKeyValueBatch: Calling spill() on RowBasedKeyValueBatch. Will not spill but return 0.\n",
      "23/12/15 17:06:40 WARN RowBasedKeyValueBatch: Calling spill() on RowBasedKeyValueBatch. Will not spill but return 0.\n",
      "23/12/15 17:06:40 WARN RowBasedKeyValueBatch: Calling spill() on RowBasedKeyValueBatch. Will not spill but return 0.\n",
      "23/12/15 17:06:40 WARN RowBasedKeyValueBatch: Calling spill() on RowBasedKeyValueBatch. Will not spill but return 0.\n",
      "23/12/15 17:06:40 WARN RowBasedKeyValueBatch: Calling spill() on RowBasedKeyValueBatch. Will not spill but return 0.\n",
      "23/12/15 17:06:40 WARN RowBasedKeyValueBatch: Calling spill() on RowBasedKeyValueBatch. Will not spill but return 0.\n",
      "23/12/15 17:06:40 WARN RowBasedKeyValueBatch: Calling spill() on RowBasedKeyValueBatch. Will not spill but return 0.\n",
      "23/12/15 17:06:40 WARN RowBasedKeyValueBatch: Calling spill() on RowBasedKeyValueBatch. Will not spill but return 0.\n",
      "23/12/15 17:06:42 WARN RowBasedKeyValueBatch: Calling spill() on RowBasedKeyValueBatch. Will not spill but return 0.\n",
      "23/12/15 17:06:42 WARN RowBasedKeyValueBatch: Calling spill() on RowBasedKeyValueBatch. Will not spill but return 0.\n",
      "23/12/15 17:06:43 WARN RowBasedKeyValueBatch: Calling spill() on RowBasedKeyValueBatch. Will not spill but return 0.\n",
      "23/12/15 17:06:43 WARN RowBasedKeyValueBatch: Calling spill() on RowBasedKeyValueBatch. Will not spill but return 0.\n",
      "23/12/15 17:06:43 WARN RowBasedKeyValueBatch: Calling spill() on RowBasedKeyValueBatch. Will not spill but return 0.\n",
      "23/12/15 17:06:43 WARN RowBasedKeyValueBatch: Calling spill() on RowBasedKeyValueBatch. Will not spill but return 0.\n",
      "23/12/15 17:06:43 WARN RowBasedKeyValueBatch: Calling spill() on RowBasedKeyValueBatch. Will not spill but return 0.\n",
      "23/12/15 17:06:43 WARN RowBasedKeyValueBatch: Calling spill() on RowBasedKeyValueBatch. Will not spill but return 0.\n",
      "23/12/15 17:06:43 WARN RowBasedKeyValueBatch: Calling spill() on RowBasedKeyValueBatch. Will not spill but return 0.\n",
      "23/12/15 17:06:44 WARN RowBasedKeyValueBatch: Calling spill() on RowBasedKeyValueBatch. Will not spill but return 0.\n",
      "23/12/15 17:06:44 WARN RowBasedKeyValueBatch: Calling spill() on RowBasedKeyValueBatch. Will not spill but return 0.\n",
      "23/12/15 17:06:44 WARN RowBasedKeyValueBatch: Calling spill() on RowBasedKeyValueBatch. Will not spill but return 0.\n",
      "23/12/15 17:06:44 WARN RowBasedKeyValueBatch: Calling spill() on RowBasedKeyValueBatch. Will not spill but return 0.\n",
      "23/12/15 17:06:44 WARN RowBasedKeyValueBatch: Calling spill() on RowBasedKeyValueBatch. Will not spill but return 0.\n",
      "23/12/15 17:06:44 WARN RowBasedKeyValueBatch: Calling spill() on RowBasedKeyValueBatch. Will not spill but return 0.\n",
      "23/12/15 17:06:44 WARN RowBasedKeyValueBatch: Calling spill() on RowBasedKeyValueBatch. Will not spill but return 0.\n",
      "23/12/15 17:06:44 WARN RowBasedKeyValueBatch: Calling spill() on RowBasedKeyValueBatch. Will not spill but return 0.\n",
      "23/12/15 17:06:44 WARN RowBasedKeyValueBatch: Calling spill() on RowBasedKeyValueBatch. Will not spill but return 0.\n",
      "23/12/15 17:06:46 WARN RowBasedKeyValueBatch: Calling spill() on RowBasedKeyValueBatch. Will not spill but return 0.\n",
      "23/12/15 17:06:46 WARN RowBasedKeyValueBatch: Calling spill() on RowBasedKeyValueBatch. Will not spill but return 0.\n",
      "23/12/15 17:06:46 WARN RowBasedKeyValueBatch: Calling spill() on RowBasedKeyValueBatch. Will not spill but return 0.\n",
      "23/12/15 17:06:47 WARN RowBasedKeyValueBatch: Calling spill() on RowBasedKeyValueBatch. Will not spill but return 0.\n",
      "[Stage 249:>                                                        (0 + 1) / 1]\r"
     ]
    },
    {
     "name": "stdout",
     "output_type": "stream",
     "text": [
      "+---------------+-----+\n",
      "|condition_label|count|\n",
      "+---------------+-----+\n",
      "|            0.0|12491|\n",
      "|            1.0|13579|\n",
      "|            4.0|11721|\n",
      "|            3.0|12023|\n",
      "|            2.0|13565|\n",
      "|            6.0| 7428|\n",
      "|            5.0| 9266|\n",
      "+---------------+-----+\n",
      "\n"
     ]
    },
    {
     "name": "stderr",
     "output_type": "stream",
     "text": [
      "[Stage 258:======================>                               (14 + 20) / 34]\r"
     ]
    }
   ],
   "source": [
    "sampled_dataframe.groupBy(target_label).count().show()"
   ]
  },
  {
   "cell_type": "markdown",
   "id": "9d0bbfa4-5896-407e-8ea0-2cb8c6260fcf",
   "metadata": {},
   "source": [
    "### DT feature importances\n",
    "Using a sample of the data"
   ]
  },
  {
   "cell_type": "code",
   "execution_count": 42,
   "id": "4ed3c013-963c-4545-af91-2ad490ec0c88",
   "metadata": {
    "tags": []
   },
   "outputs": [
    {
     "name": "stderr",
     "output_type": "stream",
     "text": [
      "[Stage 258:============================>                         (18 + 16) / 34]\r"
     ]
    }
   ],
   "source": [
    "def fit_eval_classif(df_train, df_valOrTest, classifier, target_label):\n",
    "    model_name = classifier.uid.split(\"_\")[0]\n",
    "    print(f\"Model: {model_name}\")\n",
    "    # train the model\n",
    "    model = classifier.fit(df_tr)\n",
    "    \n",
    "    # make predictions on the validation data\n",
    "    predictions = model.transform(df_val)\n",
    "    \n",
    "    # define metrics on which to evaluate the model\n",
    "    metrics = [\"accuracy\", \"weightedPrecision\", \"weightedRecall\", \"weightedFMeasure\"]\n",
    "    \n",
    "    # dict of all evaluations based on the metrics\n",
    "    evaluations = {}\n",
    "    \n",
    "    # evaluations\n",
    "    for m in metrics:\n",
    "        evaluator = MulticlassClassificationEvaluator(labelCol = target_label, predictionCol = \"prediction\", metricName = m)\n",
    "        evaluations[m] = evaluator.evaluate(predictions)\n",
    "        \n",
    "    # feature importance (dt and rf only)\n",
    "    feature_importance = None\n",
    "    # check if dt or rf\n",
    "    if isinstance(model, (DecisionTreeClassificationModel, RandomForestClassificationModel)):\n",
    "        feature_importance = model.featureImportances\n",
    "    \n",
    "    # uid to extract the name of the model\n",
    "    print(f\"Evaluation:\")\n",
    "    \n",
    "    # show the metrics\n",
    "    for m in evaluations:\n",
    "        print(f\"{m}:\\n{round(evaluations[m],3)}\\n\")\n",
    "    \n",
    "    print(\"------------------------------------------------------\")\n",
    "    print(\"------------------------------------------------------\")\n",
    "    \n",
    "    return model, evaluations, predictions, feature_importance"
   ]
  },
  {
   "cell_type": "code",
   "execution_count": 43,
   "id": "d23fe7e4-a33b-49be-b628-de190b106eba",
   "metadata": {
    "tags": []
   },
   "outputs": [
    {
     "name": "stderr",
     "output_type": "stream",
     "text": [
      "[Stage 258:====================================>                 (23 + 11) / 34]\r"
     ]
    }
   ],
   "source": [
    "# decision tree\n",
    "dt_fs = DecisionTreeClassifier(labelCol = target_label, featuresCol = \"features\", maxDepth = 10, seed = 42)"
   ]
  },
  {
   "cell_type": "code",
   "execution_count": 44,
   "id": "0001f852-9afc-45c8-bc5b-4dab6e731017",
   "metadata": {
    "tags": []
   },
   "outputs": [
    {
     "name": "stdout",
     "output_type": "stream",
     "text": [
      "Model: DecisionTreeClassifier\n"
     ]
    },
    {
     "name": "stderr",
     "output_type": "stream",
     "text": [
      "[Stage 351:==========================================>            (26 + 8) / 34]\r"
     ]
    },
    {
     "name": "stdout",
     "output_type": "stream",
     "text": [
      "Evaluation:\n",
      "accuracy:\n",
      "0.484\n",
      "\n",
      "weightedPrecision:\n",
      "0.488\n",
      "\n",
      "weightedRecall:\n",
      "0.486\n",
      "\n",
      "weightedFMeasure:\n",
      "0.477\n",
      "\n",
      "------------------------------------------------------\n",
      "------------------------------------------------------\n"
     ]
    },
    {
     "name": "stderr",
     "output_type": "stream",
     "text": [
      "                                                                                \r"
     ]
    }
   ],
   "source": [
    "# model and evaluation\n",
    "mod, ev, pred, fi = fit_eval_classif(df_tr, df_val, dt_fs, target_label)"
   ]
  },
  {
   "cell_type": "markdown",
   "id": "b0f9e465-503e-4dda-894a-23db6011ed18",
   "metadata": {},
   "source": [
    "    Evaluation:\n",
    "    accuracy:\n",
    "    0.484\n",
    "    \n",
    "    weightedPrecision:\n",
    "    0.488\n",
    "    \n",
    "    weightedRecall:\n",
    "    0.486\n",
    "    \n",
    "    weightedFMeasure:\n",
    "    0.477"
   ]
  },
  {
   "cell_type": "code",
   "execution_count": 45,
   "id": "28bc150e-eb49-41cf-9e6b-3727375e467b",
   "metadata": {
    "tags": []
   },
   "outputs": [
    {
     "name": "stdout",
     "output_type": "stream",
     "text": [
      "Feature Importances:\n",
      "balcony: 0.002601545775799353\n",
      "hasKitchen: 0.0056572902169871615\n",
      "cellar: 0.004325173645298808\n",
      "lift: 0.006124356886185539\n",
      "garden: 0.0015274694534109685\n",
      "log_pictureCount: 0.015109590378972578\n",
      "log_yearConstructed: 0.6743367150413202\n",
      "log_noRooms: 0.0024120271646115472\n",
      "log_floor: 0.003224342144899742\n",
      "log_numberOfFloors: 0.016112647999495536\n",
      "log_serviceCharge: 0.016568056950920052\n",
      "log_baseRent: 0.02262033314257748\n",
      "log_livingSpace: 0.00566451756112675\n",
      "log_thermalChar: 0.01603396277674722\n",
      "interiorQual: 0.05143621509997649\n",
      "petsAllowed: 0.0028558539094048116\n",
      "typeOfFlat: 0.0019441186071835394\n",
      "regio1: 0.003407762305740713\n",
      "heatingType: 0.0009172062663323959\n",
      "firingTypes: 0.0005506917392014475\n",
      "regio2: 0.001262834577755563\n",
      "regio3: 0.00036926150939877757\n"
     ]
    }
   ],
   "source": [
    "# get feature importances\n",
    "feature_importances = mod.featureImportances\n",
    "\n",
    "# get the input feature names from the VectorAssembler\n",
    "input_feature_names = assembler.getInputCols()\n",
    "\n",
    "# create a list of tuples containing feature names and their importances\n",
    "features_with_importance = list(zip(input_feature_names, feature_importances))\n",
    "\n",
    "\n",
    "print(\"Feature Importances:\")\n",
    "for feature, importance in features_with_importance:\n",
    "    print(f\"{feature}: {importance}\")"
   ]
  },
  {
   "cell_type": "markdown",
   "id": "1351ab41-b29b-40bd-acc2-0be1cf0cb7a1",
   "metadata": {},
   "source": [
    "### Selecting Features"
   ]
  },
  {
   "cell_type": "code",
   "execution_count": 47,
   "id": "d6b632e2-376e-4956-a695-057bf3e3cd90",
   "metadata": {
    "tags": []
   },
   "outputs": [
    {
     "name": "stdout",
     "output_type": "stream",
     "text": [
      "Number of selected features: 13\n",
      "Number of original features: 23\n",
      "\n",
      "Selected features:\n",
      "['hasKitchen', 'cellar', 'lift', 'log_pictureCount', 'log_yearConstructed', 'log_floor', 'log_numberOfFloors', 'log_serviceCharge', 'log_baseRent', 'log_livingSpace', 'log_thermalChar', 'interiorQual', 'regio1']\n",
      "Indexes: [1, 2, 4, 6, 7, 9, 10, 11, 12, 13, 14, 15, 18]\n"
     ]
    }
   ],
   "source": [
    "# selecting important features\n",
    "important_atts = [att for att, importance in features_with_importance if importance >= 0.003]\n",
    "print(f\"Number of selected features: {len(important_atts)}\\nNumber of original features: {len(df_train_original.columns)}\\n\")\n",
    "print(f\"Selected features:\\n{important_atts}\")\n",
    "\n",
    "# indexes of important features\n",
    "selected_indexes = [df_train_original.columns.index(att) for att in important_atts]\n",
    "print(\"Indexes:\", selected_indexes)\n",
    "\n",
    "# creating dataframe with important features\n",
    "#df_tuning = df.select(target, *important_atts)\n",
    "#df_tuning.columns"
   ]
  },
  {
   "cell_type": "code",
   "execution_count": 48,
   "id": "31599c24-623e-4673-b3c7-61349c391ebc",
   "metadata": {
    "tags": []
   },
   "outputs": [],
   "source": [
    "# combining all features into a single vector column\n",
    "features = [c for c in df_train_original.columns if (c != target) and (c in important_atts)]\n",
    "\n",
    "assembler = VectorAssembler(inputCols = features, outputCol=\"features\")\n",
    "df_train, df_test = assembler.transform(df_train_original), assembler.transform(df_test_original)"
   ]
  },
  {
   "cell_type": "code",
   "execution_count": 49,
   "id": "760c0e15-9097-484d-bcf4-3e3e34e9256a",
   "metadata": {
    "tags": []
   },
   "outputs": [
    {
     "name": "stderr",
     "output_type": "stream",
     "text": [
      "                                                                                \r"
     ]
    },
    {
     "name": "stdout",
     "output_type": "stream",
     "text": [
      "Size of df_train: (129970, 2)\n"
     ]
    },
    {
     "name": "stderr",
     "output_type": "stream",
     "text": [
      "[Stage 363:==============>                                        (9 + 25) / 34]\r"
     ]
    },
    {
     "name": "stdout",
     "output_type": "stream",
     "text": [
      "Size of df_test: (55606, 2)\n"
     ]
    },
    {
     "name": "stderr",
     "output_type": "stream",
     "text": [
      "                                                                                \r"
     ]
    }
   ],
   "source": [
    "# only target and assembled features\n",
    "df_train, df_test = df_train.select(target, \"features\"), df_test.select(target, \"features\")\n",
    "\n",
    "print(f\"Size of df_train: {df_train.count(), len(df_train.columns)}\")\n",
    "print(f\"Size of df_test: {df_test.count(), len(df_test.columns)}\")"
   ]
  },
  {
   "cell_type": "code",
   "execution_count": 50,
   "id": "9b694736-6cac-4d13-ac98-38a2b212e192",
   "metadata": {
    "tags": []
   },
   "outputs": [
    {
     "name": "stdout",
     "output_type": "stream",
     "text": [
      "['condition', 'features']\n"
     ]
    },
    {
     "name": "stderr",
     "output_type": "stream",
     "text": [
      "[Stage 368:>                                                        (0 + 1) / 1]\r"
     ]
    },
    {
     "name": "stdout",
     "output_type": "stream",
     "text": [
      "+--------------+--------------------+\n",
      "|     condition|            features|\n",
      "+--------------+--------------------+\n",
      "|first_time_use|[0.0,0.0,0.0,0.01...|\n",
      "|first_time_use|[0.0,0.0,0.0,0.04...|\n",
      "+--------------+--------------------+\n",
      "\n"
     ]
    },
    {
     "name": "stderr",
     "output_type": "stream",
     "text": [
      "                                                                                \r"
     ]
    }
   ],
   "source": [
    "print(df_train.columns)\n",
    "df_train.select(target, \"features\").limit(2).show()"
   ]
  },
  {
   "cell_type": "code",
   "execution_count": 51,
   "id": "3524683d-e458-4dac-91db-075c31b0acf1",
   "metadata": {
    "tags": []
   },
   "outputs": [
    {
     "name": "stderr",
     "output_type": "stream",
     "text": [
      "                                                                                \r"
     ]
    }
   ],
   "source": [
    "df_train, df_test, target_label = target_for_class(df_train, df_test, target, n_classes)"
   ]
  },
  {
   "cell_type": "code",
   "execution_count": 52,
   "id": "2e1b3267-e0e0-479c-b96f-650959408352",
   "metadata": {
    "tags": []
   },
   "outputs": [
    {
     "name": "stdout",
     "output_type": "stream",
     "text": [
      "['condition_label', 'features']\n"
     ]
    },
    {
     "name": "stderr",
     "output_type": "stream",
     "text": [
      "[Stage 379:>                                                        (0 + 1) / 1]\r"
     ]
    },
    {
     "name": "stdout",
     "output_type": "stream",
     "text": [
      "+---------------+--------------------+\n",
      "|condition_label|            features|\n",
      "+---------------+--------------------+\n",
      "|            3.0|[0.0,0.0,0.0,0.01...|\n",
      "|            3.0|[0.0,0.0,0.0,0.04...|\n",
      "+---------------+--------------------+\n",
      "\n"
     ]
    },
    {
     "name": "stderr",
     "output_type": "stream",
     "text": [
      "                                                                                \r"
     ]
    }
   ],
   "source": [
    "print(df_train.columns)\n",
    "df_train.select(target_label, \"features\").limit(2).show()"
   ]
  },
  {
   "cell_type": "markdown",
   "id": "ca3c05a6-5ed7-42b9-b05a-8c37f78ecd7c",
   "metadata": {},
   "source": [
    "#### Sampling for tuning"
   ]
  },
  {
   "cell_type": "code",
   "execution_count": 53,
   "id": "d53de904-64a0-40cd-abe7-44faae85b342",
   "metadata": {
    "tags": []
   },
   "outputs": [],
   "source": [
    "# percentage of rows for each class for evaluating the model (not on df_test), minority and majority classes\n",
    "maj_fract = 0.1\n",
    "min_fract = 0.6"
   ]
  },
  {
   "cell_type": "code",
   "execution_count": 55,
   "id": "44645a2b-cb59-46dd-9086-3dca1ae67e82",
   "metadata": {
    "tags": []
   },
   "outputs": [
    {
     "name": "stdout",
     "output_type": "stream",
     "text": [
      "Fractions for each class: {1: 0.6, 2: 0.6, 3: 0.6, 4: 0.6, 5: 0.6, 6: 0.6, 0: 0.1}\n"
     ]
    },
    {
     "name": "stderr",
     "output_type": "stream",
     "text": [
      "[Stage 392:==========================================>            (26 + 8) / 34]\r"
     ]
    },
    {
     "name": "stdout",
     "output_type": "stream",
     "text": [
      "Size of the sampled training set: (46709, 2)\n"
     ]
    },
    {
     "name": "stderr",
     "output_type": "stream",
     "text": [
      "                                                                                \r"
     ]
    }
   ],
   "source": [
    "# stratified sampling the df based on the classes\n",
    "fractions = {i:min_fract for i in range(1, n_classes)}\n",
    "fractions[0] = maj_fract\n",
    "print(f\"Fractions for each class: {fractions}\")\n",
    "\n",
    "sampled_dataframe = df_train.sampleBy(target_label, fractions = fractions, seed = 42)\n",
    "print(f\"Size of the sampled training set: {sampled_dataframe.count(), len(sampled_dataframe.columns)}\")"
   ]
  },
  {
   "cell_type": "code",
   "execution_count": 57,
   "id": "804fdf0f-bacc-4eb7-be90-e9e719c4b494",
   "metadata": {
    "tags": []
   },
   "outputs": [
    {
     "name": "stderr",
     "output_type": "stream",
     "text": [
      "23/12/15 17:16:27 WARN RowBasedKeyValueBatch: Calling spill() on RowBasedKeyValueBatch. Will not spill but return 0.\n",
      "23/12/15 17:16:27 WARN RowBasedKeyValueBatch: Calling spill() on RowBasedKeyValueBatch. Will not spill but return 0.\n",
      "23/12/15 17:16:27 WARN RowBasedKeyValueBatch: Calling spill() on RowBasedKeyValueBatch. Will not spill but return 0.\n",
      "23/12/15 17:16:27 WARN RowBasedKeyValueBatch: Calling spill() on RowBasedKeyValueBatch. Will not spill but return 0.\n",
      "23/12/15 17:16:27 WARN RowBasedKeyValueBatch: Calling spill() on RowBasedKeyValueBatch. Will not spill but return 0.\n",
      "23/12/15 17:16:27 WARN RowBasedKeyValueBatch: Calling spill() on RowBasedKeyValueBatch. Will not spill but return 0.\n",
      "23/12/15 17:16:27 WARN RowBasedKeyValueBatch: Calling spill() on RowBasedKeyValueBatch. Will not spill but return 0.\n",
      "23/12/15 17:16:28 WARN RowBasedKeyValueBatch: Calling spill() on RowBasedKeyValueBatch. Will not spill but return 0.\n",
      "23/12/15 17:16:28 WARN RowBasedKeyValueBatch: Calling spill() on RowBasedKeyValueBatch. Will not spill but return 0.\n",
      "23/12/15 17:16:28 WARN RowBasedKeyValueBatch: Calling spill() on RowBasedKeyValueBatch. Will not spill but return 0.\n",
      "23/12/15 17:16:28 WARN RowBasedKeyValueBatch: Calling spill() on RowBasedKeyValueBatch. Will not spill but return 0.\n",
      "23/12/15 17:16:28 WARN RowBasedKeyValueBatch: Calling spill() on RowBasedKeyValueBatch. Will not spill but return 0.\n",
      "23/12/15 17:16:28 WARN RowBasedKeyValueBatch: Calling spill() on RowBasedKeyValueBatch. Will not spill but return 0.\n",
      "23/12/15 17:16:28 WARN RowBasedKeyValueBatch: Calling spill() on RowBasedKeyValueBatch. Will not spill but return 0.\n",
      "23/12/15 17:16:28 WARN RowBasedKeyValueBatch: Calling spill() on RowBasedKeyValueBatch. Will not spill but return 0.\n",
      "23/12/15 17:16:28 WARN RowBasedKeyValueBatch: Calling spill() on RowBasedKeyValueBatch. Will not spill but return 0.\n",
      "23/12/15 17:16:28 WARN RowBasedKeyValueBatch: Calling spill() on RowBasedKeyValueBatch. Will not spill but return 0.\n",
      "23/12/15 17:16:28 WARN RowBasedKeyValueBatch: Calling spill() on RowBasedKeyValueBatch. Will not spill but return 0.\n",
      "23/12/15 17:16:28 WARN RowBasedKeyValueBatch: Calling spill() on RowBasedKeyValueBatch. Will not spill but return 0.\n",
      "23/12/15 17:16:29 WARN RowBasedKeyValueBatch: Calling spill() on RowBasedKeyValueBatch. Will not spill but return 0.\n",
      "23/12/15 17:16:29 WARN RowBasedKeyValueBatch: Calling spill() on RowBasedKeyValueBatch. Will not spill but return 0.\n",
      "23/12/15 17:16:29 WARN RowBasedKeyValueBatch: Calling spill() on RowBasedKeyValueBatch. Will not spill but return 0.\n",
      "23/12/15 17:16:29 WARN RowBasedKeyValueBatch: Calling spill() on RowBasedKeyValueBatch. Will not spill but return 0.\n",
      "23/12/15 17:16:29 WARN RowBasedKeyValueBatch: Calling spill() on RowBasedKeyValueBatch. Will not spill but return 0.\n",
      "23/12/15 17:16:29 WARN RowBasedKeyValueBatch: Calling spill() on RowBasedKeyValueBatch. Will not spill but return 0.\n",
      "23/12/15 17:16:29 WARN RowBasedKeyValueBatch: Calling spill() on RowBasedKeyValueBatch. Will not spill but return 0.\n",
      "23/12/15 17:16:29 WARN RowBasedKeyValueBatch: Calling spill() on RowBasedKeyValueBatch. Will not spill but return 0.\n",
      "23/12/15 17:16:29 WARN RowBasedKeyValueBatch: Calling spill() on RowBasedKeyValueBatch. Will not spill but return 0.\n",
      "23/12/15 17:16:29 WARN RowBasedKeyValueBatch: Calling spill() on RowBasedKeyValueBatch. Will not spill but return 0.\n",
      "23/12/15 17:16:30 WARN RowBasedKeyValueBatch: Calling spill() on RowBasedKeyValueBatch. Will not spill but return 0.\n",
      "23/12/15 17:16:30 WARN RowBasedKeyValueBatch: Calling spill() on RowBasedKeyValueBatch. Will not spill but return 0.\n",
      "23/12/15 17:16:33 WARN RowBasedKeyValueBatch: Calling spill() on RowBasedKeyValueBatch. Will not spill but return 0.\n",
      "[Stage 399:======================================>               (24 + 10) / 34]\r"
     ]
    },
    {
     "name": "stdout",
     "output_type": "stream",
     "text": [
      "+---------------+-----+\n",
      "|condition_label|count|\n",
      "+---------------+-----+\n",
      "|            0.0| 6124|\n",
      "|            1.0| 8131|\n",
      "|            4.0| 7063|\n",
      "|            3.0| 7112|\n",
      "|            2.0| 8121|\n",
      "|            6.0| 4525|\n",
      "|            5.0| 5542|\n",
      "+---------------+-----+\n",
      "\n"
     ]
    },
    {
     "name": "stderr",
     "output_type": "stream",
     "text": [
      "                                                                                \r"
     ]
    }
   ],
   "source": [
    "sampled_dataframe.groupBy(target_label).count().show()"
   ]
  },
  {
   "cell_type": "markdown",
   "id": "f20c6ac8-2c07-4e88-8f51-4b0d8eb49e4d",
   "metadata": {
    "tags": []
   },
   "source": [
    "#### Tr-Val split (Tuning purposes)"
   ]
  },
  {
   "cell_type": "code",
   "execution_count": 58,
   "id": "0c05ec22-bd2f-4ea5-beaf-e996748b6752",
   "metadata": {
    "tags": []
   },
   "outputs": [
    {
     "name": "stderr",
     "output_type": "stream",
     "text": [
      "[Stage 406:==============================================>        (29 + 5) / 34]\r"
     ]
    },
    {
     "name": "stdout",
     "output_type": "stream",
     "text": [
      "Size of df_tr for tuning: (32781, 2)\n"
     ]
    },
    {
     "name": "stderr",
     "output_type": "stream",
     "text": [
      "                                                                                \r"
     ]
    }
   ],
   "source": [
    "# split the training into tr and validation sets\n",
    "df_tr, df_val = sampled_dataframe.randomSplit([0.7, 0.3], seed = 42)\n",
    "print(f\"Size of df_tr for tuning: {df_tr.count(), len(df_tr.columns)}\")\n",
    "#print(f\"Size of df_val for feature selection: {df_val.count(), len(df_val.columns)}\")"
   ]
  },
  {
   "cell_type": "code",
   "execution_count": 59,
   "id": "e49bb3d6-b6d0-4269-b056-6667d6c3fa9c",
   "metadata": {
    "tags": []
   },
   "outputs": [
    {
     "name": "stderr",
     "output_type": "stream",
     "text": [
      "[Stage 411:>                                                        (0 + 1) / 1]\r"
     ]
    },
    {
     "name": "stdout",
     "output_type": "stream",
     "text": [
      "Number of features for tuning: 15\n"
     ]
    },
    {
     "name": "stderr",
     "output_type": "stream",
     "text": [
      "                                                                                \r"
     ]
    }
   ],
   "source": [
    "# number of features\n",
    "num_input_features = len(df_tr.select(\"features\").first()[0])\n",
    "print(f\"Number of features for tuning: {num_input_features}\")"
   ]
  },
  {
   "cell_type": "markdown",
   "id": "dcbf5d06-49bc-44aa-8d0d-5e1aba039132",
   "metadata": {
    "tags": []
   },
   "source": [
    "### Hyper-parameter tuning\n",
    "#### This part is very time consuming, therefore only the best results are printed and the all the code is commented\n",
    "On a stratified sample of the dataset"
   ]
  },
  {
   "cell_type": "code",
   "execution_count": 60,
   "id": "779be606-b7f4-477f-bcea-0f688f46d4b5",
   "metadata": {
    "tags": []
   },
   "outputs": [],
   "source": [
    "def tune_classif(df_tr, df_val, target_label, classifier, params):\n",
    "    model_name = classifier.uid.split(\"_\")[0]\n",
    "    print(f\"Model: {model_name}\")\n",
    "    # define Evaluator\n",
    "    evaluator = MulticlassClassificationEvaluator(labelCol = target_label, predictionCol=\"prediction\", metricName=\"weightedFMeasure\")\n",
    "    \n",
    "    # crossValidator\n",
    "    cv = CrossValidator(estimator = classifier,\n",
    "                        estimatorParamMaps = params,\n",
    "                        evaluator = evaluator,\n",
    "                        numFolds = 3,\n",
    "                        seed = 42,\n",
    "                        parallelism = 20)\n",
    "    \n",
    "    # cross validation\n",
    "    cv_model = cv.fit(df_train)\n",
    "    \n",
    "    # get best model\n",
    "    best_model = cv_model.bestModel\n",
    "    \n",
    "    # predictions using the best model\n",
    "    predictions = best_model.transform(df_val)\n",
    "    \n",
    "    # evaluation with only weightedFmeasure\n",
    "    weightedFMeasure = evaluator.evaluate(predictions)\n",
    "    \n",
    "    print(f\"Best Model weightedFMeasure: {round(weightedFMeasure, 3)}\")\n",
    "    \n",
    "    return best_model"
   ]
  },
  {
   "cell_type": "markdown",
   "id": "4c6dc1b9-85ef-4725-a03b-f37b5a816044",
   "metadata": {},
   "source": [
    "#### Models to tune"
   ]
  },
  {
   "cell_type": "code",
   "execution_count": 62,
   "id": "8a73bbb7-5b60-415b-836f-f9529ec8a60a",
   "metadata": {
    "tags": []
   },
   "outputs": [],
   "source": [
    "dt = DecisionTreeClassifier(labelCol = target_label, featuresCol=\"features\")\n",
    "rf = RandomForestClassifier(labelCol = target_label, featuresCol=\"features\")\n",
    "nn = MultilayerPerceptronClassifier(labelCol = target_label, featuresCol=\"features\")\n",
    "\n",
    "classifiers = [dt, rf, nn]"
   ]
  },
  {
   "cell_type": "markdown",
   "id": "5915ac7c-06ec-4bbe-aa01-6098ff6fed4f",
   "metadata": {},
   "source": [
    "#### Tuning - 7 classes"
   ]
  },
  {
   "cell_type": "code",
   "execution_count": 63,
   "id": "d29e4fe6-b0ad-48a5-95a5-ac9ac2b823ca",
   "metadata": {
    "tags": []
   },
   "outputs": [],
   "source": [
    "# DT\n",
    "# min instances per node -> not 1 to minimize complexity\n",
    "maxDepth = [20]# 10, 25, 20, 15, 5\n",
    "minInstancesPerNode = [50]# 50, 100, 200, 300\n",
    "seed = [42]\n",
    "maxBins = [32]# 20, 32, 64, 96\n",
    "minInfoGain = [0.001]# 0.02, 0.04, 0.1\n",
    "\n",
    "# RF\n",
    "maxDepth_rf = [20]# 5, 10, 15, 20, 30\n",
    "maxBins_rf = [32]# 20, 32, 64, 96\n",
    "featureSubsetStrategy = [\"log2\"]# \"sqrt\"\n",
    "numTrees = [5]#5, 10, 15, 20, 30, 40\n",
    "\n",
    "# NN\n",
    "layers = [[num_input_features, 14, 10, n_classes]]\n",
    "#[num_input_features, 14, n_classes],[num_input_features, 14, 10, n_classes],\n",
    "#[num_input_features, 4, n_classes],[num_input_features, 10, n_classes]\n",
    "\n",
    "blockSize = [256]# 256, 512\n",
    "stepSize = [0.02]# 0.01, 0.05, 0.1\n",
    "maxIter = [300]# 300, 100\n",
    "\n",
    "# define parameter grids for each classifier\n",
    "params_dt = ParamGridBuilder()\\\n",
    "            .addGrid(dt.maxDepth, maxDepth)\\\n",
    "            .addGrid(dt.minInstancesPerNode, minInstancesPerNode)\\\n",
    "            .addGrid(dt.seed, seed)\\\n",
    "            .addGrid(dt.maxBins, maxBins)\\\n",
    "            .addGrid(dt.minInfoGain, minInfoGain)\\\n",
    "            .build()\n",
    "\n",
    "# using the params in common with the dt if possible (to speed up the process)\n",
    "params_rf = ParamGridBuilder()\\\n",
    "            .addGrid(rf.maxDepth, maxDepth_rf)\\\n",
    "            .addGrid(rf.maxBins, maxBins_rf)\\\n",
    "            .addGrid(rf.minInstancesPerNode, minInstancesPerNode)\\\n",
    "            .addGrid(rf.minInfoGain, minInfoGain)\\\n",
    "            .addGrid(rf.seed, seed)\\\n",
    "            .addGrid(rf.featureSubsetStrategy, featureSubsetStrategy)\\\n",
    "            .addGrid(rf.numTrees, numTrees)\\\n",
    "            .build()\n",
    "\n",
    "\n",
    "params_nn = ParamGridBuilder()\\\n",
    "            .addGrid(nn.layers, layers)\\\n",
    "            .addGrid(nn.blockSize, blockSize)\\\n",
    "            .addGrid(nn.stepSize, stepSize)\\\n",
    "            .addGrid(nn.seed, seed)\\\n",
    "            .addGrid(nn.maxIter, maxIter)\\\n",
    "            .build()"
   ]
  },
  {
   "cell_type": "markdown",
   "id": "fa0ea6bc-7e64-4fd6-b4f7-5b940eae2422",
   "metadata": {
    "tags": []
   },
   "source": [
    "#### Decision Tree - tuning - 7 classes"
   ]
  },
  {
   "cell_type": "markdown",
   "id": "f259468f-2402-498c-9542-343ada04201c",
   "metadata": {},
   "source": [
    "##### Best model -> Best hyper params"
   ]
  },
  {
   "cell_type": "code",
   "execution_count": 64,
   "id": "e9e51195-857c-4935-9e62-c312f5811b44",
   "metadata": {
    "tags": []
   },
   "outputs": [],
   "source": [
    "#best_model_dt = tune_classif(df_tr, df_val, target_label, dt, params_dt)"
   ]
  },
  {
   "cell_type": "code",
   "execution_count": 65,
   "id": "4f5c79f3-04ed-4542-a771-c1632facd268",
   "metadata": {
    "tags": []
   },
   "outputs": [],
   "source": [
    "#best_params_dt = best_model_dt.extractParamMap()\n",
    "#print(\"Best Model Parameters:\")\n",
    "#for param, value in best_params_dt.items():\n",
    "#    print(f\"{param.name}: {value}\")"
   ]
  },
  {
   "cell_type": "markdown",
   "id": "faa98385-600c-4e6b-b219-6339e1c50e1a",
   "metadata": {
    "jp-MarkdownHeadingCollapsed": true,
    "tags": []
   },
   "source": [
    "#### DT results - 7 classes\n",
    "\n",
    "Model: DecisionTreeClassifier\n",
    "\n",
    "    Best Model weightedFMeasure: 0.412\n",
    "    \n",
    "    Best Model Parameters:\n",
    "    cacheNodeIds: False\n",
    "    checkpointInterval: 10\n",
    "    featuresCol: features\n",
    "    impurity: gini\n",
    "    labelCol: condition_label\n",
    "    leafCol: \n",
    "    maxBins: 32\n",
    "    maxDepth: 20\n",
    "    maxMemoryInMB: 256\n",
    "    minInfoGain: 0.001\n",
    "    minInstancesPerNode: 50\n",
    "    minWeightFractionPerNode: 0.0\n",
    "    predictionCol: prediction\n",
    "    probabilityCol: probability\n",
    "    rawPredictionCol: rawPrediction\n",
    "    seed: 42"
   ]
  },
  {
   "cell_type": "markdown",
   "id": "da430eb6-06a2-47e4-b46b-fcea66ccef4f",
   "metadata": {},
   "source": [
    "#### Random Forest - tuning - 7 classes"
   ]
  },
  {
   "cell_type": "markdown",
   "id": "eb67aa10-4330-4ff6-8a1a-b609c2d2ab87",
   "metadata": {
    "tags": []
   },
   "source": [
    "##### Best model -> Best hyper params"
   ]
  },
  {
   "cell_type": "code",
   "execution_count": 66,
   "id": "3071c790-1ae8-49b9-bc53-c01547e210f6",
   "metadata": {
    "tags": []
   },
   "outputs": [],
   "source": [
    "#best_model_rf = tune_classif(df_tr, df_val, target_label, rf, params_rf)"
   ]
  },
  {
   "cell_type": "code",
   "execution_count": 67,
   "id": "caa007ee-afc3-49a5-8c69-b908a7d547de",
   "metadata": {
    "tags": []
   },
   "outputs": [],
   "source": [
    "#best_params_rf = best_model_rf.extractParamMap()\n",
    "#print(\"Best Model Parameters:\")\n",
    "#for param, value in best_params_rf.items():\n",
    "#    print(f\"{param.name}: {value}\")"
   ]
  },
  {
   "cell_type": "markdown",
   "id": "bada6647-809e-4231-a4d1-80d7ed6bad90",
   "metadata": {},
   "source": [
    "#### RF results - 7 classes\n",
    "\n",
    "Model: RandomForestClassifier\n",
    "\n",
    "    Best Model weightedFMeasure: 0.35\n",
    "    \n",
    "    Best Model Parameters:\n",
    "    bootstrap: True\n",
    "    cacheNodeIds: False\n",
    "    checkpointInterval: 10\n",
    "    featureSubsetStrategy: log2\n",
    "    featuresCol: features\n",
    "    impurity: gini\n",
    "    labelCol: condition_label\n",
    "    leafCol: \n",
    "    maxBins: 32\n",
    "    maxDepth: 20\n",
    "    maxMemoryInMB: 256\n",
    "    minInfoGain: 0.001\n",
    "    minInstancesPerNode: 50\n",
    "    minWeightFractionPerNode: 0.0\n",
    "    numTrees: 5\n",
    "    predictionCol: prediction\n",
    "    probabilityCol: probability\n",
    "    rawPredictionCol: rawPrediction\n",
    "    seed: 42\n",
    "    subsamplingRate: 1.0"
   ]
  },
  {
   "cell_type": "markdown",
   "id": "7e529f26-6d12-40cb-8663-6de3574fcf3d",
   "metadata": {},
   "source": [
    "#### Neural Network - tuning - 7 classes"
   ]
  },
  {
   "cell_type": "markdown",
   "id": "827f5fd5-8221-4f03-9513-0286a5793c8a",
   "metadata": {},
   "source": [
    "##### Best model -> Best hyper params"
   ]
  },
  {
   "cell_type": "code",
   "execution_count": 68,
   "id": "9e1b8f60-4bb6-4a3d-a49f-239f5509ca35",
   "metadata": {
    "tags": []
   },
   "outputs": [],
   "source": [
    "#best_model_nn = tune_classif(df_tr, df_val, target_label, nn, params_nn)"
   ]
  },
  {
   "cell_type": "code",
   "execution_count": 69,
   "id": "a7f3ebb7-e1c0-4f45-a2ca-b4f95eccc144",
   "metadata": {
    "tags": []
   },
   "outputs": [],
   "source": [
    "#best_params_nn = best_model_nn.extractParamMap()\n",
    "#print(\"Best Model Parameters:\")\n",
    "#for param, value in best_params_nn.items():\n",
    "#    print(f\"{param.name}: {value}\")"
   ]
  },
  {
   "cell_type": "markdown",
   "id": "bcfc7db4-959d-4e4a-8056-ae6b16933905",
   "metadata": {},
   "source": [
    "#### NN results - 7 classes\n",
    "\n",
    "Model: MultilayerPerceptronClassifier\n",
    "\n",
    "    Best Model weightedFMeasure: 0.342\n",
    "    \n",
    "    Best Model Parameters:\n",
    "    \n",
    "    blockSize: 256\n",
    "    featuresCol: features\n",
    "    labelCol: log_livingSpace_label\n",
    "    maxIter: 300\n",
    "    predictionCol: prediction\n",
    "    probabilityCol: probability\n",
    "    rawPredictionCol: rawPrediction\n",
    "    seed: 42\n",
    "    solver: l-bfgs\n",
    "    stepSize: 0.02\n",
    "    tol: 1e-06\n",
    "    layers: [15, 14, 10, 7]   "
   ]
  },
  {
   "cell_type": "markdown",
   "id": "c8484447-a1ce-4b2b-a3e5-833bc3e8a4fd",
   "metadata": {
    "tags": []
   },
   "source": [
    "### Models evaluation on sample\n",
    "#### This part is very time consuming, therefore only the results are printed and the all the code is commented\n",
    "With more data, still only train and val data"
   ]
  },
  {
   "cell_type": "code",
   "execution_count": 70,
   "id": "6f0c79f8-30ce-4b35-b872-1d6470713d90",
   "metadata": {
    "tags": []
   },
   "outputs": [],
   "source": [
    "# percentage of rows for each class for evaluating the model (not on df_test)\n",
    "#maj_fract = 0.20\n",
    "#min_fract = 1"
   ]
  },
  {
   "cell_type": "code",
   "execution_count": 71,
   "id": "ab4dfcae-318b-46c3-a3be-37e2f919867e",
   "metadata": {
    "tags": []
   },
   "outputs": [],
   "source": [
    "# stratified sampling the df based on the classes\n",
    "#fractions = {i:min_fract for i in range(1, n_classes)}\n",
    "#fractions[0] = maj_fract\n",
    "#print(f\"Fractions for each class: {fractions}\")\n",
    "#\n",
    "#small_df_train = df_train.sampleBy(target_label, fractions = fractions, seed = 42)\n",
    "#print(f\"Size of the smaller, sampled training set: {small_df_train.count(), len(small_df_train.columns)}\")"
   ]
  },
  {
   "cell_type": "markdown",
   "id": "470ec3aa-e959-4993-9185-c98df894df41",
   "metadata": {
    "tags": []
   },
   "source": [
    "##### Tr-Val split"
   ]
  },
  {
   "cell_type": "code",
   "execution_count": 72,
   "id": "00c019e1-614d-467a-a360-f68c7cef14aa",
   "metadata": {
    "tags": []
   },
   "outputs": [],
   "source": [
    "# split the training into tr and validation sets\n",
    "#df_tr, df_val = small_df_train.randomSplit([0.7, 0.3], seed = 42)\n",
    "#print(f\"Size of smaller tr set: {df_tr.count(), len(df_tr.columns)}\")\n",
    "#print(f\"Size of smaller validation set: {df_val.count(), len(df_val.columns)}\")"
   ]
  },
  {
   "cell_type": "code",
   "execution_count": 73,
   "id": "afc3de92-079e-494f-8201-b4847be2c57c",
   "metadata": {
    "tags": []
   },
   "outputs": [],
   "source": [
    "# number of features\n",
    "#num_input_features = len(df_tr.select(\"features\").first()[0])\n",
    "#print(f\"Number of features: {num_input_features}\")"
   ]
  },
  {
   "cell_type": "markdown",
   "id": "c9191a37-16cd-4310-9aa9-b52463800e28",
   "metadata": {},
   "source": [
    "##### Setting hyperparameters for each model\n",
    "Found from the tunings"
   ]
  },
  {
   "cell_type": "code",
   "execution_count": 74,
   "id": "ab716d13-d5df-4813-8581-220a1d747974",
   "metadata": {
    "tags": []
   },
   "outputs": [],
   "source": [
    "# Parameters for classifiers\n",
    "#dt_par = {\"maxDepth\": 20, \"maxBins\": 64, \"minInfoGain\":0.01,\n",
    "#            \"minInstancesPerNode\": 100, \"impurity\": \"gini\", \"seed\": 42}\n",
    "#\n",
    "#rf_par = {\"numTrees\": 5, \"maxDepth\": 20, \"maxBins\": 64, \"minInfoGain\":0.01,\n",
    "#            \"minInstancesPerNode\": 100, \"impurity\": \"gini\",\n",
    "#            \"featureSubsetStrategy\":\"log2\", \"seed\": 42}\n",
    "#\n",
    "#nn_par = {\"blockSize\": 128, \"stepSize\": 0.01, \"solver\": \"l-bfgs\",\n",
    "#          \"maxIter\" : 200, \"layers\": [num_input_features, 5, n_classes]}"
   ]
  },
  {
   "cell_type": "markdown",
   "id": "edb40ecb-9b70-4038-b79c-42361443c44a",
   "metadata": {
    "tags": []
   },
   "source": [
    "##### Instanciating the Classifiers"
   ]
  },
  {
   "cell_type": "code",
   "execution_count": 75,
   "id": "be7388a2-6b7a-4b72-ab01-a5271892e466",
   "metadata": {
    "tags": []
   },
   "outputs": [],
   "source": [
    "#classif =  [\n",
    "#            DecisionTreeClassifier(labelCol = target_label, featuresCol=\"features\", **dt_par),\n",
    "#            RandomForestClassifier(labelCol = target_label, featuresCol=\"features\", **rf_par),\n",
    "#            MultilayerPerceptronClassifier(labelCol = target_label, featuresCol=\"features\", **nn_par)\n",
    "#           ]"
   ]
  },
  {
   "cell_type": "markdown",
   "id": "317d2e2b-73cf-4046-ae55-703b2f88115d",
   "metadata": {},
   "source": [
    "#### Models summary"
   ]
  },
  {
   "cell_type": "code",
   "execution_count": 76,
   "id": "c428ee8d-494a-4df6-994c-4c021ac177da",
   "metadata": {
    "tags": []
   },
   "outputs": [],
   "source": [
    "#models_dict = {}\n",
    "#for i,c in enumerate(classif):\n",
    "#    models_dict[i] = fit_eval_classif(df_tr, df_val, c, target_label)"
   ]
  },
  {
   "cell_type": "code",
   "execution_count": 77,
   "id": "cf262c0f-08c3-42a5-984e-2d9566a60e3c",
   "metadata": {
    "tags": []
   },
   "outputs": [],
   "source": [
    "#for m in models_dict:\n",
    "#    print(models_dict[m])\n",
    "#    print(\"------------------------------------------------------------\")\n",
    "#    print(\"------------------------------------------------------------\")"
   ]
  },
  {
   "cell_type": "markdown",
   "id": "c40bbb42-e913-446c-9d94-2c26cdb31b67",
   "metadata": {},
   "source": [
    "Model: DecisionTreeClassifier\n",
    "                                                                                \n",
    "Evaluation:\n",
    "\n",
    "    accuracy:\n",
    "    0.461\n",
    "    \n",
    "    weightedPrecision:\n",
    "    0.462\n",
    "    \n",
    "    weightedRecall:\n",
    "    0.464\n",
    "    \n",
    "    weightedFMeasure:\n",
    "    0.457\n",
    "\n",
    "------------------------------------------------------\n",
    "------------------------------------------------------\n",
    "Model: RandomForestClassifier\n",
    "                                                                                \n",
    "Evaluation:\n",
    "\n",
    "    accuracy:\n",
    "    0.477\n",
    "    \n",
    "    weightedPrecision:\n",
    "    0.48\n",
    "    \n",
    "    weightedRecall:\n",
    "    0.482\n",
    "    \n",
    "    weightedFMeasure:\n",
    "    0.465\n",
    "\n",
    "------------------------------------------------------\n",
    "------------------------------------------------------\n",
    "Model: MultilayerPerceptronClassifier\n",
    "\n",
    "Evaluation:\n",
    "\n",
    "    accuracy:\n",
    "    0.404\n",
    "    \n",
    "    weightedPrecision:\n",
    "    0.403\n",
    "    \n",
    "    weightedRecall:\n",
    "    0.406\n",
    "    \n",
    "    weightedFMeasure:\n",
    "    0.368"
   ]
  },
  {
   "cell_type": "markdown",
   "id": "bee3078f-4c5d-4577-84ae-e9d09a4c467a",
   "metadata": {},
   "source": [
    "## Models Testing"
   ]
  },
  {
   "cell_type": "code",
   "execution_count": 78,
   "id": "9474aab7-a209-4bd4-862a-53864390dca5",
   "metadata": {
    "tags": []
   },
   "outputs": [],
   "source": [
    "# parameters for classifiers\n",
    "dt_par = {\"maxDepth\": 20, \"maxBins\": 32, \"minInfoGain\":0.001,\n",
    "            \"minInstancesPerNode\": 50, \"impurity\": \"gini\", \"seed\": 42}\n",
    "\n",
    "rf_par = {\"numTrees\": 5, \"maxDepth\": 20, \"maxBins\": 32, \"minInfoGain\":0.001,\n",
    "            \"minInstancesPerNode\": 50, \"impurity\": \"gini\",\n",
    "            \"featureSubsetStrategy\":\"log2\", \"seed\": 42}\n",
    "\n",
    "nn_par = {\"blockSize\": 256, \"stepSize\": 0.02, \"solver\": \"l-bfgs\",\n",
    "          \"maxIter\" : 300, \"layers\": [num_input_features, 14, 10, n_classes]}"
   ]
  },
  {
   "cell_type": "markdown",
   "id": "c2092f66-2b38-4a16-bb5a-daf067796119",
   "metadata": {
    "tags": []
   },
   "source": [
    "#### Instanciating the Classifiers"
   ]
  },
  {
   "cell_type": "code",
   "execution_count": 79,
   "id": "8607f2ce-c26a-498c-965b-fe91020cd24b",
   "metadata": {
    "tags": []
   },
   "outputs": [],
   "source": [
    "classif =  [\n",
    "            DecisionTreeClassifier(labelCol = target_label, featuresCol=\"features\", **dt_par),\n",
    "            RandomForestClassifier(labelCol = target_label, featuresCol=\"features\", **rf_par),\n",
    "            MultilayerPerceptronClassifier(labelCol = target_label, featuresCol=\"features\", **nn_par)\n",
    "           ]"
   ]
  },
  {
   "cell_type": "code",
   "execution_count": 80,
   "id": "286d9ff1-a7ed-4294-9414-f5f30fd3a09b",
   "metadata": {},
   "outputs": [
    {
     "name": "stderr",
     "output_type": "stream",
     "text": [
      "                                                                                \r"
     ]
    },
    {
     "name": "stdout",
     "output_type": "stream",
     "text": [
      "Size of training set: (129936, 2)\n"
     ]
    },
    {
     "name": "stderr",
     "output_type": "stream",
     "text": [
      "[Stage 424:===================>                                  (12 + 22) / 34]\r"
     ]
    },
    {
     "name": "stdout",
     "output_type": "stream",
     "text": [
      "Size of test set: (55595, 2)\n"
     ]
    },
    {
     "name": "stderr",
     "output_type": "stream",
     "text": [
      "                                                                                \r"
     ]
    }
   ],
   "source": [
    "print(f\"Size of training set: {df_train.count(), len(df_train.columns)}\")\n",
    "print(f\"Size of test set: {df_test.count(), len(df_test.columns)}\")"
   ]
  },
  {
   "cell_type": "code",
   "execution_count": 81,
   "id": "1b6b5ed8-0e27-4af6-bf73-b36924c1ddc4",
   "metadata": {
    "tags": []
   },
   "outputs": [
    {
     "name": "stdout",
     "output_type": "stream",
     "text": [
      "Model: DecisionTreeClassifier\n"
     ]
    },
    {
     "name": "stderr",
     "output_type": "stream",
     "text": [
      "                                                                                \r"
     ]
    },
    {
     "name": "stdout",
     "output_type": "stream",
     "text": [
      "Evaluation:\n",
      "accuracy:\n",
      "0.47\n",
      "\n",
      "weightedPrecision:\n",
      "0.462\n",
      "\n",
      "weightedRecall:\n",
      "0.473\n",
      "\n",
      "weightedFMeasure:\n",
      "0.463\n",
      "\n",
      "------------------------------------------------------\n",
      "------------------------------------------------------\n",
      "Model: RandomForestClassifier\n"
     ]
    },
    {
     "name": "stderr",
     "output_type": "stream",
     "text": [
      "23/12/15 17:25:59 WARN DAGScheduler: Broadcasting large task binary with size 1078.4 KiB\n",
      "23/12/15 17:26:03 WARN DAGScheduler: Broadcasting large task binary with size 1178.7 KiB\n",
      "23/12/15 17:26:06 WARN DAGScheduler: Broadcasting large task binary with size 1257.2 KiB\n",
      "23/12/15 17:26:10 WARN DAGScheduler: Broadcasting large task binary with size 1315.3 KiB\n",
      "23/12/15 17:26:14 WARN DAGScheduler: Broadcasting large task binary with size 1362.0 KiB\n",
      "23/12/15 17:26:18 WARN DAGScheduler: Broadcasting large task binary with size 1390.3 KiB\n",
      "23/12/15 17:26:21 WARN DAGScheduler: Broadcasting large task binary with size 1406.1 KiB\n",
      "23/12/15 17:26:23 WARN DAGScheduler: Broadcasting large task binary with size 1231.4 KiB\n",
      "                                                                                \r"
     ]
    },
    {
     "name": "stdout",
     "output_type": "stream",
     "text": [
      "Evaluation:\n",
      "accuracy:\n",
      "0.478\n",
      "\n",
      "weightedPrecision:\n",
      "0.464\n",
      "\n",
      "weightedRecall:\n",
      "0.475\n",
      "\n",
      "weightedFMeasure:\n",
      "0.458\n",
      "\n",
      "------------------------------------------------------\n",
      "------------------------------------------------------\n",
      "Model: MultilayerPerceptronClassifier\n"
     ]
    },
    {
     "name": "stderr",
     "output_type": "stream",
     "text": [
      "[Stage 1610:==================>                                  (12 + 22) / 34]\r"
     ]
    },
    {
     "name": "stdout",
     "output_type": "stream",
     "text": [
      "Evaluation:\n",
      "accuracy:\n",
      "0.392\n",
      "\n",
      "weightedPrecision:\n",
      "0.397\n",
      "\n",
      "weightedRecall:\n",
      "0.398\n",
      "\n",
      "weightedFMeasure:\n",
      "0.375\n",
      "\n",
      "------------------------------------------------------\n",
      "------------------------------------------------------\n"
     ]
    },
    {
     "name": "stderr",
     "output_type": "stream",
     "text": [
      "                                                                                \r"
     ]
    }
   ],
   "source": [
    "models_dict = {}\n",
    "for i,c in enumerate(classif):\n",
    "    models_dict[i] = fit_eval_classif(df_train, df_test, c, target_label)"
   ]
  },
  {
   "cell_type": "markdown",
   "id": "dfe22c45-a85c-454a-aedd-a8ed668c5571",
   "metadata": {},
   "source": [
    "Model: DecisionTreeClassifier\n",
    "                                                                                \n",
    "Evaluation:\n",
    "\n",
    "    accuracy:\n",
    "    0.47\n",
    "    \n",
    "    weightedPrecision:\n",
    "    0.462\n",
    "    \n",
    "    weightedRecall:\n",
    "    0.473\n",
    "    \n",
    "    weightedFMeasure:\n",
    "    0.463\n",
    "\n",
    "------------------------------------------------------\n",
    "------------------------------------------------------\n",
    "Model: RandomForestClassifier\n",
    "                                                                                \n",
    "Evaluation:\n",
    "\n",
    "    accuracy:\n",
    "    0.472\n",
    "    \n",
    "    weightedPrecision:\n",
    "    0.472\n",
    "    \n",
    "    weightedRecall:\n",
    "    0.475\n",
    "    \n",
    "    weightedFMeasure:\n",
    "    0.459\n",
    "\n",
    "------------------------------------------------------\n",
    "------------------------------------------------------\n",
    "Model: MultilayerPerceptronClassifier\n",
    "\n",
    "Evaluation:\n",
    "\n",
    "    accuracy:\n",
    "    0.392\n",
    "    \n",
    "    weightedPrecision:\n",
    "    0.397\n",
    "    \n",
    "    weightedRecall:\n",
    "    0.398\n",
    "    \n",
    "    weightedFMeasure:\n",
    "    0.375"
   ]
  },
  {
   "cell_type": "markdown",
   "id": "33d2ba25-3460-4852-bc4d-f3cdc9bbb073",
   "metadata": {},
   "source": [
    "#### Models summary"
   ]
  },
  {
   "cell_type": "code",
   "execution_count": 82,
   "id": "23fc0b97-60dd-4fa8-8d87-b8d8e63a677b",
   "metadata": {
    "tags": []
   },
   "outputs": [
    {
     "name": "stdout",
     "output_type": "stream",
     "text": [
      "Model 0 Feature Importance:\n",
      "(15,[0,1,2,3,4,5,6,7,8,9,10,11,12,13,14],[0.00635446848059344,0.007357143789347574,0.0035076617298173797,0.020937389725306402,0.7395938181004239,0.003576848804915389,0.015532623099612588,0.022428603202269526,0.024373738352981088,0.010055997218138277,0.017774572584371713,0.044961410692589035,0.0003428559719747811,0.000943421432419977,0.0822594468152388])\n",
      "\n",
      "Model 1 Feature Importance:\n",
      "(15,[0,1,2,3,4,5,6,7,8,9,10,11,12,13,14],[0.013309161018733385,0.005685811270593756,0.011537672426633575,0.022237186019938314,0.5919351798487857,0.008773175776874677,0.01212300042576539,0.02315992243113917,0.05872218540373081,0.01923832276444354,0.08649736924741117,0.05397615650438582,0.029189129502815454,0.00578678086201306,0.05782894649673599])\n",
      "\n",
      "Model 2 Feature Importance:\n",
      "None\n",
      "\n"
     ]
    }
   ],
   "source": [
    "for i, (model, evaluations, predictions, feat_imp) in models_dict.items():\n",
    "    print(f\"Model {i} Feature Importance:\")\n",
    "    print(feat_imp)\n",
    "    print()"
   ]
  },
  {
   "cell_type": "code",
   "execution_count": 83,
   "id": "2e6a49be-edce-4476-a251-a90bedb0fa17",
   "metadata": {
    "tags": []
   },
   "outputs": [
    {
     "name": "stdout",
     "output_type": "stream",
     "text": [
      "['hasKitchen', 'cellar', 'lift', 'log_pictureCount', 'log_yearConstructed', 'log_floor', 'log_numberOfFloors', 'log_serviceCharge', 'log_baseRent', 'log_livingSpace', 'log_thermalChar', 'interiorQual', 'regio1']\n"
     ]
    }
   ],
   "source": [
    "print(important_atts)"
   ]
  },
  {
   "cell_type": "code",
   "execution_count": 84,
   "id": "6c6cb740-9d6e-4228-b34d-608b7d1474b2",
   "metadata": {
    "tags": []
   },
   "outputs": [],
   "source": [
    "#for m in models_dict:\n",
    "#    print(models_dict[m])\n",
    "#    print(\"------------------------------------------------------------\")\n",
    "#    print(\"------------------------------------------------------------\")"
   ]
  },
  {
   "cell_type": "markdown",
   "id": "7563b7eb-3357-41fc-abcd-3e5639d05e3c",
   "metadata": {},
   "source": [
    "### Confusion matrices"
   ]
  },
  {
   "cell_type": "code",
   "execution_count": 85,
   "id": "6292de80-5469-41a0-825d-c652b979c5ed",
   "metadata": {
    "tags": []
   },
   "outputs": [],
   "source": [
    "def conf_mx(predictions, target_label, model_name):\n",
    "    # confusion matrix\n",
    "    confusion_matrix = predictions.groupBy(target_label, \"prediction\").count()\n",
    "\n",
    "    # more readable\n",
    "    confusion = confusion_matrix.groupBy(target_label).pivot(\"prediction\").sum(\"count\").na.fill(0)\n",
    "\n",
    "    # need pandas df for Seaborn\n",
    "    confusion_pd = confusion.toPandas()\n",
    "    \n",
    "    # sort the conf matrix based on the target\n",
    "    confusion_pd = confusion_pd.sort_values(by = target_label)\n",
    "\n",
    "    # color palette\n",
    "    sns.set_theme()\n",
    "\n",
    "    # confusion mat heatmap\n",
    "    plt.figure(figsize = (8, 6))\n",
    "    sns.heatmap(confusion_pd, annot = True, fmt=\".0f\", cmap = \"Blues\", linewidths = .5, cbar_kws = {\"shrink\": 0.8})\n",
    "\n",
    "    plt.xlabel(\"Predicted Label\", fontsize = 12)\n",
    "    plt.ylabel(\"True Label\", fontsize = 12)\n",
    "    plt.title(f\"Confusion Matrix for {model_name}\", fontsize = 14, loc = \"center\")\n",
    "    \n",
    "    plt.yticks([])\n",
    "\n",
    "    plt.show()\n",
    "    \n",
    "    print(\"-------------------------------------------------------------------------------------\")\n",
    "    print(\"-------------------------------------------------------------------------------------\")\n",
    "    print(\"-------------------------------------------------------------------------------------\\n\")"
   ]
  },
  {
   "cell_type": "code",
   "execution_count": 86,
   "id": "9702a699-0c31-4946-a29c-aca3194de244",
   "metadata": {
    "tags": []
   },
   "outputs": [],
   "source": [
    "models_names = [c.uid.split(\"_\")[0] for c in classif]"
   ]
  },
  {
   "cell_type": "code",
   "execution_count": 87,
   "id": "25069b69-17fc-445d-9bf7-75475eb7a901",
   "metadata": {
    "tags": []
   },
   "outputs": [
    {
     "name": "stdout",
     "output_type": "stream",
     "text": [
      "Confusion Matrix for DecisionTreeClassifier\n"
     ]
    },
    {
     "name": "stderr",
     "output_type": "stream",
     "text": [
      "23/12/15 17:37:58 WARN RowBasedKeyValueBatch: Calling spill() on RowBasedKeyValueBatch. Will not spill but return 0.\n",
      "23/12/15 17:37:58 WARN RowBasedKeyValueBatch: Calling spill() on RowBasedKeyValueBatch. Will not spill but return 0.\n",
      "23/12/15 17:37:58 WARN RowBasedKeyValueBatch: Calling spill() on RowBasedKeyValueBatch. Will not spill but return 0.\n",
      "23/12/15 17:37:58 WARN RowBasedKeyValueBatch: Calling spill() on RowBasedKeyValueBatch. Will not spill but return 0.\n",
      "23/12/15 17:38:00 WARN RowBasedKeyValueBatch: Calling spill() on RowBasedKeyValueBatch. Will not spill but return 0.\n",
      "23/12/15 17:38:00 WARN RowBasedKeyValueBatch: Calling spill() on RowBasedKeyValueBatch. Will not spill but return 0.\n",
      "23/12/15 17:38:00 WARN RowBasedKeyValueBatch: Calling spill() on RowBasedKeyValueBatch. Will not spill but return 0.\n",
      "23/12/15 17:38:00 WARN RowBasedKeyValueBatch: Calling spill() on RowBasedKeyValueBatch. Will not spill but return 0.\n",
      "23/12/15 17:38:00 WARN RowBasedKeyValueBatch: Calling spill() on RowBasedKeyValueBatch. Will not spill but return 0.\n",
      "23/12/15 17:38:00 WARN RowBasedKeyValueBatch: Calling spill() on RowBasedKeyValueBatch. Will not spill but return 0.\n",
      "23/12/15 17:38:00 WARN RowBasedKeyValueBatch: Calling spill() on RowBasedKeyValueBatch. Will not spill but return 0.\n",
      "23/12/15 17:38:00 WARN RowBasedKeyValueBatch: Calling spill() on RowBasedKeyValueBatch. Will not spill but return 0.\n",
      "23/12/15 17:38:00 WARN RowBasedKeyValueBatch: Calling spill() on RowBasedKeyValueBatch. Will not spill but return 0.\n",
      "23/12/15 17:38:00 WARN RowBasedKeyValueBatch: Calling spill() on RowBasedKeyValueBatch. Will not spill but return 0.\n",
      "23/12/15 17:38:00 WARN RowBasedKeyValueBatch: Calling spill() on RowBasedKeyValueBatch. Will not spill but return 0.\n",
      "23/12/15 17:38:00 WARN RowBasedKeyValueBatch: Calling spill() on RowBasedKeyValueBatch. Will not spill but return 0.\n",
      "23/12/15 17:38:00 WARN RowBasedKeyValueBatch: Calling spill() on RowBasedKeyValueBatch. Will not spill but return 0.\n",
      "23/12/15 17:38:00 WARN RowBasedKeyValueBatch: Calling spill() on RowBasedKeyValueBatch. Will not spill but return 0.\n",
      "23/12/15 17:38:00 WARN RowBasedKeyValueBatch: Calling spill() on RowBasedKeyValueBatch. Will not spill but return 0.\n",
      "23/12/15 17:38:01 WARN RowBasedKeyValueBatch: Calling spill() on RowBasedKeyValueBatch. Will not spill but return 0.\n",
      "23/12/15 17:38:01 WARN RowBasedKeyValueBatch: Calling spill() on RowBasedKeyValueBatch. Will not spill but return 0.\n",
      "23/12/15 17:38:01 WARN RowBasedKeyValueBatch: Calling spill() on RowBasedKeyValueBatch. Will not spill but return 0.\n",
      "23/12/15 17:38:01 WARN RowBasedKeyValueBatch: Calling spill() on RowBasedKeyValueBatch. Will not spill but return 0.\n",
      "23/12/15 17:38:01 WARN RowBasedKeyValueBatch: Calling spill() on RowBasedKeyValueBatch. Will not spill but return 0.\n",
      "23/12/15 17:38:01 WARN RowBasedKeyValueBatch: Calling spill() on RowBasedKeyValueBatch. Will not spill but return 0.\n",
      "23/12/15 17:38:01 WARN RowBasedKeyValueBatch: Calling spill() on RowBasedKeyValueBatch. Will not spill but return 0.\n",
      "23/12/15 17:38:01 WARN RowBasedKeyValueBatch: Calling spill() on RowBasedKeyValueBatch. Will not spill but return 0.\n",
      "23/12/15 17:38:01 WARN RowBasedKeyValueBatch: Calling spill() on RowBasedKeyValueBatch. Will not spill but return 0.\n",
      "23/12/15 17:38:01 WARN RowBasedKeyValueBatch: Calling spill() on RowBasedKeyValueBatch. Will not spill but return 0.\n",
      "23/12/15 17:38:01 WARN RowBasedKeyValueBatch: Calling spill() on RowBasedKeyValueBatch. Will not spill but return 0.\n",
      "23/12/15 17:38:01 WARN RowBasedKeyValueBatch: Calling spill() on RowBasedKeyValueBatch. Will not spill but return 0.\n",
      "23/12/15 17:38:03 WARN RowBasedKeyValueBatch: Calling spill() on RowBasedKeyValueBatch. Will not spill but return 0.\n",
      "23/12/15 17:38:27 WARN RowBasedKeyValueBatch: Calling spill() on RowBasedKeyValueBatch. Will not spill but return 0.\n",
      "23/12/15 17:38:27 WARN RowBasedKeyValueBatch: Calling spill() on RowBasedKeyValueBatch. Will not spill but return 0.\n",
      "23/12/15 17:38:27 WARN RowBasedKeyValueBatch: Calling spill() on RowBasedKeyValueBatch. Will not spill but return 0.\n",
      "23/12/15 17:38:27 WARN RowBasedKeyValueBatch: Calling spill() on RowBasedKeyValueBatch. Will not spill but return 0.\n",
      "23/12/15 17:38:27 WARN RowBasedKeyValueBatch: Calling spill() on RowBasedKeyValueBatch. Will not spill but return 0.\n",
      "23/12/15 17:38:27 WARN RowBasedKeyValueBatch: Calling spill() on RowBasedKeyValueBatch. Will not spill but return 0.\n",
      "23/12/15 17:38:28 WARN RowBasedKeyValueBatch: Calling spill() on RowBasedKeyValueBatch. Will not spill but return 0.\n",
      "23/12/15 17:38:28 WARN RowBasedKeyValueBatch: Calling spill() on RowBasedKeyValueBatch. Will not spill but return 0.\n",
      "23/12/15 17:38:28 WARN RowBasedKeyValueBatch: Calling spill() on RowBasedKeyValueBatch. Will not spill but return 0.\n",
      "23/12/15 17:38:28 WARN RowBasedKeyValueBatch: Calling spill() on RowBasedKeyValueBatch. Will not spill but return 0.\n",
      "23/12/15 17:38:28 WARN RowBasedKeyValueBatch: Calling spill() on RowBasedKeyValueBatch. Will not spill but return 0.\n",
      "23/12/15 17:38:28 WARN RowBasedKeyValueBatch: Calling spill() on RowBasedKeyValueBatch. Will not spill but return 0.\n",
      "23/12/15 17:38:28 WARN RowBasedKeyValueBatch: Calling spill() on RowBasedKeyValueBatch. Will not spill but return 0.\n",
      "23/12/15 17:38:28 WARN RowBasedKeyValueBatch: Calling spill() on RowBasedKeyValueBatch. Will not spill but return 0.\n",
      "23/12/15 17:38:28 WARN RowBasedKeyValueBatch: Calling spill() on RowBasedKeyValueBatch. Will not spill but return 0.\n",
      "23/12/15 17:38:28 WARN RowBasedKeyValueBatch: Calling spill() on RowBasedKeyValueBatch. Will not spill but return 0.\n",
      "23/12/15 17:38:28 WARN RowBasedKeyValueBatch: Calling spill() on RowBasedKeyValueBatch. Will not spill but return 0.\n",
      "23/12/15 17:38:28 WARN RowBasedKeyValueBatch: Calling spill() on RowBasedKeyValueBatch. Will not spill but return 0.\n",
      "23/12/15 17:38:28 WARN RowBasedKeyValueBatch: Calling spill() on RowBasedKeyValueBatch. Will not spill but return 0.\n",
      "23/12/15 17:38:28 WARN RowBasedKeyValueBatch: Calling spill() on RowBasedKeyValueBatch. Will not spill but return 0.\n",
      "23/12/15 17:38:29 WARN RowBasedKeyValueBatch: Calling spill() on RowBasedKeyValueBatch. Will not spill but return 0.\n",
      "23/12/15 17:38:29 WARN RowBasedKeyValueBatch: Calling spill() on RowBasedKeyValueBatch. Will not spill but return 0.\n",
      "23/12/15 17:38:29 WARN RowBasedKeyValueBatch: Calling spill() on RowBasedKeyValueBatch. Will not spill but return 0.\n",
      "23/12/15 17:38:29 WARN RowBasedKeyValueBatch: Calling spill() on RowBasedKeyValueBatch. Will not spill but return 0.\n",
      "23/12/15 17:38:29 WARN RowBasedKeyValueBatch: Calling spill() on RowBasedKeyValueBatch. Will not spill but return 0.\n",
      "23/12/15 17:38:29 WARN RowBasedKeyValueBatch: Calling spill() on RowBasedKeyValueBatch. Will not spill but return 0.\n",
      "23/12/15 17:38:29 WARN RowBasedKeyValueBatch: Calling spill() on RowBasedKeyValueBatch. Will not spill but return 0.\n",
      "23/12/15 17:38:29 WARN RowBasedKeyValueBatch: Calling spill() on RowBasedKeyValueBatch. Will not spill but return 0.\n",
      "23/12/15 17:38:29 WARN RowBasedKeyValueBatch: Calling spill() on RowBasedKeyValueBatch. Will not spill but return 0.\n",
      "23/12/15 17:38:29 WARN RowBasedKeyValueBatch: Calling spill() on RowBasedKeyValueBatch. Will not spill but return 0.\n",
      "23/12/15 17:38:30 WARN RowBasedKeyValueBatch: Calling spill() on RowBasedKeyValueBatch. Will not spill but return 0.\n",
      "23/12/15 17:38:30 WARN RowBasedKeyValueBatch: Calling spill() on RowBasedKeyValueBatch. Will not spill but return 0.\n",
      "                                                                                \r"
     ]
    },
    {
     "data": {
      "image/png": "[encoded data removed]",
      "text/plain": [
       "<Figure size 800x600 with 2 Axes>"
      ]
     },
     "metadata": {},
     "output_type": "display_data"
    },
    {
     "name": "stdout",
     "output_type": "stream",
     "text": [
      "-------------------------------------------------------------------------------------\n",
      "-------------------------------------------------------------------------------------\n",
      "-------------------------------------------------------------------------------------\n",
      "\n",
      "Confusion Matrix for RandomForestClassifier\n"
     ]
    },
    {
     "name": "stderr",
     "output_type": "stream",
     "text": [
      "23/12/15 17:38:55 WARN RowBasedKeyValueBatch: Calling spill() on RowBasedKeyValueBatch. Will not spill but return 0.\n",
      "23/12/15 17:38:56 WARN RowBasedKeyValueBatch: Calling spill() on RowBasedKeyValueBatch. Will not spill but return 0.\n",
      "23/12/15 17:38:56 WARN RowBasedKeyValueBatch: Calling spill() on RowBasedKeyValueBatch. Will not spill but return 0.\n",
      "23/12/15 17:38:56 WARN RowBasedKeyValueBatch: Calling spill() on RowBasedKeyValueBatch. Will not spill but return 0.\n",
      "23/12/15 17:38:56 WARN RowBasedKeyValueBatch: Calling spill() on RowBasedKeyValueBatch. Will not spill but return 0.\n",
      "23/12/15 17:38:56 WARN RowBasedKeyValueBatch: Calling spill() on RowBasedKeyValueBatch. Will not spill but return 0.\n",
      "23/12/15 17:38:57 WARN RowBasedKeyValueBatch: Calling spill() on RowBasedKeyValueBatch. Will not spill but return 0.\n",
      "23/12/15 17:38:57 WARN RowBasedKeyValueBatch: Calling spill() on RowBasedKeyValueBatch. Will not spill but return 0.\n",
      "23/12/15 17:39:00 WARN RowBasedKeyValueBatch: Calling spill() on RowBasedKeyValueBatch. Will not spill but return 0.\n",
      "23/12/15 17:39:00 WARN RowBasedKeyValueBatch: Calling spill() on RowBasedKeyValueBatch. Will not spill but return 0.\n",
      "23/12/15 17:39:00 WARN RowBasedKeyValueBatch: Calling spill() on RowBasedKeyValueBatch. Will not spill but return 0.\n",
      "23/12/15 17:39:00 WARN RowBasedKeyValueBatch: Calling spill() on RowBasedKeyValueBatch. Will not spill but return 0.\n",
      "23/12/15 17:39:00 WARN RowBasedKeyValueBatch: Calling spill() on RowBasedKeyValueBatch. Will not spill but return 0.\n",
      "23/12/15 17:39:00 WARN RowBasedKeyValueBatch: Calling spill() on RowBasedKeyValueBatch. Will not spill but return 0.\n",
      "23/12/15 17:39:00 WARN RowBasedKeyValueBatch: Calling spill() on RowBasedKeyValueBatch. Will not spill but return 0.\n",
      "23/12/15 17:39:00 WARN RowBasedKeyValueBatch: Calling spill() on RowBasedKeyValueBatch. Will not spill but return 0.\n",
      "23/12/15 17:39:00 WARN RowBasedKeyValueBatch: Calling spill() on RowBasedKeyValueBatch. Will not spill but return 0.\n",
      "23/12/15 17:39:00 WARN RowBasedKeyValueBatch: Calling spill() on RowBasedKeyValueBatch. Will not spill but return 0.\n",
      "23/12/15 17:39:00 WARN RowBasedKeyValueBatch: Calling spill() on RowBasedKeyValueBatch. Will not spill but return 0.\n",
      "23/12/15 17:39:00 WARN RowBasedKeyValueBatch: Calling spill() on RowBasedKeyValueBatch. Will not spill but return 0.\n",
      "23/12/15 17:39:00 WARN RowBasedKeyValueBatch: Calling spill() on RowBasedKeyValueBatch. Will not spill but return 0.\n",
      "23/12/15 17:39:00 WARN RowBasedKeyValueBatch: Calling spill() on RowBasedKeyValueBatch. Will not spill but return 0.\n",
      "23/12/15 17:39:00 WARN RowBasedKeyValueBatch: Calling spill() on RowBasedKeyValueBatch. Will not spill but return 0.\n",
      "23/12/15 17:39:01 WARN RowBasedKeyValueBatch: Calling spill() on RowBasedKeyValueBatch. Will not spill but return 0.\n",
      "23/12/15 17:39:01 WARN RowBasedKeyValueBatch: Calling spill() on RowBasedKeyValueBatch. Will not spill but return 0.\n",
      "23/12/15 17:39:01 WARN RowBasedKeyValueBatch: Calling spill() on RowBasedKeyValueBatch. Will not spill but return 0.\n",
      "23/12/15 17:39:01 WARN RowBasedKeyValueBatch: Calling spill() on RowBasedKeyValueBatch. Will not spill but return 0.\n",
      "23/12/15 17:39:01 WARN RowBasedKeyValueBatch: Calling spill() on RowBasedKeyValueBatch. Will not spill but return 0.\n",
      "23/12/15 17:39:01 WARN RowBasedKeyValueBatch: Calling spill() on RowBasedKeyValueBatch. Will not spill but return 0.\n",
      "23/12/15 17:39:01 WARN RowBasedKeyValueBatch: Calling spill() on RowBasedKeyValueBatch. Will not spill but return 0.\n",
      "23/12/15 17:39:02 WARN RowBasedKeyValueBatch: Calling spill() on RowBasedKeyValueBatch. Will not spill but return 0.\n",
      "23/12/15 17:39:26 WARN RowBasedKeyValueBatch: Calling spill() on RowBasedKeyValueBatch. Will not spill but return 0.\n",
      "23/12/15 17:39:27 WARN RowBasedKeyValueBatch: Calling spill() on RowBasedKeyValueBatch. Will not spill but return 0.\n",
      "23/12/15 17:39:26 WARN RowBasedKeyValueBatch: Calling spill() on RowBasedKeyValueBatch. Will not spill but return 0.\n",
      "23/12/15 17:39:27 WARN RowBasedKeyValueBatch: Calling spill() on RowBasedKeyValueBatch. Will not spill but return 0.\n",
      "23/12/15 17:39:27 WARN RowBasedKeyValueBatch: Calling spill() on RowBasedKeyValueBatch. Will not spill but return 0.\n",
      "23/12/15 17:39:27 WARN RowBasedKeyValueBatch: Calling spill() on RowBasedKeyValueBatch. Will not spill but return 0.\n",
      "23/12/15 17:39:27 WARN RowBasedKeyValueBatch: Calling spill() on RowBasedKeyValueBatch. Will not spill but return 0.\n",
      "23/12/15 17:39:27 WARN RowBasedKeyValueBatch: Calling spill() on RowBasedKeyValueBatch. Will not spill but return 0.\n",
      "23/12/15 17:39:27 WARN RowBasedKeyValueBatch: Calling spill() on RowBasedKeyValueBatch. Will not spill but return 0.\n",
      "23/12/15 17:39:27 WARN RowBasedKeyValueBatch: Calling spill() on RowBasedKeyValueBatch. Will not spill but return 0.\n",
      "23/12/15 17:39:27 WARN RowBasedKeyValueBatch: Calling spill() on RowBasedKeyValueBatch. Will not spill but return 0.\n",
      "23/12/15 17:39:28 WARN RowBasedKeyValueBatch: Calling spill() on RowBasedKeyValueBatch. Will not spill but return 0.\n",
      "23/12/15 17:39:28 WARN RowBasedKeyValueBatch: Calling spill() on RowBasedKeyValueBatch. Will not spill but return 0.\n",
      "23/12/15 17:39:28 WARN RowBasedKeyValueBatch: Calling spill() on RowBasedKeyValueBatch. Will not spill but return 0.\n",
      "23/12/15 17:39:28 WARN RowBasedKeyValueBatch: Calling spill() on RowBasedKeyValueBatch. Will not spill but return 0.\n",
      "23/12/15 17:39:28 WARN RowBasedKeyValueBatch: Calling spill() on RowBasedKeyValueBatch. Will not spill but return 0.\n",
      "23/12/15 17:39:28 WARN RowBasedKeyValueBatch: Calling spill() on RowBasedKeyValueBatch. Will not spill but return 0.\n",
      "23/12/15 17:39:29 WARN RowBasedKeyValueBatch: Calling spill() on RowBasedKeyValueBatch. Will not spill but return 0.\n",
      "23/12/15 17:39:29 WARN RowBasedKeyValueBatch: Calling spill() on RowBasedKeyValueBatch. Will not spill but return 0.\n",
      "23/12/15 17:39:29 WARN RowBasedKeyValueBatch: Calling spill() on RowBasedKeyValueBatch. Will not spill but return 0.\n",
      "23/12/15 17:39:29 WARN RowBasedKeyValueBatch: Calling spill() on RowBasedKeyValueBatch. Will not spill but return 0.\n",
      "23/12/15 17:39:29 WARN RowBasedKeyValueBatch: Calling spill() on RowBasedKeyValueBatch. Will not spill but return 0.\n",
      "23/12/15 17:39:29 WARN RowBasedKeyValueBatch: Calling spill() on RowBasedKeyValueBatch. Will not spill but return 0.\n",
      "23/12/15 17:39:31 WARN RowBasedKeyValueBatch: Calling spill() on RowBasedKeyValueBatch. Will not spill but return 0.\n",
      "23/12/15 17:39:31 WARN RowBasedKeyValueBatch: Calling spill() on RowBasedKeyValueBatch. Will not spill but return 0.\n",
      "23/12/15 17:39:31 WARN RowBasedKeyValueBatch: Calling spill() on RowBasedKeyValueBatch. Will not spill but return 0.\n",
      "23/12/15 17:39:31 WARN RowBasedKeyValueBatch: Calling spill() on RowBasedKeyValueBatch. Will not spill but return 0.\n",
      "23/12/15 17:39:31 WARN RowBasedKeyValueBatch: Calling spill() on RowBasedKeyValueBatch. Will not spill but return 0.\n",
      "23/12/15 17:39:31 WARN RowBasedKeyValueBatch: Calling spill() on RowBasedKeyValueBatch. Will not spill but return 0.\n",
      "23/12/15 17:39:32 WARN RowBasedKeyValueBatch: Calling spill() on RowBasedKeyValueBatch. Will not spill but return 0.\n",
      "23/12/15 17:39:32 WARN RowBasedKeyValueBatch: Calling spill() on RowBasedKeyValueBatch. Will not spill but return 0.\n",
      "23/12/15 17:39:32 WARN RowBasedKeyValueBatch: Calling spill() on RowBasedKeyValueBatch. Will not spill but return 0.\n",
      "                                                                                \r"
     ]
    },
    {
     "data": {
      "image/png": "[encoded data removed]",
      "text/plain": [
       "<Figure size 800x600 with 2 Axes>"
      ]
     },
     "metadata": {},
     "output_type": "display_data"
    },
    {
     "name": "stdout",
     "output_type": "stream",
     "text": [
      "-------------------------------------------------------------------------------------\n",
      "-------------------------------------------------------------------------------------\n",
      "-------------------------------------------------------------------------------------\n",
      "\n",
      "Confusion Matrix for MultilayerPerceptronClassifier\n"
     ]
    },
    {
     "name": "stderr",
     "output_type": "stream",
     "text": [
      "23/12/15 17:40:00 WARN RowBasedKeyValueBatch: Calling spill() on RowBasedKeyValueBatch. Will not spill but return 0.\n",
      "23/12/15 17:40:00 WARN RowBasedKeyValueBatch: Calling spill() on RowBasedKeyValueBatch. Will not spill but return 0.\n",
      "23/12/15 17:40:01 WARN RowBasedKeyValueBatch: Calling spill() on RowBasedKeyValueBatch. Will not spill but return 0.\n",
      "23/12/15 17:40:01 WARN RowBasedKeyValueBatch: Calling spill() on RowBasedKeyValueBatch. Will not spill but return 0.\n",
      "23/12/15 17:40:01 WARN RowBasedKeyValueBatch: Calling spill() on RowBasedKeyValueBatch. Will not spill but return 0.\n",
      "23/12/15 17:40:01 WARN RowBasedKeyValueBatch: Calling spill() on RowBasedKeyValueBatch. Will not spill but return 0.\n",
      "23/12/15 17:40:01 WARN RowBasedKeyValueBatch: Calling spill() on RowBasedKeyValueBatch. Will not spill but return 0.\n",
      "23/12/15 17:40:01 WARN RowBasedKeyValueBatch: Calling spill() on RowBasedKeyValueBatch. Will not spill but return 0.\n",
      "23/12/15 17:40:01 WARN RowBasedKeyValueBatch: Calling spill() on RowBasedKeyValueBatch. Will not spill but return 0.\n",
      "23/12/15 17:40:01 WARN RowBasedKeyValueBatch: Calling spill() on RowBasedKeyValueBatch. Will not spill but return 0.\n",
      "23/12/15 17:40:01 WARN RowBasedKeyValueBatch: Calling spill() on RowBasedKeyValueBatch. Will not spill but return 0.\n",
      "23/12/15 17:40:01 WARN RowBasedKeyValueBatch: Calling spill() on RowBasedKeyValueBatch. Will not spill but return 0.\n",
      "23/12/15 17:40:01 WARN RowBasedKeyValueBatch: Calling spill() on RowBasedKeyValueBatch. Will not spill but return 0.\n",
      "23/12/15 17:40:01 WARN RowBasedKeyValueBatch: Calling spill() on RowBasedKeyValueBatch. Will not spill but return 0.\n",
      "23/12/15 17:40:01 WARN RowBasedKeyValueBatch: Calling spill() on RowBasedKeyValueBatch. Will not spill but return 0.\n",
      "23/12/15 17:40:01 WARN RowBasedKeyValueBatch: Calling spill() on RowBasedKeyValueBatch. Will not spill but return 0.\n",
      "23/12/15 17:40:01 WARN RowBasedKeyValueBatch: Calling spill() on RowBasedKeyValueBatch. Will not spill but return 0.\n",
      "23/12/15 17:40:01 WARN RowBasedKeyValueBatch: Calling spill() on RowBasedKeyValueBatch. Will not spill but return 0.\n",
      "23/12/15 17:40:01 WARN RowBasedKeyValueBatch: Calling spill() on RowBasedKeyValueBatch. Will not spill but return 0.\n",
      "23/12/15 17:40:01 WARN RowBasedKeyValueBatch: Calling spill() on RowBasedKeyValueBatch. Will not spill but return 0.\n",
      "23/12/15 17:40:02 WARN RowBasedKeyValueBatch: Calling spill() on RowBasedKeyValueBatch. Will not spill but return 0.\n",
      "23/12/15 17:40:02 WARN RowBasedKeyValueBatch: Calling spill() on RowBasedKeyValueBatch. Will not spill but return 0.\n",
      "23/12/15 17:40:02 WARN RowBasedKeyValueBatch: Calling spill() on RowBasedKeyValueBatch. Will not spill but return 0.\n",
      "23/12/15 17:40:02 WARN RowBasedKeyValueBatch: Calling spill() on RowBasedKeyValueBatch. Will not spill but return 0.\n",
      "23/12/15 17:40:02 WARN RowBasedKeyValueBatch: Calling spill() on RowBasedKeyValueBatch. Will not spill but return 0.\n",
      "23/12/15 17:40:02 WARN RowBasedKeyValueBatch: Calling spill() on RowBasedKeyValueBatch. Will not spill but return 0.\n",
      "23/12/15 17:40:02 WARN RowBasedKeyValueBatch: Calling spill() on RowBasedKeyValueBatch. Will not spill but return 0.\n",
      "23/12/15 17:40:02 WARN RowBasedKeyValueBatch: Calling spill() on RowBasedKeyValueBatch. Will not spill but return 0.\n",
      "23/12/15 17:40:02 WARN RowBasedKeyValueBatch: Calling spill() on RowBasedKeyValueBatch. Will not spill but return 0.\n",
      "23/12/15 17:40:02 WARN RowBasedKeyValueBatch: Calling spill() on RowBasedKeyValueBatch. Will not spill but return 0.\n",
      "23/12/15 17:40:02 WARN RowBasedKeyValueBatch: Calling spill() on RowBasedKeyValueBatch. Will not spill but return 0.\n",
      "23/12/15 17:40:02 WARN RowBasedKeyValueBatch: Calling spill() on RowBasedKeyValueBatch. Will not spill but return 0.\n",
      "23/12/15 17:40:08 WARN RowBasedKeyValueBatch: Calling spill() on RowBasedKeyValueBatch. Will not spill but return 0.\n",
      "23/12/15 17:40:29 WARN RowBasedKeyValueBatch: Calling spill() on RowBasedKeyValueBatch. Will not spill but return 0.\n",
      "23/12/15 17:40:29 WARN RowBasedKeyValueBatch: Calling spill() on RowBasedKeyValueBatch. Will not spill but return 0.\n",
      "23/12/15 17:40:29 WARN RowBasedKeyValueBatch: Calling spill() on RowBasedKeyValueBatch. Will not spill but return 0.\n",
      "23/12/15 17:40:30 WARN RowBasedKeyValueBatch: Calling spill() on RowBasedKeyValueBatch. Will not spill but return 0.\n",
      "23/12/15 17:40:30 WARN RowBasedKeyValueBatch: Calling spill() on RowBasedKeyValueBatch. Will not spill but return 0.\n",
      "23/12/15 17:40:30 WARN RowBasedKeyValueBatch: Calling spill() on RowBasedKeyValueBatch. Will not spill but return 0.\n",
      "23/12/15 17:40:30 WARN RowBasedKeyValueBatch: Calling spill() on RowBasedKeyValueBatch. Will not spill but return 0.\n",
      "23/12/15 17:40:30 WARN RowBasedKeyValueBatch: Calling spill() on RowBasedKeyValueBatch. Will not spill but return 0.\n",
      "23/12/15 17:40:30 WARN RowBasedKeyValueBatch: Calling spill() on RowBasedKeyValueBatch. Will not spill but return 0.\n",
      "23/12/15 17:40:30 WARN RowBasedKeyValueBatch: Calling spill() on RowBasedKeyValueBatch. Will not spill but return 0.\n",
      "23/12/15 17:40:30 WARN RowBasedKeyValueBatch: Calling spill() on RowBasedKeyValueBatch. Will not spill but return 0.\n",
      "23/12/15 17:40:30 WARN RowBasedKeyValueBatch: Calling spill() on RowBasedKeyValueBatch. Will not spill but return 0.\n",
      "23/12/15 17:40:30 WARN RowBasedKeyValueBatch: Calling spill() on RowBasedKeyValueBatch. Will not spill but return 0.\n",
      "23/12/15 17:40:30 WARN RowBasedKeyValueBatch: Calling spill() on RowBasedKeyValueBatch. Will not spill but return 0.\n",
      "23/12/15 17:40:30 WARN RowBasedKeyValueBatch: Calling spill() on RowBasedKeyValueBatch. Will not spill but return 0.\n",
      "23/12/15 17:40:30 WARN RowBasedKeyValueBatch: Calling spill() on RowBasedKeyValueBatch. Will not spill but return 0.\n",
      "23/12/15 17:40:32 WARN RowBasedKeyValueBatch: Calling spill() on RowBasedKeyValueBatch. Will not spill but return 0.\n",
      "23/12/15 17:40:32 WARN RowBasedKeyValueBatch: Calling spill() on RowBasedKeyValueBatch. Will not spill but return 0.\n",
      "23/12/15 17:40:32 WARN RowBasedKeyValueBatch: Calling spill() on RowBasedKeyValueBatch. Will not spill but return 0.\n",
      "23/12/15 17:40:32 WARN RowBasedKeyValueBatch: Calling spill() on RowBasedKeyValueBatch. Will not spill but return 0.\n",
      "23/12/15 17:40:32 WARN RowBasedKeyValueBatch: Calling spill() on RowBasedKeyValueBatch. Will not spill but return 0.\n",
      "23/12/15 17:40:32 WARN RowBasedKeyValueBatch: Calling spill() on RowBasedKeyValueBatch. Will not spill but return 0.\n",
      "23/12/15 17:40:32 WARN RowBasedKeyValueBatch: Calling spill() on RowBasedKeyValueBatch. Will not spill but return 0.\n",
      "23/12/15 17:40:32 WARN RowBasedKeyValueBatch: Calling spill() on RowBasedKeyValueBatch. Will not spill but return 0.\n",
      "23/12/15 17:40:33 WARN RowBasedKeyValueBatch: Calling spill() on RowBasedKeyValueBatch. Will not spill but return 0.\n",
      "23/12/15 17:40:33 WARN RowBasedKeyValueBatch: Calling spill() on RowBasedKeyValueBatch. Will not spill but return 0.\n",
      "23/12/15 17:40:33 WARN RowBasedKeyValueBatch: Calling spill() on RowBasedKeyValueBatch. Will not spill but return 0.\n",
      "23/12/15 17:40:33 WARN RowBasedKeyValueBatch: Calling spill() on RowBasedKeyValueBatch. Will not spill but return 0.\n",
      "23/12/15 17:40:33 WARN RowBasedKeyValueBatch: Calling spill() on RowBasedKeyValueBatch. Will not spill but return 0.\n",
      "23/12/15 17:40:33 WARN RowBasedKeyValueBatch: Calling spill() on RowBasedKeyValueBatch. Will not spill but return 0.\n",
      "23/12/15 17:40:33 WARN RowBasedKeyValueBatch: Calling spill() on RowBasedKeyValueBatch. Will not spill but return 0.\n",
      "23/12/15 17:40:33 WARN RowBasedKeyValueBatch: Calling spill() on RowBasedKeyValueBatch. Will not spill but return 0.\n",
      "23/12/15 17:40:37 WARN RowBasedKeyValueBatch: Calling spill() on RowBasedKeyValueBatch. Will not spill but return 0.\n",
      "                                                                                \r"
     ]
    },
    {
     "data": {
      "image/png": "[encoded data removed]",
      "text/plain": [
       "<Figure size 800x600 with 2 Axes>"
      ]
     },
     "metadata": {},
     "output_type": "display_data"
    },
    {
     "name": "stdout",
     "output_type": "stream",
     "text": [
      "-------------------------------------------------------------------------------------\n",
      "-------------------------------------------------------------------------------------\n",
      "-------------------------------------------------------------------------------------\n",
      "\n"
     ]
    }
   ],
   "source": [
    "for i,m in enumerate(models_dict):\n",
    "    print(f\"Confusion Matrix for {models_names[i]}\")\n",
    "    conf_mx(models_dict[m][2], target_label, models_names[i])"
   ]
  },
  {
   "cell_type": "markdown",
   "id": "9eeb026b-ce1c-4133-9009-e5fe2faf8704",
   "metadata": {},
   "source": [
    "#### Saving models"
   ]
  },
  {
   "cell_type": "code",
   "execution_count": 88,
   "id": "253076a8-3650-437c-a3dd-14614fd96969",
   "metadata": {
    "tags": []
   },
   "outputs": [],
   "source": [
    "#for i,m in models_dict.items():\n",
    "#    m[0].write().overwrite().save(\"ddam_project/models/{}_{}\".format(models_names[i], target_label.split(\"_\")[0]))"
   ]
  },
  {
   "cell_type": "code",
   "execution_count": null,
   "id": "fcc3fa5a-debc-4c24-ad02-ed6a4448052b",
   "metadata": {},
   "outputs": [],
   "source": []
  },
  {
   "cell_type": "code",
   "execution_count": null,
   "id": "48642c72-4a74-46b5-b5e9-d9f905ac9181",
   "metadata": {},
   "outputs": [],
   "source": []
  }
 ],
 "metadata": {
  "kernelspec": {
   "display_name": "Python 3 (ipykernel)",
   "language": "python",
   "name": "python3"
  },
  "language_info": {
   "codemirror_mode": {
    "name": "ipython",
    "version": 3
   },
   "file_extension": ".py",
   "mimetype": "text/x-python",
   "name": "python",
   "nbconvert_exporter": "python",
   "pygments_lexer": "ipython3",
   "version": "3.10.11"
  }
 },
 "nbformat": 4,
 "nbformat_minor": 5
}
